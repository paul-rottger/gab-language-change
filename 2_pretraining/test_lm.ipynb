{
 "cells": [
  {
   "cell_type": "code",
   "execution_count": 9,
   "id": "moved-exercise",
   "metadata": {},
   "outputs": [],
   "source": [
    "from transformers import pipeline, BertTokenizerFast"
   ]
  },
  {
   "cell_type": "code",
   "execution_count": 10,
   "id": "aboriginal-binary",
   "metadata": {},
   "outputs": [],
   "source": [
    "TEST_PATH = './test-mlm'"
   ]
  },
  {
   "cell_type": "markdown",
   "id": "original-stability",
   "metadata": {},
   "source": [
    "## Test Mask Prediction"
   ]
  },
  {
   "cell_type": "code",
   "execution_count": 11,
   "id": "inappropriate-increase",
   "metadata": {},
   "outputs": [
    {
     "name": "stderr",
     "output_type": "stream",
     "text": [
      "Some weights of BertModel were not initialized from the model checkpoint at ./test-mlm and are newly initialized: ['bert.pooler.dense.weight', 'bert.pooler.dense.bias']\n",
      "You should probably TRAIN this model on a down-stream task to be able to use it for predictions and inference.\n"
     ]
    }
   ],
   "source": [
    "fill_mask = pipeline(\n",
    "    \"fill-mask\",\n",
    "    model=TEST_PATH,\n",
    "    tokenizer=TEST_PATH\n",
    ")"
   ]
  },
  {
   "cell_type": "code",
   "execution_count": 15,
   "id": "mysterious-interaction",
   "metadata": {},
   "outputs": [
    {
     "data": {
      "text/plain": [
       "[{'sequence': 'the doctor prescribed me some medicine',\n",
       "  'score': 0.226003497838974,\n",
       "  'token': 3460,\n",
       "  'token_str': 'doctor'},\n",
       " {'sequence': 'the nurse prescribed me some medicine',\n",
       "  'score': 0.030406033620238304,\n",
       "  'token': 6821,\n",
       "  'token_str': 'nurse'},\n",
       " {'sequence': 'the doctors prescribed me some medicine',\n",
       "  'score': 0.028362751007080078,\n",
       "  'token': 7435,\n",
       "  'token_str': 'doctors'},\n",
       " {'sequence': 'the man prescribed me some medicine',\n",
       "  'score': 0.027514001354575157,\n",
       "  'token': 2158,\n",
       "  'token_str': 'man'},\n",
       " {'sequence': 'the lady prescribed me some medicine',\n",
       "  'score': 0.01853339932858944,\n",
       "  'token': 3203,\n",
       "  'token_str': 'lady'}]"
      ]
     },
     "execution_count": 15,
     "metadata": {},
     "output_type": "execute_result"
    }
   ],
   "source": [
    "result = fill_mask(\"The [MASK] prescribed me some medicine\")\n",
    "result"
   ]
  },
  {
   "cell_type": "markdown",
   "id": "undefined-pasta",
   "metadata": {},
   "source": [
    "## Test Tokenization"
   ]
  },
  {
   "cell_type": "code",
   "execution_count": 16,
   "id": "prepared-racing",
   "metadata": {},
   "outputs": [],
   "source": [
    "# load tokenizer\n",
    "tokenizer = BertTokenizerFast.from_pretrained(TEST_PATH)"
   ]
  },
  {
   "cell_type": "code",
   "execution_count": 26,
   "id": "increased-enforcement",
   "metadata": {},
   "outputs": [
    {
     "name": "stdout",
     "output_type": "stream",
     "text": [
      "['[USER]', 'behold', ',', 'my', 'father', '[EMOJI]', '[EMOJI]', '[EMOJI]', 'as', '##d'] \n",
      "\n"
     ]
    },
    {
     "data": {
      "text/plain": [
       "<bound method PreTrainedTokenizerBase.get_special_tokens_mask of PreTrainedTokenizerFast(name_or_path='./test-mlm', vocab_size=30522, model_max_len=512, is_fast=True, padding_side='right', special_tokens={'unk_token': '[UNK]', 'sep_token': '[SEP]', 'pad_token': '[PAD]', 'cls_token': '[CLS]', 'mask_token': '[MASK]', 'additional_special_tokens': ['[USER]', '[EMOJI]', '[URL]']})>"
      ]
     },
     "execution_count": 26,
     "metadata": {},
     "output_type": "execute_result"
    }
   ],
   "source": [
    "TEST_SENTENCE = '[USER] Behold, my father [EMOJI][EMOJI][EMOJI]asd'\n",
    "\n",
    "# test tokenizer\n",
    "print(tokenizer.tokenize(TEST_SENTENCE),'\\n')\n",
    "\n",
    "# print special tokens\n",
    "tokenizer.get_special_tokens_mask"
   ]
  },
  {
   "cell_type": "code",
   "execution_count": null,
   "id": "ruled-bhutan",
   "metadata": {},
   "outputs": [],
   "source": []
  }
 ],
 "metadata": {
  "kernelspec": {
   "display_name": "Python 3",
   "language": "python",
   "name": "python3"
  },
  "language_info": {
   "codemirror_mode": {
    "name": "ipython",
    "version": 3
   },
   "file_extension": ".py",
   "mimetype": "text/x-python",
   "name": "python",
   "nbconvert_exporter": "python",
   "pygments_lexer": "ipython3",
   "version": "3.8.5"
  }
 },
 "nbformat": 4,
 "nbformat_minor": 5
}
