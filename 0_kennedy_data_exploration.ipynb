{
 "cells": [
  {
   "cell_type": "markdown",
   "metadata": {},
   "source": [
    "# EXPLORE LABELLED DATA PROVIDED BY AUTHORS"
   ]
  },
  {
   "cell_type": "code",
   "execution_count": 20,
   "metadata": {},
   "outputs": [],
   "source": [
    "import pandas as pd\n",
    "import csv\n",
    "import datetime"
   ]
  },
  {
   "cell_type": "code",
   "execution_count": 4,
   "metadata": {},
   "outputs": [],
   "source": [
    "import_df = pd.read_csv('./Data/ghc_with_pushshift_meta_25850.tsv', sep='\\t')"
   ]
  },
  {
   "cell_type": "code",
   "execution_count": 16,
   "metadata": {},
   "outputs": [
    {
     "data": {
      "text/plain": [
       "20674"
      ]
     },
     "execution_count": 16,
     "metadata": {},
     "output_type": "execute_result"
    }
   ],
   "source": [
    "import_df[import_df.id>9000000].shape[0]"
   ]
  },
  {
   "cell_type": "code",
   "execution_count": 24,
   "metadata": {},
   "outputs": [],
   "source": [
    "kennedy_df = import_df.copy()"
   ]
  },
  {
   "cell_type": "code",
   "execution_count": 25,
   "metadata": {},
   "outputs": [],
   "source": [
    "# change to datetime\n",
    "kennedy_df['created_at'] = kennedy_df.created_at.apply(lambda x: datetime.datetime.strptime(x.split('+')[0], '%Y-%m-%d %H:%M:%S'))"
   ]
  },
  {
   "cell_type": "code",
   "execution_count": 48,
   "metadata": {},
   "outputs": [
    {
     "data": {
      "text/html": [
       "<div>\n",
       "<style scoped>\n",
       "    .dataframe tbody tr th:only-of-type {\n",
       "        vertical-align: middle;\n",
       "    }\n",
       "\n",
       "    .dataframe tbody tr th {\n",
       "        vertical-align: top;\n",
       "    }\n",
       "\n",
       "    .dataframe thead th {\n",
       "        text-align: right;\n",
       "    }\n",
       "</style>\n",
       "<table border=\"1\" class=\"dataframe\">\n",
       "  <thead>\n",
       "    <tr style=\"text-align: right;\">\n",
       "      <th></th>\n",
       "      <th>created_at</th>\n",
       "      <th>number of posts</th>\n",
       "    </tr>\n",
       "  </thead>\n",
       "  <tbody>\n",
       "    <tr>\n",
       "      <th>0</th>\n",
       "      <td>2016-09</td>\n",
       "      <td>5176</td>\n",
       "    </tr>\n",
       "    <tr>\n",
       "      <th>1</th>\n",
       "      <td>2018-01</td>\n",
       "      <td>2108</td>\n",
       "    </tr>\n",
       "    <tr>\n",
       "      <th>2</th>\n",
       "      <td>2018-02</td>\n",
       "      <td>2126</td>\n",
       "    </tr>\n",
       "    <tr>\n",
       "      <th>3</th>\n",
       "      <td>2018-03</td>\n",
       "      <td>2069</td>\n",
       "    </tr>\n",
       "    <tr>\n",
       "      <th>4</th>\n",
       "      <td>2018-04</td>\n",
       "      <td>2060</td>\n",
       "    </tr>\n",
       "    <tr>\n",
       "      <th>5</th>\n",
       "      <td>2018-05</td>\n",
       "      <td>2086</td>\n",
       "    </tr>\n",
       "    <tr>\n",
       "      <th>6</th>\n",
       "      <td>2018-06</td>\n",
       "      <td>2111</td>\n",
       "    </tr>\n",
       "    <tr>\n",
       "      <th>7</th>\n",
       "      <td>2018-07</td>\n",
       "      <td>2062</td>\n",
       "    </tr>\n",
       "    <tr>\n",
       "      <th>8</th>\n",
       "      <td>2018-08</td>\n",
       "      <td>1941</td>\n",
       "    </tr>\n",
       "    <tr>\n",
       "      <th>9</th>\n",
       "      <td>2018-09</td>\n",
       "      <td>2036</td>\n",
       "    </tr>\n",
       "    <tr>\n",
       "      <th>10</th>\n",
       "      <td>2018-10</td>\n",
       "      <td>2075</td>\n",
       "    </tr>\n",
       "  </tbody>\n",
       "</table>\n",
       "</div>"
      ],
      "text/plain": [
       "   created_at  number of posts\n",
       "0     2016-09             5176\n",
       "1     2018-01             2108\n",
       "2     2018-02             2126\n",
       "3     2018-03             2069\n",
       "4     2018-04             2060\n",
       "5     2018-05             2086\n",
       "6     2018-06             2111\n",
       "7     2018-07             2062\n",
       "8     2018-08             1941\n",
       "9     2018-09             2036\n",
       "10    2018-10             2075"
      ]
     },
     "execution_count": 48,
     "metadata": {},
     "output_type": "execute_result"
    }
   ],
   "source": [
    "# number of posts by month\n",
    "kennedy_df.groupby(kennedy_df.created_at.apply(lambda x: x.to_period('M'))).id.count().reset_index().sort_values('created_at').rename(columns={'id':'number of posts'})"
   ]
  },
  {
   "cell_type": "code",
   "execution_count": 53,
   "metadata": {},
   "outputs": [
    {
     "data": {
      "text/plain": [
       "created_at           Hate\n",
       "2016-09-01 03:45:58  0       1\n",
       "2016-09-01 03:46:02  0       2\n",
       "2016-09-01 03:46:03  0       1\n",
       "2016-09-01 03:46:04  0       1\n",
       "2016-09-01 03:46:14  0       1\n",
       "                            ..\n",
       "2018-10-29 00:02:56  1       1\n",
       "2018-10-29 02:08:42  0       1\n",
       "2018-10-29 02:15:20  0       1\n",
       "2018-10-29 02:17:26  0       1\n",
       "2018-10-29 02:20:00  0       1\n",
       "Name: id, Length: 25590, dtype: int64"
      ]
     },
     "execution_count": 53,
     "metadata": {},
     "output_type": "execute_result"
    }
   ],
   "source": [
    "kennedy_df.groupby(['created_at', 'Hate']).id.count()"
   ]
  },
  {
   "cell_type": "code",
   "execution_count": 59,
   "metadata": {},
   "outputs": [
    {
     "name": "stdout",
     "output_type": "stream",
     "text": [
      "2016-09\n",
      "5176 cases, of which 7.3% are hateful\n",
      "\n",
      "2018-01\n",
      "2108 cases, of which 9.0% are hateful\n",
      "\n",
      "2018-02\n",
      "2126 cases, of which 8.5% are hateful\n",
      "\n",
      "2018-03\n",
      "2069 cases, of which 9.2% are hateful\n",
      "\n",
      "2018-04\n",
      "2060 cases, of which 9.0% are hateful\n",
      "\n",
      "2018-05\n",
      "2086 cases, of which 11.1% are hateful\n",
      "\n",
      "2018-06\n",
      "2111 cases, of which 10.6% are hateful\n",
      "\n",
      "2018-07\n",
      "2062 cases, of which 10.4% are hateful\n",
      "\n",
      "2018-08\n",
      "1941 cases, of which 8.6% are hateful\n",
      "\n",
      "2018-09\n",
      "2036 cases, of which 8.8% are hateful\n",
      "\n",
      "2018-10\n",
      "2075 cases, of which 9.1% are hateful\n",
      "\n"
     ]
    }
   ],
   "source": [
    "for month in pd.unique(kennedy_df.created_at.apply(lambda x: x.to_period('M'))):\n",
    "    print(month)\n",
    "    n_hate = kennedy_df[(kennedy_df.created_at.apply(lambda x: x.to_period('M'))==month) & (kennedy_df.Hate==1)].shape[0]\n",
    "    n_total = kennedy_df[(kennedy_df.created_at.apply(lambda x: x.to_period('M'))==month)].shape[0]\n",
    "    print(\"{} cases, of which {:.1%} are hateful\".format(n_total, n_hate/n_total))\n",
    "    print()\n",
    "    "
   ]
  },
  {
   "cell_type": "code",
   "execution_count": 60,
   "metadata": {},
   "outputs": [
    {
     "data": {
      "text/html": [
       "<div>\n",
       "<style scoped>\n",
       "    .dataframe tbody tr th:only-of-type {\n",
       "        vertical-align: middle;\n",
       "    }\n",
       "\n",
       "    .dataframe tbody tr th {\n",
       "        vertical-align: top;\n",
       "    }\n",
       "\n",
       "    .dataframe thead th {\n",
       "        text-align: right;\n",
       "    }\n",
       "</style>\n",
       "<table border=\"1\" class=\"dataframe\">\n",
       "  <thead>\n",
       "    <tr style=\"text-align: right;\">\n",
       "      <th></th>\n",
       "      <th>created_at</th>\n",
       "      <th>Hate</th>\n",
       "      <th>number of posts</th>\n",
       "    </tr>\n",
       "  </thead>\n",
       "  <tbody>\n",
       "    <tr>\n",
       "      <th>0</th>\n",
       "      <td>2016-09</td>\n",
       "      <td>0</td>\n",
       "      <td>4800</td>\n",
       "    </tr>\n",
       "    <tr>\n",
       "      <th>1</th>\n",
       "      <td>2016-09</td>\n",
       "      <td>1</td>\n",
       "      <td>376</td>\n",
       "    </tr>\n",
       "    <tr>\n",
       "      <th>2</th>\n",
       "      <td>2018-01</td>\n",
       "      <td>0</td>\n",
       "      <td>1918</td>\n",
       "    </tr>\n",
       "    <tr>\n",
       "      <th>3</th>\n",
       "      <td>2018-01</td>\n",
       "      <td>1</td>\n",
       "      <td>190</td>\n",
       "    </tr>\n",
       "    <tr>\n",
       "      <th>4</th>\n",
       "      <td>2018-02</td>\n",
       "      <td>0</td>\n",
       "      <td>1945</td>\n",
       "    </tr>\n",
       "    <tr>\n",
       "      <th>5</th>\n",
       "      <td>2018-02</td>\n",
       "      <td>1</td>\n",
       "      <td>181</td>\n",
       "    </tr>\n",
       "    <tr>\n",
       "      <th>6</th>\n",
       "      <td>2018-03</td>\n",
       "      <td>0</td>\n",
       "      <td>1879</td>\n",
       "    </tr>\n",
       "    <tr>\n",
       "      <th>7</th>\n",
       "      <td>2018-03</td>\n",
       "      <td>1</td>\n",
       "      <td>190</td>\n",
       "    </tr>\n",
       "    <tr>\n",
       "      <th>8</th>\n",
       "      <td>2018-04</td>\n",
       "      <td>0</td>\n",
       "      <td>1874</td>\n",
       "    </tr>\n",
       "    <tr>\n",
       "      <th>9</th>\n",
       "      <td>2018-04</td>\n",
       "      <td>1</td>\n",
       "      <td>186</td>\n",
       "    </tr>\n",
       "    <tr>\n",
       "      <th>11</th>\n",
       "      <td>2018-05</td>\n",
       "      <td>1</td>\n",
       "      <td>232</td>\n",
       "    </tr>\n",
       "    <tr>\n",
       "      <th>10</th>\n",
       "      <td>2018-05</td>\n",
       "      <td>0</td>\n",
       "      <td>1854</td>\n",
       "    </tr>\n",
       "    <tr>\n",
       "      <th>12</th>\n",
       "      <td>2018-06</td>\n",
       "      <td>0</td>\n",
       "      <td>1887</td>\n",
       "    </tr>\n",
       "    <tr>\n",
       "      <th>13</th>\n",
       "      <td>2018-06</td>\n",
       "      <td>1</td>\n",
       "      <td>224</td>\n",
       "    </tr>\n",
       "    <tr>\n",
       "      <th>14</th>\n",
       "      <td>2018-07</td>\n",
       "      <td>0</td>\n",
       "      <td>1848</td>\n",
       "    </tr>\n",
       "    <tr>\n",
       "      <th>15</th>\n",
       "      <td>2018-07</td>\n",
       "      <td>1</td>\n",
       "      <td>214</td>\n",
       "    </tr>\n",
       "    <tr>\n",
       "      <th>16</th>\n",
       "      <td>2018-08</td>\n",
       "      <td>0</td>\n",
       "      <td>1774</td>\n",
       "    </tr>\n",
       "    <tr>\n",
       "      <th>17</th>\n",
       "      <td>2018-08</td>\n",
       "      <td>1</td>\n",
       "      <td>167</td>\n",
       "    </tr>\n",
       "    <tr>\n",
       "      <th>18</th>\n",
       "      <td>2018-09</td>\n",
       "      <td>0</td>\n",
       "      <td>1857</td>\n",
       "    </tr>\n",
       "    <tr>\n",
       "      <th>19</th>\n",
       "      <td>2018-09</td>\n",
       "      <td>1</td>\n",
       "      <td>179</td>\n",
       "    </tr>\n",
       "  </tbody>\n",
       "</table>\n",
       "</div>"
      ],
      "text/plain": [
       "   created_at  Hate  number of posts\n",
       "0     2016-09     0             4800\n",
       "1     2016-09     1              376\n",
       "2     2018-01     0             1918\n",
       "3     2018-01     1              190\n",
       "4     2018-02     0             1945\n",
       "5     2018-02     1              181\n",
       "6     2018-03     0             1879\n",
       "7     2018-03     1              190\n",
       "8     2018-04     0             1874\n",
       "9     2018-04     1              186\n",
       "11    2018-05     1              232\n",
       "10    2018-05     0             1854\n",
       "12    2018-06     0             1887\n",
       "13    2018-06     1              224\n",
       "14    2018-07     0             1848\n",
       "15    2018-07     1              214\n",
       "16    2018-08     0             1774\n",
       "17    2018-08     1              167\n",
       "18    2018-09     0             1857\n",
       "19    2018-09     1              179"
      ]
     },
     "execution_count": 60,
     "metadata": {},
     "output_type": "execute_result"
    }
   ],
   "source": [
    "# number of posts by month\n",
    "kennedy_df.groupby([kennedy_df.created_at.apply(lambda x: x.to_period('M')), 'Hate']).id.count().reset_index().sort_values('created_at').rename(columns={'id':'number of posts'}).head(20)"
   ]
  },
  {
   "cell_type": "code",
   "execution_count": 47,
   "metadata": {},
   "outputs": [
    {
     "data": {
      "text/plain": [
       "id\n",
       "0.0     5176\n",
       "17.0     403\n",
       "18.0     986\n",
       "19.0    1577\n",
       "20.0    1027\n",
       "21.0     881\n",
       "22.0    1050\n",
       "23.0    1006\n",
       "24.0     911\n",
       "25.0    1358\n",
       "26.0    1031\n",
       "27.0    1271\n",
       "28.0    1030\n",
       "29.0    1075\n",
       "30.0     956\n",
       "31.0     646\n",
       "32.0     676\n",
       "33.0     526\n",
       "34.0     564\n",
       "35.0     510\n",
       "36.0     560\n",
       "37.0     897\n",
       "38.0     828\n",
       "39.0     563\n",
       "40.0     342\n",
       "Name: id, dtype: int64"
      ]
     },
     "execution_count": 47,
     "metadata": {},
     "output_type": "execute_result"
    }
   ],
   "source": [
    "kennedy_df.groupby(kennedy_df.id.apply(lambda x: round(x/1000000,0))).id.count()"
   ]
  },
  {
   "cell_type": "code",
   "execution_count": 50,
   "metadata": {},
   "outputs": [
    {
     "name": "stdout",
     "output_type": "stream",
     "text": [
      "9.0%\n"
     ]
    }
   ],
   "source": [
    "print('{:.1%}'.format(kennedy_df[kennedy_df.Hate==1].shape[0]/kennedy_df.shape[0]))"
   ]
  },
  {
   "cell_type": "code",
   "execution_count": null,
   "metadata": {},
   "outputs": [],
   "source": []
  }
 ],
 "metadata": {
  "kernelspec": {
   "display_name": "Python 3",
   "language": "python",
   "name": "python3"
  },
  "language_info": {
   "codemirror_mode": {
    "name": "ipython",
    "version": 3
   },
   "file_extension": ".py",
   "mimetype": "text/x-python",
   "name": "python",
   "nbconvert_exporter": "python",
   "pygments_lexer": "ipython3",
   "version": "3.8.5"
  }
 },
 "nbformat": 4,
 "nbformat_minor": 4
}
