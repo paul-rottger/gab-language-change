{
 "cells": [
  {
   "cell_type": "markdown",
   "id": "funny-illustration",
   "metadata": {},
   "source": [
    "# EVALUATION OF PSP RESULTS RELATIVE TO MLM TOKEN-LEVEL FINDINGS"
   ]
  },
  {
   "cell_type": "code",
   "execution_count": 1,
   "id": "stunning-display",
   "metadata": {},
   "outputs": [],
   "source": [
    "import pandas as pd\n",
    "import csv\n",
    "import os\n",
    "import numpy as np\n",
    "import re\n",
    "import matplotlib.pyplot as plt\n",
    "from sklearn.metrics import f1_score, confusion_matrix\n",
    "from ast import literal_eval\n",
    "from scipy.stats import spearmanr, ttest_ind, pearsonr\n",
    "from collections import Counter"
   ]
  },
  {
   "cell_type": "markdown",
   "id": "vocational-parent",
   "metadata": {},
   "source": [
    "# MAIN ANALYSIS"
   ]
  },
  {
   "cell_type": "markdown",
   "id": "clear-warehouse",
   "metadata": {},
   "source": [
    "### Import Data for Analysis"
   ]
  },
  {
   "cell_type": "code",
   "execution_count": 2,
   "id": "sustained-second",
   "metadata": {},
   "outputs": [
    {
     "name": "stdout",
     "output_type": "stream",
     "text": [
      "loading pol_test_2017_03_5k.csv token set\n",
      "loading pol_test_2017_04_5k.csv token set\n",
      "loading pol_test_2017_05_5k.csv token set\n",
      "loading pol_test_2017_06_5k.csv token set\n",
      "loading pol_test_2017_07_5k.csv token set\n",
      "loading pol_test_2017_08_5k.csv token set\n",
      "loading pol_test_2017_09_5k.csv token set\n",
      "loading pol_test_2017_10_5k.csv token set\n",
      "loading pol_test_2017_11_5k.csv token set\n",
      "loading pol_test_2017_12_5k.csv token set\n",
      "loading pol_test_2018_01_5k.csv token set\n",
      "loading pol_test_2018_02_5k.csv token set\n",
      "loading pol_test_2018_03_5k.csv token set\n",
      "loading pol_test_2018_04_5k.csv token set\n",
      "loading pol_test_2018_05_5k.csv token set\n",
      "loading pol_test_2018_06_5k.csv token set\n",
      "loading pol_test_2018_07_5k.csv token set\n",
      "loading pol_test_2018_08_5k.csv token set\n",
      "loading pol_test_2018_09_5k.csv token set\n",
      "loading pol_test_2018_10_5k.csv token set\n",
      "loading pol_test_2018_11_5k.csv token set\n",
      "loading pol_test_2018_12_5k.csv token set\n",
      "loading pol_test_2019_01_5k.csv token set\n",
      "loading pol_test_2019_02_5k.csv token set\n",
      "loading pol_test_2019_03_5k.csv token set\n",
      "loading pol_test_2019_04_5k.csv token set\n",
      "loading pol_test_2019_05_5k.csv token set\n",
      "loading pol_test_2019_06_5k.csv token set\n",
      "loading pol_test_2019_07_5k.csv token set\n",
      "loading pol_test_2019_08_5k.csv token set\n",
      "loading pol_test_2019_09_5k.csv token set\n",
      "loading pol_test_2019_10_5k.csv token set\n",
      "loading pol_test_2019_11_5k.csv token set\n",
      "loading pol_test_2019_12_5k.csv token set\n",
      "loading pol_test_2020_01_5k.csv token set\n",
      "loading pol_test_2020_02_5k.csv token set\n",
      "CPU times: user 1min 52s, sys: 10.8 s, total: 2min 2s\n",
      "Wall time: 2min 9s\n"
     ]
    }
   ],
   "source": [
    "%%time\n",
    "\n",
    "# load token breakdown of test documents\n",
    "\n",
    "full_df_dict = {}\n",
    "\n",
    "directory = f'../../0_data/clean/unlabelled_reddit/error_analysis'\n",
    "\n",
    "for csv in sorted(os.listdir(directory)):\n",
    "    if csv.endswith(\"_5k.csv\"):\n",
    "        print(f\"loading {csv} token set\")\n",
    "        full_df_dict[os.path.splitext(csv)[0].lstrip(\"pol_\")] = pd.read_csv(os.path.join(directory, csv),\n",
    "                                                                            converters={\"tokens_pos\": literal_eval, 'text_pos': literal_eval})[[\"text\", \"text_pos\", \"tokens_pos\"]]\n",
    "        full_df_dict[os.path.splitext(csv)[0].lstrip(\"pol_\")].index = full_df_dict[os.path.splitext(csv)[0].lstrip(\"pol_\")].sample(frac=1, random_state=123).index\n",
    "        full_df_dict[os.path.splitext(csv)[0].lstrip(\"pol_\")].sort_index(inplace=True)\n",
    "\n",
    "\n",
    "# load document-level MLM CE loss and merge with test set DFs\n",
    "\n",
    "directory = f'../../0_data/clean/labelled_reddit/error_analysis'\n",
    "\n",
    "for csv in os.listdir(directory):\n",
    "    for key in full_df_dict.keys():\n",
    "        if os.path.splitext(csv)[0] == key: # only load and merge matching test set\n",
    "            full_df_dict[key] = full_df_dict[key].merge(pd.read_csv(os.path.join(directory, csv))[[\"label\", \"ce_diff_base_rand\", \"ce_diff_rand_match\"]],\n",
    "                                                        left_index=True, right_index=True)\n",
    "            \n",
    "            \n",
    "id_to_label = {\n",
    "    0: \"ChapoTrapHouse\",\n",
    "    1: \"Conservative\",\n",
    "    2: \"Libertarian\",\n",
    "    3: \"The_Donald\",\n",
    "    4: \"politics\"\n",
    "}\n",
    "            \n",
    "# load document-level prediction results for different model types\n",
    "for model, name in [(\"base+month\", \"base\"), (\"rand+month\", \"rand\"),  (\"month+month\", \"match\")]:\n",
    "    \n",
    "    directory = f\"../../0_results/classification/reddit/month-models/{model}\"\n",
    "    \n",
    "    for csv in os.listdir(directory):\n",
    "        \n",
    "        for key in full_df_dict.keys():\n",
    "            \n",
    "            if (key in csv) and (\"train_\"+re.search(\"test_(.*?)_5k\", key).group(1) in csv) and (\"_20k-test\" in csv):\n",
    "                \n",
    "                in_df = pd.read_csv(os.path.join(directory, csv))[[\"index\", \"prediction\"]].rename(columns={\"prediction\": f\"pred_{name}\"}).set_index(\"index\")\n",
    "                \n",
    "                for k_id in id_to_label:\n",
    "                    in_df[f\"pred_{name}\"].replace(k_id, id_to_label[k_id], inplace=True)\n",
    "                    \n",
    "                full_df_dict[key] = full_df_dict[key].merge(in_df, left_index=True, right_index=True)\n",
    "    "
   ]
  },
  {
   "cell_type": "markdown",
   "id": "adverse-hollywood",
   "metadata": {},
   "source": [
    "### Concatenate Monthly Sets to Full DF for Analysis"
   ]
  },
  {
   "cell_type": "code",
   "execution_count": 3,
   "id": "worldwide-moscow",
   "metadata": {},
   "outputs": [
    {
     "name": "stdout",
     "output_type": "stream",
     "text": [
      "CPU times: user 209 ms, sys: 145 ms, total: 353 ms\n",
      "Wall time: 386 ms\n"
     ]
    },
    {
     "data": {
      "text/html": [
       "<div>\n",
       "<style scoped>\n",
       "    .dataframe tbody tr th:only-of-type {\n",
       "        vertical-align: middle;\n",
       "    }\n",
       "\n",
       "    .dataframe tbody tr th {\n",
       "        vertical-align: top;\n",
       "    }\n",
       "\n",
       "    .dataframe thead th {\n",
       "        text-align: right;\n",
       "    }\n",
       "</style>\n",
       "<table border=\"1\" class=\"dataframe\">\n",
       "  <thead>\n",
       "    <tr style=\"text-align: right;\">\n",
       "      <th></th>\n",
       "      <th>text</th>\n",
       "      <th>text_pos</th>\n",
       "      <th>tokens_pos</th>\n",
       "      <th>label</th>\n",
       "      <th>ce_diff_base_rand</th>\n",
       "      <th>ce_diff_rand_match</th>\n",
       "      <th>pred_base</th>\n",
       "      <th>pred_rand</th>\n",
       "      <th>pred_match</th>\n",
       "      <th>source</th>\n",
       "    </tr>\n",
       "  </thead>\n",
       "  <tbody>\n",
       "    <tr>\n",
       "      <th>0</th>\n",
       "      <td>Nice argument there twinky. Tell your mom I sa...</td>\n",
       "      <td>[[Nice, ADJ], [argument, NOUN], [there, ADV], ...</td>\n",
       "      <td>[[[CLS], SPECIAL], [nice, ADJ], [argument, NOU...</td>\n",
       "      <td>Libertarian</td>\n",
       "      <td>2.450879</td>\n",
       "      <td>0.389335</td>\n",
       "      <td>Libertarian</td>\n",
       "      <td>politics</td>\n",
       "      <td>Libertarian</td>\n",
       "      <td>test_2017_03_5k</td>\n",
       "    </tr>\n",
       "    <tr>\n",
       "      <th>1</th>\n",
       "      <td>Yes, why should the rest of the world be entit...</td>\n",
       "      <td>[[Yes, INTJ], [,, PUNCT], [why, ADV], [should,...</td>\n",
       "      <td>[[[CLS], SPECIAL], [yes, INTJ], [,, PUNCT], [w...</td>\n",
       "      <td>Libertarian</td>\n",
       "      <td>-0.073872</td>\n",
       "      <td>0.014518</td>\n",
       "      <td>Libertarian</td>\n",
       "      <td>Libertarian</td>\n",
       "      <td>Libertarian</td>\n",
       "      <td>test_2017_03_5k</td>\n",
       "    </tr>\n",
       "    <tr>\n",
       "      <th>2</th>\n",
       "      <td>Definitely. They are getting plenty of corpora...</td>\n",
       "      <td>[[Definitely, ADV], [., PUNCT], [They, PRON], ...</td>\n",
       "      <td>[[[CLS], SPECIAL], [definitely, ADV], [., PUNC...</td>\n",
       "      <td>politics</td>\n",
       "      <td>9.096548</td>\n",
       "      <td>1.122668</td>\n",
       "      <td>politics</td>\n",
       "      <td>politics</td>\n",
       "      <td>politics</td>\n",
       "      <td>test_2017_03_5k</td>\n",
       "    </tr>\n",
       "    <tr>\n",
       "      <th>3</th>\n",
       "      <td>Their data is protected as \"national security\"...</td>\n",
       "      <td>[[Their, PRON], [data, NOUN], [is, AUX], [prot...</td>\n",
       "      <td>[[[CLS], SPECIAL], [their, PRON], [data, NOUN]...</td>\n",
       "      <td>politics</td>\n",
       "      <td>0.090673</td>\n",
       "      <td>-1.162980</td>\n",
       "      <td>Libertarian</td>\n",
       "      <td>Libertarian</td>\n",
       "      <td>Libertarian</td>\n",
       "      <td>test_2017_03_5k</td>\n",
       "    </tr>\n",
       "    <tr>\n",
       "      <th>4</th>\n",
       "      <td>they posted a pic months ago from a \"white hou...</td>\n",
       "      <td>[[they, PRON], [posted, VERB], [a, DET], [pic,...</td>\n",
       "      <td>[[[CLS], SPECIAL], [they, PRON], [posted, VERB...</td>\n",
       "      <td>ChapoTrapHouse</td>\n",
       "      <td>1.158620</td>\n",
       "      <td>1.648456</td>\n",
       "      <td>The_Donald</td>\n",
       "      <td>ChapoTrapHouse</td>\n",
       "      <td>politics</td>\n",
       "      <td>test_2017_03_5k</td>\n",
       "    </tr>\n",
       "    <tr>\n",
       "      <th>...</th>\n",
       "      <td>...</td>\n",
       "      <td>...</td>\n",
       "      <td>...</td>\n",
       "      <td>...</td>\n",
       "      <td>...</td>\n",
       "      <td>...</td>\n",
       "      <td>...</td>\n",
       "      <td>...</td>\n",
       "      <td>...</td>\n",
       "      <td>...</td>\n",
       "    </tr>\n",
       "    <tr>\n",
       "      <th>179995</th>\n",
       "      <td>I’d be disappointed in them if they didn’t. /s</td>\n",
       "      <td>[[I, PRON], [’, VERB], [d, X], [be, AUX], [dis...</td>\n",
       "      <td>[[[CLS], SPECIAL], [i, PRON], [’, VERB], [d, X...</td>\n",
       "      <td>Conservative</td>\n",
       "      <td>51.887914</td>\n",
       "      <td>0.114969</td>\n",
       "      <td>Conservative</td>\n",
       "      <td>Conservative</td>\n",
       "      <td>Conservative</td>\n",
       "      <td>test_2020_02_5k</td>\n",
       "    </tr>\n",
       "    <tr>\n",
       "      <th>179996</th>\n",
       "      <td>Bernie has a wider margin against Trump when y...</td>\n",
       "      <td>[[Bernie, PROPN], [has, VERB], [a, DET], [wide...</td>\n",
       "      <td>[[[CLS], SPECIAL], [bernie, PROPN], [has, VERB...</td>\n",
       "      <td>politics</td>\n",
       "      <td>5.673599</td>\n",
       "      <td>3.070925</td>\n",
       "      <td>politics</td>\n",
       "      <td>politics</td>\n",
       "      <td>politics</td>\n",
       "      <td>test_2020_02_5k</td>\n",
       "    </tr>\n",
       "    <tr>\n",
       "      <th>179997</th>\n",
       "      <td>I just wish Chelsea Handler would wind up as a...</td>\n",
       "      <td>[[I, PRON], [just, ADV], [wish, VERB], [Chelse...</td>\n",
       "      <td>[[[CLS], SPECIAL], [i, PRON], [just, ADV], [wi...</td>\n",
       "      <td>Conservative</td>\n",
       "      <td>7.047268</td>\n",
       "      <td>2.106946</td>\n",
       "      <td>The_Donald</td>\n",
       "      <td>The_Donald</td>\n",
       "      <td>ChapoTrapHouse</td>\n",
       "      <td>test_2020_02_5k</td>\n",
       "    </tr>\n",
       "    <tr>\n",
       "      <th>179998</th>\n",
       "      <td>NO major newspaper coverage. [twatter (sic) li...</td>\n",
       "      <td>[[NO, DET], [major, ADJ], [newspaper, NOUN], [...</td>\n",
       "      <td>[[[CLS], SPECIAL], [no, DET], [major, ADJ], [n...</td>\n",
       "      <td>The_Donald</td>\n",
       "      <td>14.046416</td>\n",
       "      <td>-1.121283</td>\n",
       "      <td>The_Donald</td>\n",
       "      <td>The_Donald</td>\n",
       "      <td>The_Donald</td>\n",
       "      <td>test_2020_02_5k</td>\n",
       "    </tr>\n",
       "    <tr>\n",
       "      <th>179999</th>\n",
       "      <td>It’s *culture!* You know, like white people de...</td>\n",
       "      <td>[[It, PRON], [’s, VERB], [*, NOUN], [culture, ...</td>\n",
       "      <td>[[[CLS], SPECIAL], [it, PRON], [’, VERB], [s, ...</td>\n",
       "      <td>The_Donald</td>\n",
       "      <td>18.705396</td>\n",
       "      <td>-1.114670</td>\n",
       "      <td>Conservative</td>\n",
       "      <td>Conservative</td>\n",
       "      <td>Conservative</td>\n",
       "      <td>test_2020_02_5k</td>\n",
       "    </tr>\n",
       "  </tbody>\n",
       "</table>\n",
       "<p>180000 rows × 10 columns</p>\n",
       "</div>"
      ],
      "text/plain": [
       "                                                     text  \\\n",
       "0       Nice argument there twinky. Tell your mom I sa...   \n",
       "1       Yes, why should the rest of the world be entit...   \n",
       "2       Definitely. They are getting plenty of corpora...   \n",
       "3       Their data is protected as \"national security\"...   \n",
       "4       they posted a pic months ago from a \"white hou...   \n",
       "...                                                   ...   \n",
       "179995     I’d be disappointed in them if they didn’t. /s   \n",
       "179996  Bernie has a wider margin against Trump when y...   \n",
       "179997  I just wish Chelsea Handler would wind up as a...   \n",
       "179998  NO major newspaper coverage. [twatter (sic) li...   \n",
       "179999  It’s *culture!* You know, like white people de...   \n",
       "\n",
       "                                                 text_pos  \\\n",
       "0       [[Nice, ADJ], [argument, NOUN], [there, ADV], ...   \n",
       "1       [[Yes, INTJ], [,, PUNCT], [why, ADV], [should,...   \n",
       "2       [[Definitely, ADV], [., PUNCT], [They, PRON], ...   \n",
       "3       [[Their, PRON], [data, NOUN], [is, AUX], [prot...   \n",
       "4       [[they, PRON], [posted, VERB], [a, DET], [pic,...   \n",
       "...                                                   ...   \n",
       "179995  [[I, PRON], [’, VERB], [d, X], [be, AUX], [dis...   \n",
       "179996  [[Bernie, PROPN], [has, VERB], [a, DET], [wide...   \n",
       "179997  [[I, PRON], [just, ADV], [wish, VERB], [Chelse...   \n",
       "179998  [[NO, DET], [major, ADJ], [newspaper, NOUN], [...   \n",
       "179999  [[It, PRON], [’s, VERB], [*, NOUN], [culture, ...   \n",
       "\n",
       "                                               tokens_pos           label  \\\n",
       "0       [[[CLS], SPECIAL], [nice, ADJ], [argument, NOU...     Libertarian   \n",
       "1       [[[CLS], SPECIAL], [yes, INTJ], [,, PUNCT], [w...     Libertarian   \n",
       "2       [[[CLS], SPECIAL], [definitely, ADV], [., PUNC...        politics   \n",
       "3       [[[CLS], SPECIAL], [their, PRON], [data, NOUN]...        politics   \n",
       "4       [[[CLS], SPECIAL], [they, PRON], [posted, VERB...  ChapoTrapHouse   \n",
       "...                                                   ...             ...   \n",
       "179995  [[[CLS], SPECIAL], [i, PRON], [’, VERB], [d, X...    Conservative   \n",
       "179996  [[[CLS], SPECIAL], [bernie, PROPN], [has, VERB...        politics   \n",
       "179997  [[[CLS], SPECIAL], [i, PRON], [just, ADV], [wi...    Conservative   \n",
       "179998  [[[CLS], SPECIAL], [no, DET], [major, ADJ], [n...      The_Donald   \n",
       "179999  [[[CLS], SPECIAL], [it, PRON], [’, VERB], [s, ...      The_Donald   \n",
       "\n",
       "        ce_diff_base_rand  ce_diff_rand_match     pred_base       pred_rand  \\\n",
       "0                2.450879            0.389335   Libertarian        politics   \n",
       "1               -0.073872            0.014518   Libertarian     Libertarian   \n",
       "2                9.096548            1.122668      politics        politics   \n",
       "3                0.090673           -1.162980   Libertarian     Libertarian   \n",
       "4                1.158620            1.648456    The_Donald  ChapoTrapHouse   \n",
       "...                   ...                 ...           ...             ...   \n",
       "179995          51.887914            0.114969  Conservative    Conservative   \n",
       "179996           5.673599            3.070925      politics        politics   \n",
       "179997           7.047268            2.106946    The_Donald      The_Donald   \n",
       "179998          14.046416           -1.121283    The_Donald      The_Donald   \n",
       "179999          18.705396           -1.114670  Conservative    Conservative   \n",
       "\n",
       "            pred_match           source  \n",
       "0          Libertarian  test_2017_03_5k  \n",
       "1          Libertarian  test_2017_03_5k  \n",
       "2             politics  test_2017_03_5k  \n",
       "3          Libertarian  test_2017_03_5k  \n",
       "4             politics  test_2017_03_5k  \n",
       "...                ...              ...  \n",
       "179995    Conservative  test_2020_02_5k  \n",
       "179996        politics  test_2020_02_5k  \n",
       "179997  ChapoTrapHouse  test_2020_02_5k  \n",
       "179998      The_Donald  test_2020_02_5k  \n",
       "179999    Conservative  test_2020_02_5k  \n",
       "\n",
       "[180000 rows x 10 columns]"
      ]
     },
     "execution_count": 3,
     "metadata": {},
     "output_type": "execute_result"
    }
   ],
   "source": [
    "%%time\n",
    "\n",
    "# write source column to each df in dict, then concatenate all dfs into one overall df for analysis\n",
    "for testset in full_df_dict:\n",
    "    full_df_dict[testset][\"source\"] = testset\n",
    "    \n",
    "overall_df = pd.concat(full_df_dict.values(), ignore_index=True)\n",
    "overall_df"
   ]
  },
  {
   "cell_type": "code",
   "execution_count": 4,
   "id": "narrative-sussex",
   "metadata": {},
   "outputs": [
    {
     "data": {
      "text/plain": [
       "label\n",
       "ChapoTrapHouse    36000\n",
       "Conservative      36000\n",
       "Libertarian       36000\n",
       "The_Donald        36000\n",
       "politics          36000\n",
       "Name: label, dtype: int64"
      ]
     },
     "metadata": {},
     "output_type": "display_data"
    },
    {
     "data": {
      "text/plain": [
       "source\n",
       "test_2017_03_5k    5000\n",
       "test_2017_04_5k    5000\n",
       "test_2017_05_5k    5000\n",
       "test_2017_06_5k    5000\n",
       "test_2017_07_5k    5000\n",
       "test_2017_08_5k    5000\n",
       "test_2017_09_5k    5000\n",
       "test_2017_10_5k    5000\n",
       "test_2017_11_5k    5000\n",
       "test_2017_12_5k    5000\n",
       "test_2018_01_5k    5000\n",
       "test_2018_02_5k    5000\n",
       "test_2018_03_5k    5000\n",
       "test_2018_04_5k    5000\n",
       "test_2018_05_5k    5000\n",
       "test_2018_06_5k    5000\n",
       "test_2018_07_5k    5000\n",
       "test_2018_08_5k    5000\n",
       "test_2018_09_5k    5000\n",
       "test_2018_10_5k    5000\n",
       "test_2018_11_5k    5000\n",
       "test_2018_12_5k    5000\n",
       "test_2019_01_5k    5000\n",
       "test_2019_02_5k    5000\n",
       "test_2019_03_5k    5000\n",
       "test_2019_04_5k    5000\n",
       "test_2019_05_5k    5000\n",
       "test_2019_06_5k    5000\n",
       "test_2019_07_5k    5000\n",
       "test_2019_08_5k    5000\n",
       "test_2019_09_5k    5000\n",
       "test_2019_10_5k    5000\n",
       "test_2019_11_5k    5000\n",
       "test_2019_12_5k    5000\n",
       "test_2020_01_5k    5000\n",
       "test_2020_02_5k    5000\n",
       "Name: source, dtype: int64"
      ]
     },
     "metadata": {},
     "output_type": "display_data"
    },
    {
     "name": "stdout",
     "output_type": "stream",
     "text": [
      "\n",
      "F1 scores\n",
      "base\t 0.4542135916714364\n",
      "rand\t 0.46023902456023197\n",
      "match\t 0.46132982050691707\n"
     ]
    }
   ],
   "source": [
    "# sanity checks\n",
    "display(overall_df.groupby(\"label\").label.count())\n",
    "display(overall_df.groupby(\"source\").source.count())\n",
    "\n",
    "print(\"\\nF1 scores\")\n",
    "for pred in [\"base\", \"rand\", \"match\"]:\n",
    "    print(f\"{pred}\\t\", f1_score(overall_df['label'], overall_df[f'pred_{pred}'], average=\"macro\"))"
   ]
  },
  {
   "cell_type": "markdown",
   "id": "sought-rehabilitation",
   "metadata": {},
   "source": [
    "# PROPN FREQUENCY AND DISTINCTIVENESS"
   ]
  },
  {
   "cell_type": "markdown",
   "id": "blessed-dynamics",
   "metadata": {},
   "source": [
    "### Set up Counter() dictionaries"
   ]
  },
  {
   "cell_type": "code",
   "execution_count": 319,
   "id": "eastern-perception",
   "metadata": {},
   "outputs": [
    {
     "name": "stdout",
     "output_type": "stream",
     "text": [
      "CPU times: user 1min 28s, sys: 11.5 s, total: 1min 39s\n",
      "Wall time: 2min 2s\n"
     ]
    }
   ],
   "source": [
    "%%time\n",
    "\n",
    "# create PROPN counters for each month and subreddit\n",
    "propn_counter = {}\n",
    "for month in full_df_dict:\n",
    "    propn_counter[month] = {}\n",
    "    for label in ['Libertarian', 'politics', 'ChapoTrapHouse', 'Conservative', 'The_Donald']:\n",
    "        propn_counter[month][label] = Counter()\n",
    "        for _, row in full_df_dict[month].iterrows():\n",
    "            if row.label==label:\n",
    "                previous_elems=[]\n",
    "                for elem in row.tokens_pos:\n",
    "                    if elem[1] == \"PROPN\":\n",
    "                        if elem[0] not in previous_elems:  # count only first occurence --> how many docs rather than how many tokens\n",
    "                            propn_counter[month][label][elem[0]] +=1\n",
    "                            previous_elems.append(elem[0])"
   ]
  },
  {
   "cell_type": "code",
   "execution_count": 320,
   "id": "finite-texas",
   "metadata": {},
   "outputs": [
    {
     "name": "stdout",
     "output_type": "stream",
     "text": [
      "CPU times: user 1.12 s, sys: 565 ms, total: 1.69 s\n",
      "Wall time: 1.82 s\n"
     ]
    }
   ],
   "source": [
    "%%time\n",
    "# create overall counters for each month\n",
    "for month in propn_counter:\n",
    "    propn_counter[month][\"total\"]=sum(propn_counter[month].values(), Counter())\n",
    "\n",
    "# create overall counter across all months\n",
    "overall_counter = {}\n",
    "for label in ['Libertarian', 'politics', 'ChapoTrapHouse', 'Conservative', 'The_Donald', \"total\"]:\n",
    "    overall_counter[label] = sum([propn_counter[month][label] for month in propn_counter], Counter())"
   ]
  },
  {
   "cell_type": "markdown",
   "id": "impressive-glass",
   "metadata": {},
   "source": [
    "### Analysis of most-improved PROPNs"
   ]
  },
  {
   "cell_type": "code",
   "execution_count": 393,
   "id": "material-housing",
   "metadata": {},
   "outputs": [],
   "source": [
    "# import PROPN tokens with source month\n",
    "import_df = pd.read_csv(\"../../0_data/clean/labelled_reddit/error_analysis/most_improved_propn.csv\")\n",
    "\n",
    "# select top N%\n",
    "N=10\n",
    "most_improved_df = import_df.head(int(import_df.shape[0]*N/100)).copy()\n",
    "most_improved_df.drop_duplicates(subset=[\"masked_token_text\", \"source\"], inplace=True)"
   ]
  },
  {
   "cell_type": "code",
   "execution_count": 395,
   "id": "accredited-humanity",
   "metadata": {},
   "outputs": [
    {
     "name": "stdout",
     "output_type": "stream",
     "text": [
      "CPU times: user 769 ms, sys: 6.16 ms, total: 775 ms\n",
      "Wall time: 779 ms\n"
     ]
    }
   ],
   "source": [
    "%%time\n",
    "\n",
    "# how many subreddits did they appear in?\n",
    "\n",
    "def count_subs(row):\n",
    "    counter = 0\n",
    "    for sub in ['Libertarian', 'politics', 'ChapoTrapHouse', 'Conservative', 'The_Donald']:\n",
    "        if propn_counter[row.source][sub][row.masked_token_text]>0:\n",
    "            counter+=1\n",
    "    return counter\n",
    "\n",
    "def count_total(row):\n",
    "    return propn_counter[row.source][\"total\"][row.masked_token_text]\n",
    "\n",
    "def max_count_single_sub(row):\n",
    "    counter = 0\n",
    "    for sub in ['Libertarian', 'politics', 'ChapoTrapHouse', 'Conservative', 'The_Donald']:\n",
    "        if propn_counter[row.source][sub][row.masked_token_text]>counter:\n",
    "            counter = propn_counter[row.source][sub][row.masked_token_text]\n",
    "    return counter\n",
    "\n",
    "most_improved_df[\"n_sub_with_occurrence\"] = most_improved_df.apply(lambda x: count_subs(x), axis=1)\n",
    "most_improved_df[\"n_total\"] = most_improved_df.apply(lambda x: count_total(x), axis=1)\n",
    "most_improved_df[\"n_max_sub\"] = most_improved_df.apply(lambda x: max_count_single_sub(x), axis=1)"
   ]
  },
  {
   "cell_type": "code",
   "execution_count": 400,
   "id": "according-course",
   "metadata": {},
   "outputs": [
    {
     "data": {
      "text/html": [
       "<style  type=\"text/css\" >\n",
       "</style><table id=\"T_7c5ae_\" ><thead>    <tr>        <th class=\"blank level0\" ></th>        <th class=\"col_heading level0 col0\" >n</th>        <th class=\"col_heading level0 col1\" >n_sub_with_occurrence</th>        <th class=\"col_heading level0 col2\" >n_total_x</th>        <th class=\"col_heading level0 col3\" >n_sub_average</th>    </tr></thead><tbody>\n",
       "                <tr>\n",
       "                        <th id=\"T_7c5ae_level0_row0\" class=\"row_heading level0 row0\" >0</th>\n",
       "                        <td id=\"T_7c5ae_row0_col0\" class=\"data row0 col0\" >1</td>\n",
       "                        <td id=\"T_7c5ae_row0_col1\" class=\"data row0 col1\" >1403</td>\n",
       "                        <td id=\"T_7c5ae_row0_col2\" class=\"data row0 col2\" >1789</td>\n",
       "                        <td id=\"T_7c5ae_row0_col3\" class=\"data row0 col3\" >1.28</td>\n",
       "            </tr>\n",
       "            <tr>\n",
       "                        <th id=\"T_7c5ae_level0_row1\" class=\"row_heading level0 row1\" >1</th>\n",
       "                        <td id=\"T_7c5ae_row1_col0\" class=\"data row1 col0\" >2</td>\n",
       "                        <td id=\"T_7c5ae_row1_col1\" class=\"data row1 col1\" >769</td>\n",
       "                        <td id=\"T_7c5ae_row1_col2\" class=\"data row1 col2\" >2316</td>\n",
       "                        <td id=\"T_7c5ae_row1_col3\" class=\"data row1 col3\" >1.51</td>\n",
       "            </tr>\n",
       "            <tr>\n",
       "                        <th id=\"T_7c5ae_level0_row2\" class=\"row_heading level0 row2\" >2</th>\n",
       "                        <td id=\"T_7c5ae_row2_col0\" class=\"data row2 col0\" >3</td>\n",
       "                        <td id=\"T_7c5ae_row2_col1\" class=\"data row2 col1\" >559</td>\n",
       "                        <td id=\"T_7c5ae_row2_col2\" class=\"data row2 col2\" >3336</td>\n",
       "                        <td id=\"T_7c5ae_row2_col3\" class=\"data row2 col3\" >1.99</td>\n",
       "            </tr>\n",
       "            <tr>\n",
       "                        <th id=\"T_7c5ae_level0_row3\" class=\"row_heading level0 row3\" >3</th>\n",
       "                        <td id=\"T_7c5ae_row3_col0\" class=\"data row3 col0\" >4</td>\n",
       "                        <td id=\"T_7c5ae_row3_col1\" class=\"data row3 col1\" >570</td>\n",
       "                        <td id=\"T_7c5ae_row3_col2\" class=\"data row3 col2\" >6950</td>\n",
       "                        <td id=\"T_7c5ae_row3_col3\" class=\"data row3 col3\" >3.05</td>\n",
       "            </tr>\n",
       "            <tr>\n",
       "                        <th id=\"T_7c5ae_level0_row4\" class=\"row_heading level0 row4\" >4</th>\n",
       "                        <td id=\"T_7c5ae_row4_col0\" class=\"data row4 col0\" >5</td>\n",
       "                        <td id=\"T_7c5ae_row4_col1\" class=\"data row4 col1\" >819</td>\n",
       "                        <td id=\"T_7c5ae_row4_col2\" class=\"data row4 col2\" >33090</td>\n",
       "                        <td id=\"T_7c5ae_row4_col3\" class=\"data row4 col3\" >8.08</td>\n",
       "            </tr>\n",
       "    </tbody></table>"
      ],
      "text/plain": [
       "<pandas.io.formats.style.Styler at 0x7f8d916e0970>"
      ]
     },
     "execution_count": 400,
     "metadata": {},
     "output_type": "execute_result"
    }
   ],
   "source": [
    "display_df = pd.DataFrame(most_improved_df.groupby(\"n_sub_with_occurrence\").n_sub_with_occurrence.count())\n",
    "display_df = display_df.merge(most_improved_df.groupby(\"n_sub_with_occurrence\").n_total.sum(), left_index=True, right_index=True)\n",
    "display_df = display_df.merge(most_improved_df.groupby(\"n_sub_with_occurrence\").n_total.mean(), left_index=True, right_index=True)\n",
    "display_df = display_df.merge(most_improved_df.groupby(\"n_sub_with_occurrence\").n_max_sub.mean(), left_index=True, right_index=True)\n",
    "display_df.index.name = \"n\"\n",
    "display_df.reset_index(inplace=True)\n",
    "display_df[\"n_sub_average\"] = display_df.n_total_y/display_df.n\n",
    "display_df[[\"n\", \"n_sub_with_occurrence\", \"n_total_x\", \"n_sub_average\"]].style.set_precision(2)"
   ]
  },
  {
   "cell_type": "code",
   "execution_count": 403,
   "id": "tender-multiple",
   "metadata": {},
   "outputs": [
    {
     "data": {
      "text/plain": [
       "0.34053398058252426"
      ]
     },
     "execution_count": 403,
     "metadata": {},
     "output_type": "execute_result"
    }
   ],
   "source": [
    "1403/(2717+1403)"
   ]
  },
  {
   "cell_type": "code",
   "execution_count": 405,
   "id": "distant-television",
   "metadata": {},
   "outputs": [
    {
     "data": {
      "text/plain": [
       "0.03767822918641141"
      ]
     },
     "execution_count": 405,
     "metadata": {},
     "output_type": "execute_result"
    }
   ],
   "source": [
    "1789/display_df.n_total_x.sum()"
   ]
  },
  {
   "cell_type": "code",
   "execution_count": 381,
   "id": "surrounded-cathedral",
   "metadata": {},
   "outputs": [
    {
     "name": "stdout",
     "output_type": "stream",
     "text": [
      "Libertarian 9\n",
      "politics 17\n",
      "ChapoTrapHouse 2\n",
      "Conservative 28\n",
      "The_Donald 11\n",
      "total 67\n"
     ]
    }
   ],
   "source": [
    "word = \"##ugh\"\n",
    "month = \"test_2018_10_5k\"\n",
    "for sub in propn_counter[month]:\n",
    "    print(sub, propn_counter[month][sub][word] )"
   ]
  },
  {
   "cell_type": "code",
   "execution_count": 372,
   "id": "bored-manitoba",
   "metadata": {},
   "outputs": [
    {
     "name": "stdout",
     "output_type": "stream",
     "text": [
      "test_2017_03_5k 0\n",
      "test_2017_04_5k 1\n",
      "test_2017_05_5k 0\n",
      "test_2017_06_5k 0\n",
      "test_2017_07_5k 0\n",
      "test_2017_08_5k 0\n",
      "test_2017_09_5k 0\n",
      "test_2017_10_5k 0\n",
      "test_2017_11_5k 1\n",
      "test_2017_12_5k 0\n",
      "test_2018_01_5k 0\n",
      "test_2018_02_5k 0\n",
      "test_2018_03_5k 0\n",
      "test_2018_04_5k 1\n",
      "test_2018_05_5k 0\n",
      "test_2018_06_5k 2\n",
      "test_2018_07_5k 9\n",
      "test_2018_08_5k 1\n",
      "test_2018_09_5k 107\n",
      "test_2018_10_5k 67\n",
      "test_2018_11_5k 11\n",
      "test_2018_12_5k 6\n",
      "test_2019_01_5k 7\n",
      "test_2019_02_5k 6\n",
      "test_2019_03_5k 9\n",
      "test_2019_04_5k 3\n",
      "test_2019_05_5k 4\n",
      "test_2019_06_5k 3\n",
      "test_2019_07_5k 4\n",
      "test_2019_08_5k 2\n",
      "test_2019_09_5k 8\n",
      "test_2019_10_5k 1\n",
      "test_2019_11_5k 6\n",
      "test_2019_12_5k 4\n",
      "test_2020_01_5k 1\n",
      "test_2020_02_5k 0\n"
     ]
    }
   ],
   "source": [
    "word = \"##ugh\"\n",
    "for month in propn_counter:\n",
    "    print(month, propn_counter[month][\"total\"][word])"
   ]
  },
  {
   "cell_type": "code",
   "execution_count": 380,
   "id": "composite-bride",
   "metadata": {},
   "outputs": [
    {
     "data": {
      "text/plain": [
       "4120"
      ]
     },
     "execution_count": 380,
     "metadata": {},
     "output_type": "execute_result"
    }
   ],
   "source": [
    "display_df.n_sub_with_occurrence.sum()"
   ]
  },
  {
   "cell_type": "code",
   "execution_count": 360,
   "id": "hungry-residence",
   "metadata": {},
   "outputs": [
    {
     "data": {
      "text/html": [
       "<div>\n",
       "<style scoped>\n",
       "    .dataframe tbody tr th:only-of-type {\n",
       "        vertical-align: middle;\n",
       "    }\n",
       "\n",
       "    .dataframe tbody tr th {\n",
       "        vertical-align: top;\n",
       "    }\n",
       "\n",
       "    .dataframe thead th {\n",
       "        text-align: right;\n",
       "    }\n",
       "</style>\n",
       "<table border=\"1\" class=\"dataframe\">\n",
       "  <thead>\n",
       "    <tr style=\"text-align: right;\">\n",
       "      <th></th>\n",
       "      <th>masked_token_text</th>\n",
       "      <th>source</th>\n",
       "      <th>ce_diff_rand_match</th>\n",
       "      <th>ce_base</th>\n",
       "      <th>ce_rand_1m</th>\n",
       "      <th>ce_match_1m</th>\n",
       "      <th>n_sub_with_occurrence</th>\n",
       "      <th>n_total</th>\n",
       "    </tr>\n",
       "  </thead>\n",
       "  <tbody>\n",
       "    <tr>\n",
       "      <th>0</th>\n",
       "      <td>peggy</td>\n",
       "      <td>test_2019_02_5k</td>\n",
       "      <td>12.563050</td>\n",
       "      <td>3.357790</td>\n",
       "      <td>14.464735</td>\n",
       "      <td>1.901685</td>\n",
       "      <td>1</td>\n",
       "      <td>1</td>\n",
       "    </tr>\n",
       "    <tr>\n",
       "      <th>4</th>\n",
       "      <td>frost</td>\n",
       "      <td>test_2019_09_5k</td>\n",
       "      <td>11.729488</td>\n",
       "      <td>0.063441</td>\n",
       "      <td>13.558874</td>\n",
       "      <td>1.829386</td>\n",
       "      <td>1</td>\n",
       "      <td>1</td>\n",
       "    </tr>\n",
       "    <tr>\n",
       "      <th>7</th>\n",
       "      <td>##ghan</td>\n",
       "      <td>test_2019_10_5k</td>\n",
       "      <td>11.452503</td>\n",
       "      <td>9.377908</td>\n",
       "      <td>12.694198</td>\n",
       "      <td>1.241695</td>\n",
       "      <td>1</td>\n",
       "      <td>1</td>\n",
       "    </tr>\n",
       "    <tr>\n",
       "      <th>9</th>\n",
       "      <td>shirley</td>\n",
       "      <td>test_2017_10_5k</td>\n",
       "      <td>11.084275</td>\n",
       "      <td>0.150111</td>\n",
       "      <td>16.911581</td>\n",
       "      <td>5.827306</td>\n",
       "      <td>1</td>\n",
       "      <td>1</td>\n",
       "    </tr>\n",
       "    <tr>\n",
       "      <th>10</th>\n",
       "      <td>sinatra</td>\n",
       "      <td>test_2017_10_5k</td>\n",
       "      <td>10.757672</td>\n",
       "      <td>0.208442</td>\n",
       "      <td>13.352951</td>\n",
       "      <td>2.595279</td>\n",
       "      <td>1</td>\n",
       "      <td>1</td>\n",
       "    </tr>\n",
       "    <tr>\n",
       "      <th>...</th>\n",
       "      <td>...</td>\n",
       "      <td>...</td>\n",
       "      <td>...</td>\n",
       "      <td>...</td>\n",
       "      <td>...</td>\n",
       "      <td>...</td>\n",
       "      <td>...</td>\n",
       "      <td>...</td>\n",
       "    </tr>\n",
       "    <tr>\n",
       "      <th>4789</th>\n",
       "      <td>afro</td>\n",
       "      <td>test_2017_10_5k</td>\n",
       "      <td>1.151198</td>\n",
       "      <td>19.177351</td>\n",
       "      <td>5.984661</td>\n",
       "      <td>4.833462</td>\n",
       "      <td>1</td>\n",
       "      <td>1</td>\n",
       "    </tr>\n",
       "    <tr>\n",
       "      <th>4790</th>\n",
       "      <td>constantine</td>\n",
       "      <td>test_2019_07_5k</td>\n",
       "      <td>1.151105</td>\n",
       "      <td>7.528938</td>\n",
       "      <td>11.631690</td>\n",
       "      <td>10.480585</td>\n",
       "      <td>1</td>\n",
       "      <td>1</td>\n",
       "    </tr>\n",
       "    <tr>\n",
       "      <th>4797</th>\n",
       "      <td>joker</td>\n",
       "      <td>test_2018_07_5k</td>\n",
       "      <td>1.149238</td>\n",
       "      <td>14.010175</td>\n",
       "      <td>11.359110</td>\n",
       "      <td>10.209872</td>\n",
       "      <td>1</td>\n",
       "      <td>1</td>\n",
       "    </tr>\n",
       "    <tr>\n",
       "      <th>4800</th>\n",
       "      <td>##un</td>\n",
       "      <td>test_2018_08_5k</td>\n",
       "      <td>1.148984</td>\n",
       "      <td>11.861757</td>\n",
       "      <td>7.868293</td>\n",
       "      <td>6.719309</td>\n",
       "      <td>1</td>\n",
       "      <td>1</td>\n",
       "    </tr>\n",
       "    <tr>\n",
       "      <th>4805</th>\n",
       "      <td>windows</td>\n",
       "      <td>test_2017_05_5k</td>\n",
       "      <td>1.147202</td>\n",
       "      <td>7.713810</td>\n",
       "      <td>4.360466</td>\n",
       "      <td>3.213264</td>\n",
       "      <td>1</td>\n",
       "      <td>1</td>\n",
       "    </tr>\n",
       "  </tbody>\n",
       "</table>\n",
       "<p>1156 rows × 8 columns</p>\n",
       "</div>"
      ],
      "text/plain": [
       "     masked_token_text           source  ce_diff_rand_match    ce_base  \\\n",
       "0                peggy  test_2019_02_5k           12.563050   3.357790   \n",
       "4                frost  test_2019_09_5k           11.729488   0.063441   \n",
       "7               ##ghan  test_2019_10_5k           11.452503   9.377908   \n",
       "9              shirley  test_2017_10_5k           11.084275   0.150111   \n",
       "10             sinatra  test_2017_10_5k           10.757672   0.208442   \n",
       "...                ...              ...                 ...        ...   \n",
       "4789              afro  test_2017_10_5k            1.151198  19.177351   \n",
       "4790       constantine  test_2019_07_5k            1.151105   7.528938   \n",
       "4797             joker  test_2018_07_5k            1.149238  14.010175   \n",
       "4800              ##un  test_2018_08_5k            1.148984  11.861757   \n",
       "4805           windows  test_2017_05_5k            1.147202   7.713810   \n",
       "\n",
       "      ce_rand_1m  ce_match_1m  n_sub_with_occurrence  n_total  \n",
       "0      14.464735     1.901685                      1        1  \n",
       "4      13.558874     1.829386                      1        1  \n",
       "7      12.694198     1.241695                      1        1  \n",
       "9      16.911581     5.827306                      1        1  \n",
       "10     13.352951     2.595279                      1        1  \n",
       "...          ...          ...                    ...      ...  \n",
       "4789    5.984661     4.833462                      1        1  \n",
       "4790   11.631690    10.480585                      1        1  \n",
       "4797   11.359110    10.209872                      1        1  \n",
       "4800    7.868293     6.719309                      1        1  \n",
       "4805    4.360466     3.213264                      1        1  \n",
       "\n",
       "[1156 rows x 8 columns]"
      ]
     },
     "execution_count": 360,
     "metadata": {},
     "output_type": "execute_result"
    }
   ],
   "source": [
    "most_improved_df[most_improved_df.n_sub_with_occurrence==1 & (most_improved_df.n_total==1)]"
   ]
  },
  {
   "cell_type": "code",
   "execution_count": 268,
   "id": "insured-jaguar",
   "metadata": {},
   "outputs": [
    {
     "name": "stdout",
     "output_type": "stream",
     "text": [
      "TOKEN: ('nc', '2020_02')\n",
      "Libertarian \t 0\n",
      "politics \t 0\n",
      "ChapoTrapHouse \t 1\n",
      "Conservative \t 1\n",
      "The_Donald \t 0\n",
      "\n",
      "TOKEN: ('##erson', '2018_03')\n",
      "Libertarian \t 0\n",
      "politics \t 2\n",
      "ChapoTrapHouse \t 3\n",
      "Conservative \t 3\n",
      "The_Donald \t 4\n",
      "\n",
      "TOKEN: ('aziz', '2018_01')\n",
      "Libertarian \t 0\n",
      "politics \t 0\n",
      "ChapoTrapHouse \t 5\n",
      "Conservative \t 0\n",
      "The_Donald \t 0\n",
      "\n",
      "TOKEN: ('kim', '2019_04')\n",
      "Libertarian \t 0\n",
      "politics \t 1\n",
      "ChapoTrapHouse \t 0\n",
      "Conservative \t 2\n",
      "The_Donald \t 0\n",
      "\n",
      "TOKEN: ('warren', '2019_11')\n",
      "Libertarian \t 0\n",
      "politics \t 8\n",
      "ChapoTrapHouse \t 7\n",
      "Conservative \t 7\n",
      "The_Donald \t 2\n",
      "\n",
      "TOKEN: ('moscow', '2019_08')\n",
      "Libertarian \t 0\n",
      "politics \t 5\n",
      "ChapoTrapHouse \t 0\n",
      "Conservative \t 0\n",
      "The_Donald \t 0\n",
      "\n",
      "TOKEN: ('tide', '2018_02')\n",
      "Libertarian \t 1\n",
      "politics \t 1\n",
      "ChapoTrapHouse \t 1\n",
      "Conservative \t 0\n",
      "The_Donald \t 0\n",
      "\n",
      "TOKEN: ('cv', '2017_08')\n",
      "Libertarian \t 0\n",
      "politics \t 0\n",
      "ChapoTrapHouse \t 1\n",
      "Conservative \t 0\n",
      "The_Donald \t 0\n",
      "\n",
      "TOKEN: ('##ella', '2019_11')\n",
      "Libertarian \t 1\n",
      "politics \t 1\n",
      "ChapoTrapHouse \t 0\n",
      "Conservative \t 1\n",
      "The_Donald \t 2\n",
      "\n",
      "TOKEN: ('##ugh', '2018_10')\n",
      "Libertarian \t 10\n",
      "politics \t 19\n",
      "ChapoTrapHouse \t 2\n",
      "Conservative \t 29\n",
      "The_Donald \t 11\n",
      "\n"
     ]
    }
   ],
   "source": [
    "most_improved = [(\"nc\", \"2020_02\"), (\"##erson\", \"2018_03\"), (\"aziz\", \"2018_01\"), (\"kim\", \"2019_04\"), (\"warren\", \"2019_11\"),\n",
    "                 (\"moscow\", \"2019_08\"), (\"tide\", \"2018_02\"), (\"cv\", \"2017_08\"), (\"##ella\", \"2019_11\"), (\"##ugh\", \"2018_10\")]\n",
    "\n",
    "for word in most_improved:\n",
    "    print(\"TOKEN:\", word)\n",
    "    for sub in ['Libertarian', 'politics', 'ChapoTrapHouse', 'Conservative', 'The_Donald']:\n",
    "        print(sub, \"\\t\", propn_counter[f\"test_{word[1]}_5k\"][sub][word[0]])\n",
    "    print()"
   ]
  },
  {
   "cell_type": "code",
   "execution_count": 270,
   "id": "proud-batman",
   "metadata": {},
   "outputs": [
    {
     "name": "stdout",
     "output_type": "stream",
     "text": [
      "test_2017_03_5k\n",
      "Libertarian \t 0\n",
      "politics \t 0\n",
      "ChapoTrapHouse \t 0\n",
      "Conservative \t 6\n",
      "The_Donald \t 4\n",
      "\n",
      "test_2017_04_5k\n",
      "Libertarian \t 6\n",
      "politics \t 0\n",
      "ChapoTrapHouse \t 0\n",
      "Conservative \t 0\n",
      "The_Donald \t 16\n",
      "\n",
      "test_2017_05_5k\n",
      "Libertarian \t 0\n",
      "politics \t 0\n",
      "ChapoTrapHouse \t 0\n",
      "Conservative \t 0\n",
      "The_Donald \t 43\n",
      "\n",
      "test_2017_06_5k\n",
      "Libertarian \t 0\n",
      "politics \t 1\n",
      "ChapoTrapHouse \t 0\n",
      "Conservative \t 0\n",
      "The_Donald \t 23\n",
      "\n",
      "test_2017_07_5k\n",
      "Libertarian \t 0\n",
      "politics \t 0\n",
      "ChapoTrapHouse \t 1\n",
      "Conservative \t 1\n",
      "The_Donald \t 37\n",
      "\n",
      "test_2017_08_5k\n",
      "Libertarian \t 1\n",
      "politics \t 0\n",
      "ChapoTrapHouse \t 4\n",
      "Conservative \t 0\n",
      "The_Donald \t 16\n",
      "\n",
      "test_2017_09_5k\n",
      "Libertarian \t 0\n",
      "politics \t 0\n",
      "ChapoTrapHouse \t 0\n",
      "Conservative \t 1\n",
      "The_Donald \t 2\n",
      "\n",
      "test_2017_10_5k\n",
      "Libertarian \t 0\n",
      "politics \t 0\n",
      "ChapoTrapHouse \t 1\n",
      "Conservative \t 3\n",
      "The_Donald \t 8\n",
      "\n",
      "test_2017_11_5k\n",
      "Libertarian \t 4\n",
      "politics \t 2\n",
      "ChapoTrapHouse \t 0\n",
      "Conservative \t 0\n",
      "The_Donald \t 12\n",
      "\n",
      "test_2017_12_5k\n",
      "Libertarian \t 0\n",
      "politics \t 0\n",
      "ChapoTrapHouse \t 2\n",
      "Conservative \t 0\n",
      "The_Donald \t 26\n",
      "\n",
      "test_2018_01_5k\n",
      "Libertarian \t 1\n",
      "politics \t 0\n",
      "ChapoTrapHouse \t 0\n",
      "Conservative \t 0\n",
      "The_Donald \t 24\n",
      "\n",
      "test_2018_02_5k\n",
      "Libertarian \t 0\n",
      "politics \t 0\n",
      "ChapoTrapHouse \t 1\n",
      "Conservative \t 10\n",
      "The_Donald \t 20\n",
      "\n",
      "test_2018_03_5k\n",
      "Libertarian \t 3\n",
      "politics \t 2\n",
      "ChapoTrapHouse \t 0\n",
      "Conservative \t 1\n",
      "The_Donald \t 9\n",
      "\n",
      "test_2018_04_5k\n",
      "Libertarian \t 0\n",
      "politics \t 0\n",
      "ChapoTrapHouse \t 1\n",
      "Conservative \t 0\n",
      "The_Donald \t 16\n",
      "\n",
      "test_2018_05_5k\n",
      "Libertarian \t 0\n",
      "politics \t 0\n",
      "ChapoTrapHouse \t 0\n",
      "Conservative \t 0\n",
      "The_Donald \t 16\n",
      "\n",
      "test_2018_06_5k\n",
      "Libertarian \t 6\n",
      "politics \t 0\n",
      "ChapoTrapHouse \t 1\n",
      "Conservative \t 1\n",
      "The_Donald \t 13\n",
      "\n",
      "test_2018_07_5k\n",
      "Libertarian \t 0\n",
      "politics \t 1\n",
      "ChapoTrapHouse \t 12\n",
      "Conservative \t 2\n",
      "The_Donald \t 7\n",
      "\n",
      "test_2018_08_5k\n",
      "Libertarian \t 6\n",
      "politics \t 2\n",
      "ChapoTrapHouse \t 1\n",
      "Conservative \t 1\n",
      "The_Donald \t 2\n",
      "\n",
      "test_2018_09_5k\n",
      "Libertarian \t 17\n",
      "politics \t 0\n",
      "ChapoTrapHouse \t 2\n",
      "Conservative \t 3\n",
      "The_Donald \t 12\n",
      "\n",
      "test_2018_10_5k\n",
      "Libertarian \t 0\n",
      "politics \t 0\n",
      "ChapoTrapHouse \t 2\n",
      "Conservative \t 4\n",
      "The_Donald \t 7\n",
      "\n",
      "test_2018_11_5k\n",
      "Libertarian \t 0\n",
      "politics \t 1\n",
      "ChapoTrapHouse \t 18\n",
      "Conservative \t 0\n",
      "The_Donald \t 7\n",
      "\n",
      "test_2018_12_5k\n",
      "Libertarian \t 0\n",
      "politics \t 0\n",
      "ChapoTrapHouse \t 0\n",
      "Conservative \t 10\n",
      "The_Donald \t 20\n",
      "\n",
      "test_2019_01_5k\n",
      "Libertarian \t 3\n",
      "politics \t 0\n",
      "ChapoTrapHouse \t 0\n",
      "Conservative \t 0\n",
      "The_Donald \t 24\n",
      "\n",
      "test_2019_02_5k\n",
      "Libertarian \t 0\n",
      "politics \t 0\n",
      "ChapoTrapHouse \t 0\n",
      "Conservative \t 0\n",
      "The_Donald \t 3\n",
      "\n",
      "test_2019_03_5k\n",
      "Libertarian \t 3\n",
      "politics \t 0\n",
      "ChapoTrapHouse \t 0\n",
      "Conservative \t 5\n",
      "The_Donald \t 18\n",
      "\n",
      "test_2019_04_5k\n",
      "Libertarian \t 1\n",
      "politics \t 0\n",
      "ChapoTrapHouse \t 0\n",
      "Conservative \t 0\n",
      "The_Donald \t 3\n",
      "\n",
      "test_2019_05_5k\n",
      "Libertarian \t 0\n",
      "politics \t 0\n",
      "ChapoTrapHouse \t 12\n",
      "Conservative \t 2\n",
      "The_Donald \t 3\n",
      "\n",
      "test_2019_06_5k\n",
      "Libertarian \t 3\n",
      "politics \t 0\n",
      "ChapoTrapHouse \t 0\n",
      "Conservative \t 9\n",
      "The_Donald \t 5\n",
      "\n",
      "test_2019_07_5k\n",
      "Libertarian \t 4\n",
      "politics \t 1\n",
      "ChapoTrapHouse \t 0\n",
      "Conservative \t 5\n",
      "The_Donald \t 4\n",
      "\n",
      "test_2019_08_5k\n",
      "Libertarian \t 2\n",
      "politics \t 0\n",
      "ChapoTrapHouse \t 1\n",
      "Conservative \t 2\n",
      "The_Donald \t 4\n",
      "\n",
      "test_2019_09_5k\n",
      "Libertarian \t 0\n",
      "politics \t 0\n",
      "ChapoTrapHouse \t 0\n",
      "Conservative \t 0\n",
      "The_Donald \t 10\n",
      "\n",
      "test_2019_10_5k\n",
      "Libertarian \t 3\n",
      "politics \t 0\n",
      "ChapoTrapHouse \t 0\n",
      "Conservative \t 4\n",
      "The_Donald \t 3\n",
      "\n",
      "test_2019_11_5k\n",
      "Libertarian \t 0\n",
      "politics \t 0\n",
      "ChapoTrapHouse \t 0\n",
      "Conservative \t 2\n",
      "The_Donald \t 10\n",
      "\n",
      "test_2019_12_5k\n",
      "Libertarian \t 0\n",
      "politics \t 0\n",
      "ChapoTrapHouse \t 0\n",
      "Conservative \t 4\n",
      "The_Donald \t 13\n",
      "\n",
      "test_2020_01_5k\n",
      "Libertarian \t 0\n",
      "politics \t 0\n",
      "ChapoTrapHouse \t 0\n",
      "Conservative \t 2\n",
      "The_Donald \t 1\n",
      "\n",
      "test_2020_02_5k\n",
      "Libertarian \t 0\n",
      "politics \t 1\n",
      "ChapoTrapHouse \t 1\n",
      "Conservative \t 0\n",
      "The_Donald \t 13\n",
      "\n"
     ]
    }
   ],
   "source": [
    "word = \"##ee\"\n",
    "\n",
    "for month in propn_counter:\n",
    "    print(month)\n",
    "    for sub in ['Libertarian', 'politics', 'ChapoTrapHouse', 'Conservative', 'The_Donald']:\n",
    "        print(sub, \"\\t\", propn_counter[month][sub][word])\n",
    "    print()"
   ]
  },
  {
   "cell_type": "markdown",
   "id": "resident-worry",
   "metadata": {},
   "source": [
    "### Find distinctive words"
   ]
  },
  {
   "cell_type": "code",
   "execution_count": 60,
   "id": "dutch-ocean",
   "metadata": {},
   "outputs": [
    {
     "name": "stdout",
     "output_type": "stream",
     "text": [
      "CPU times: user 84 ms, sys: 844 ms, total: 928 ms\n",
      "Wall time: 2.26 s\n"
     ]
    }
   ],
   "source": [
    "%%time\n",
    "\n",
    "# convert counts to proportions in overall_counter\n",
    "for label in overall_counter:\n",
    "    sum_count = sum(overall_counter[label].values())\n",
    "    for key in overall_counter[label]:\n",
    "        overall_counter[label][key] = overall_counter[label][key]/sum_count"
   ]
  },
  {
   "cell_type": "code",
   "execution_count": 202,
   "id": "wanted-separate",
   "metadata": {},
   "outputs": [
    {
     "name": "stdout",
     "output_type": "stream",
     "text": [
      "CPU times: user 232 ms, sys: 18.8 ms, total: 251 ms\n",
      "Wall time: 277 ms\n"
     ]
    }
   ],
   "source": [
    "%%time\n",
    "\n",
    "# overall dict of distinctiveness scores\n",
    "\n",
    "subreddits = ['ChapoTrapHouse', 'politics', 'Conservative', 'Libertarian', 'The_Donald']\n",
    "\n",
    "distinct_dict = {}\n",
    "for sub in subreddits:\n",
    "    distinct_dict[sub] = Counter()\n",
    "\n",
    "for word in overall_counter[\"total\"]:\n",
    "    for main_sub in subreddits:\n",
    "        main_prop_word = overall_counter[main_sub][word]\n",
    "        other_prop_word = 0\n",
    "        \n",
    "        for other_sub in subreddits:\n",
    "            if main_sub != other_sub:\n",
    "                other_prop_word = max(overall_counter[other_sub][word],other_prop_word)\n",
    "        #other_prop_word = other_prop_word/4\n",
    "        \n",
    "        distinct_dict[main_sub][word] = main_prop_word-other_prop_word\n",
    "\n",
    "# remove some spacy errors --> e.g. recognising \"don\" in \"don't\" as PROPN like Don, the name\n",
    "\n",
    "spacy_errors = [\"don\", \"isn\", \"/\"]\n",
    "for sub in distinct_dict:\n",
    "    for error in spacy_errors:\n",
    "        del distinct_dict[sub][error]"
   ]
  },
  {
   "cell_type": "code",
   "execution_count": 219,
   "id": "hybrid-hunter",
   "metadata": {},
   "outputs": [
    {
     "name": "stdout",
     "output_type": "stream",
     "text": [
      "Most DISTINCTIVE tokens by subreddit \n",
      "\n",
      "ChapoTrapHouse\n"
     ]
    },
    {
     "data": {
      "text/plain": [
       "[('cha', 0.00453454931084162),\n",
       " ('##po', 0.004167829919188758),\n",
       " ('ds', 0.002460231224081351),\n",
       " ('matt', 0.0018456403750376465),\n",
       " ('felix', 0.0017835892956927306)]"
      ]
     },
     "metadata": {},
     "output_type": "display_data"
    },
    {
     "name": "stdout",
     "output_type": "stream",
     "text": [
      "\n",
      "politics\n"
     ]
    },
    {
     "data": {
      "text/plain": [
       "[('trump', 0.017633666564650145),\n",
       " ('go', 0.005697190648043898),\n",
       " ('##p', 0.005320358097495163),\n",
       " ('russia', 0.004924700483468137),\n",
       " ('republicans', 0.0037080868952007583)]"
      ]
     },
     "metadata": {},
     "output_type": "display_data"
    },
    {
     "name": "stdout",
     "output_type": "stream",
     "text": [
      "\n",
      "Conservative\n"
     ]
    },
    {
     "data": {
      "text/plain": [
       "[('democrat', 0.0032073394355495097),\n",
       " ('democrats', 0.0023281391685667906),\n",
       " ('shapiro', 0.001178612380049728),\n",
       " ('obama', 0.0011645512607778123),\n",
       " ('california', 0.0010451997418892646)]"
      ]
     },
     "metadata": {},
     "output_type": "display_data"
    },
    {
     "name": "stdout",
     "output_type": "stream",
     "text": [
      "\n",
      "Libertarian\n"
     ]
    },
    {
     "data": {
      "text/plain": [
       "[('libertarian', 0.011145787995448485),\n",
       " ('us', 0.010017174814589701),\n",
       " ('nap', 0.003662519547341499),\n",
       " ('paul', 0.0024860067459594863),\n",
       " ('ron', 0.0021599938448891775)]"
      ]
     },
     "metadata": {},
     "output_type": "display_data"
    },
    {
     "name": "stdout",
     "output_type": "stream",
     "text": [
      "\n",
      "The_Donald\n"
     ]
    },
    {
     "data": {
      "text/plain": [
       "[('##ee', 0.005656346888007126),\n",
       " ('mag', 0.0024747430542797254),\n",
       " ('god', 0.0021491826801364133),\n",
       " ('##de', 0.0018615396993518327),\n",
       " ('geo', 0.0016802891469554794)]"
      ]
     },
     "metadata": {},
     "output_type": "display_data"
    },
    {
     "name": "stdout",
     "output_type": "stream",
     "text": [
      "\n"
     ]
    }
   ],
   "source": [
    "print(\"Most DISTINCTIVE tokens by subreddit \\n\")\n",
    "\n",
    "for sub in subreddits:\n",
    "    print(sub)\n",
    "    display(distinct_dict[sub].most_common(5))\n",
    "    print()"
   ]
  },
  {
   "cell_type": "code",
   "execution_count": 169,
   "id": "racial-intake",
   "metadata": {},
   "outputs": [
    {
     "name": "stdout",
     "output_type": "stream",
     "text": [
      "accuracy: 0.9145299145299145\n"
     ]
    },
    {
     "data": {
      "text/html": [
       "<div>\n",
       "<style scoped>\n",
       "    .dataframe tbody tr th:only-of-type {\n",
       "        vertical-align: middle;\n",
       "    }\n",
       "\n",
       "    .dataframe tbody tr th {\n",
       "        vertical-align: top;\n",
       "    }\n",
       "\n",
       "    .dataframe thead th {\n",
       "        text-align: right;\n",
       "    }\n",
       "</style>\n",
       "<table border=\"1\" class=\"dataframe\">\n",
       "  <thead>\n",
       "    <tr style=\"text-align: right;\">\n",
       "      <th></th>\n",
       "      <th>text</th>\n",
       "      <th>text_pos</th>\n",
       "      <th>tokens_pos</th>\n",
       "      <th>label</th>\n",
       "      <th>ce_diff_base_rand</th>\n",
       "      <th>ce_diff_rand_match</th>\n",
       "      <th>pred_base</th>\n",
       "      <th>pred_rand</th>\n",
       "      <th>pred_match</th>\n",
       "      <th>source</th>\n",
       "    </tr>\n",
       "  </thead>\n",
       "  <tbody>\n",
       "    <tr>\n",
       "      <th>16761</th>\n",
       "      <td>Maybe on another topic I could agree. But any ...</td>\n",
       "      <td>[[Maybe, ADV], [on, ADP], [another, DET], [top...</td>\n",
       "      <td>[[[CLS], SPECIAL], [maybe, ADV], [on, ADP], [a...</td>\n",
       "      <td>The_Donald</td>\n",
       "      <td>4.044788</td>\n",
       "      <td>0.092784</td>\n",
       "      <td>ChapoTrapHouse</td>\n",
       "      <td>ChapoTrapHouse</td>\n",
       "      <td>ChapoTrapHouse</td>\n",
       "      <td>test_2017_06_5k</td>\n",
       "    </tr>\n",
       "    <tr>\n",
       "      <th>21364</th>\n",
       "      <td>If Jeff can be spelled Geoff and the GEO sound...</td>\n",
       "      <td>[[If, SCONJ], [Jeff, PROPN], [can, AUX], [be, ...</td>\n",
       "      <td>[[[CLS], SPECIAL], [if, SCONJ], [jeff, PROPN],...</td>\n",
       "      <td>The_Donald</td>\n",
       "      <td>-0.966689</td>\n",
       "      <td>2.066032</td>\n",
       "      <td>ChapoTrapHouse</td>\n",
       "      <td>ChapoTrapHouse</td>\n",
       "      <td>ChapoTrapHouse</td>\n",
       "      <td>test_2017_07_5k</td>\n",
       "    </tr>\n",
       "    <tr>\n",
       "      <th>23651</th>\n",
       "      <td>If I was GEOTUS, I would tweet this once a day.</td>\n",
       "      <td>[[If, SCONJ], [I, PRON], [was, VERB], [GEOTUS,...</td>\n",
       "      <td>[[[CLS], SPECIAL], [if, SCONJ], [i, PRON], [wa...</td>\n",
       "      <td>The_Donald</td>\n",
       "      <td>1.409938</td>\n",
       "      <td>-0.042435</td>\n",
       "      <td>The_Donald</td>\n",
       "      <td>The_Donald</td>\n",
       "      <td>The_Donald</td>\n",
       "      <td>test_2017_07_5k</td>\n",
       "    </tr>\n",
       "    <tr>\n",
       "      <th>24832</th>\n",
       "      <td>Does GEOTUS mean God Emperor...?</td>\n",
       "      <td>[[Does, AUX], [GEOTUS, PROPN], [mean, VERB], [...</td>\n",
       "      <td>[[[CLS], SPECIAL], [does, AUX], [geo, PROPN], ...</td>\n",
       "      <td>The_Donald</td>\n",
       "      <td>0.125933</td>\n",
       "      <td>-0.143730</td>\n",
       "      <td>The_Donald</td>\n",
       "      <td>The_Donald</td>\n",
       "      <td>The_Donald</td>\n",
       "      <td>test_2017_07_5k</td>\n",
       "    </tr>\n",
       "    <tr>\n",
       "      <th>24998</th>\n",
       "      <td>I subscribe to this theory as well. There was ...</td>\n",
       "      <td>[[I, PRON], [subscribe, VERB], [to, ADP], [thi...</td>\n",
       "      <td>[[[CLS], SPECIAL], [i, PRON], [sub, VERB], [##...</td>\n",
       "      <td>The_Donald</td>\n",
       "      <td>5.415786</td>\n",
       "      <td>-0.474857</td>\n",
       "      <td>Conservative</td>\n",
       "      <td>The_Donald</td>\n",
       "      <td>Libertarian</td>\n",
       "      <td>test_2017_07_5k</td>\n",
       "    </tr>\n",
       "    <tr>\n",
       "      <th>...</th>\n",
       "      <td>...</td>\n",
       "      <td>...</td>\n",
       "      <td>...</td>\n",
       "      <td>...</td>\n",
       "      <td>...</td>\n",
       "      <td>...</td>\n",
       "      <td>...</td>\n",
       "      <td>...</td>\n",
       "      <td>...</td>\n",
       "      <td>...</td>\n",
       "    </tr>\n",
       "    <tr>\n",
       "      <th>171978</th>\n",
       "      <td>Good, lol... Biden will get fucking SMOKED by ...</td>\n",
       "      <td>[[Good, ADJ], [,, PUNCT], [lol, ADJ], [..., PU...</td>\n",
       "      <td>[[[CLS], SPECIAL], [good, ADJ], [,, PUNCT], [l...</td>\n",
       "      <td>The_Donald</td>\n",
       "      <td>10.798303</td>\n",
       "      <td>-1.238075</td>\n",
       "      <td>The_Donald</td>\n",
       "      <td>The_Donald</td>\n",
       "      <td>The_Donald</td>\n",
       "      <td>test_2020_01_5k</td>\n",
       "    </tr>\n",
       "    <tr>\n",
       "      <th>172138</th>\n",
       "      <td>Mental gymnastics going on in the worldnews su...</td>\n",
       "      <td>[[Mental, ADJ], [gymnastics, NOUN], [going, VE...</td>\n",
       "      <td>[[[CLS], SPECIAL], [mental, ADJ], [gymnastics,...</td>\n",
       "      <td>The_Donald</td>\n",
       "      <td>37.661289</td>\n",
       "      <td>2.058694</td>\n",
       "      <td>The_Donald</td>\n",
       "      <td>The_Donald</td>\n",
       "      <td>The_Donald</td>\n",
       "      <td>test_2020_01_5k</td>\n",
       "    </tr>\n",
       "    <tr>\n",
       "      <th>174142</th>\n",
       "      <td>Thats exactly what was said about GEOTUS throu...</td>\n",
       "      <td>[[Thats, NOUN], [exactly, ADV], [what, PRON], ...</td>\n",
       "      <td>[[[CLS], SPECIAL], [that, NOUN], [##s, NOUN], ...</td>\n",
       "      <td>The_Donald</td>\n",
       "      <td>16.562731</td>\n",
       "      <td>-3.165308</td>\n",
       "      <td>The_Donald</td>\n",
       "      <td>Conservative</td>\n",
       "      <td>The_Donald</td>\n",
       "      <td>test_2020_01_5k</td>\n",
       "    </tr>\n",
       "    <tr>\n",
       "      <th>174731</th>\n",
       "      <td>Damn, GEOTUS literally shooting off earthquake...</td>\n",
       "      <td>[[Damn, INTJ], [,, PUNCT], [GEOTUS, PROPN], [l...</td>\n",
       "      <td>[[[CLS], SPECIAL], [damn, INTJ], [,, PUNCT], [...</td>\n",
       "      <td>The_Donald</td>\n",
       "      <td>NaN</td>\n",
       "      <td>NaN</td>\n",
       "      <td>The_Donald</td>\n",
       "      <td>The_Donald</td>\n",
       "      <td>The_Donald</td>\n",
       "      <td>test_2020_01_5k</td>\n",
       "    </tr>\n",
       "    <tr>\n",
       "      <th>177806</th>\n",
       "      <td>Lots of business deals get done playing golf. ...</td>\n",
       "      <td>[[Lots, NOUN], [of, ADP], [business, NOUN], [d...</td>\n",
       "      <td>[[[CLS], SPECIAL], [lots, NOUN], [of, ADP], [b...</td>\n",
       "      <td>The_Donald</td>\n",
       "      <td>9.451706</td>\n",
       "      <td>-1.095508</td>\n",
       "      <td>The_Donald</td>\n",
       "      <td>The_Donald</td>\n",
       "      <td>The_Donald</td>\n",
       "      <td>test_2020_02_5k</td>\n",
       "    </tr>\n",
       "  </tbody>\n",
       "</table>\n",
       "<p>117 rows × 10 columns</p>\n",
       "</div>"
      ],
      "text/plain": [
       "                                                     text  \\\n",
       "16761   Maybe on another topic I could agree. But any ...   \n",
       "21364   If Jeff can be spelled Geoff and the GEO sound...   \n",
       "23651     If I was GEOTUS, I would tweet this once a day.   \n",
       "24832                    Does GEOTUS mean God Emperor...?   \n",
       "24998   I subscribe to this theory as well. There was ...   \n",
       "...                                                   ...   \n",
       "171978  Good, lol... Biden will get fucking SMOKED by ...   \n",
       "172138  Mental gymnastics going on in the worldnews su...   \n",
       "174142  Thats exactly what was said about GEOTUS throu...   \n",
       "174731  Damn, GEOTUS literally shooting off earthquake...   \n",
       "177806  Lots of business deals get done playing golf. ...   \n",
       "\n",
       "                                                 text_pos  \\\n",
       "16761   [[Maybe, ADV], [on, ADP], [another, DET], [top...   \n",
       "21364   [[If, SCONJ], [Jeff, PROPN], [can, AUX], [be, ...   \n",
       "23651   [[If, SCONJ], [I, PRON], [was, VERB], [GEOTUS,...   \n",
       "24832   [[Does, AUX], [GEOTUS, PROPN], [mean, VERB], [...   \n",
       "24998   [[I, PRON], [subscribe, VERB], [to, ADP], [thi...   \n",
       "...                                                   ...   \n",
       "171978  [[Good, ADJ], [,, PUNCT], [lol, ADJ], [..., PU...   \n",
       "172138  [[Mental, ADJ], [gymnastics, NOUN], [going, VE...   \n",
       "174142  [[Thats, NOUN], [exactly, ADV], [what, PRON], ...   \n",
       "174731  [[Damn, INTJ], [,, PUNCT], [GEOTUS, PROPN], [l...   \n",
       "177806  [[Lots, NOUN], [of, ADP], [business, NOUN], [d...   \n",
       "\n",
       "                                               tokens_pos       label  \\\n",
       "16761   [[[CLS], SPECIAL], [maybe, ADV], [on, ADP], [a...  The_Donald   \n",
       "21364   [[[CLS], SPECIAL], [if, SCONJ], [jeff, PROPN],...  The_Donald   \n",
       "23651   [[[CLS], SPECIAL], [if, SCONJ], [i, PRON], [wa...  The_Donald   \n",
       "24832   [[[CLS], SPECIAL], [does, AUX], [geo, PROPN], ...  The_Donald   \n",
       "24998   [[[CLS], SPECIAL], [i, PRON], [sub, VERB], [##...  The_Donald   \n",
       "...                                                   ...         ...   \n",
       "171978  [[[CLS], SPECIAL], [good, ADJ], [,, PUNCT], [l...  The_Donald   \n",
       "172138  [[[CLS], SPECIAL], [mental, ADJ], [gymnastics,...  The_Donald   \n",
       "174142  [[[CLS], SPECIAL], [that, NOUN], [##s, NOUN], ...  The_Donald   \n",
       "174731  [[[CLS], SPECIAL], [damn, INTJ], [,, PUNCT], [...  The_Donald   \n",
       "177806  [[[CLS], SPECIAL], [lots, NOUN], [of, ADP], [b...  The_Donald   \n",
       "\n",
       "        ce_diff_base_rand  ce_diff_rand_match       pred_base       pred_rand  \\\n",
       "16761            4.044788            0.092784  ChapoTrapHouse  ChapoTrapHouse   \n",
       "21364           -0.966689            2.066032  ChapoTrapHouse  ChapoTrapHouse   \n",
       "23651            1.409938           -0.042435      The_Donald      The_Donald   \n",
       "24832            0.125933           -0.143730      The_Donald      The_Donald   \n",
       "24998            5.415786           -0.474857    Conservative      The_Donald   \n",
       "...                   ...                 ...             ...             ...   \n",
       "171978          10.798303           -1.238075      The_Donald      The_Donald   \n",
       "172138          37.661289            2.058694      The_Donald      The_Donald   \n",
       "174142          16.562731           -3.165308      The_Donald    Conservative   \n",
       "174731                NaN                 NaN      The_Donald      The_Donald   \n",
       "177806           9.451706           -1.095508      The_Donald      The_Donald   \n",
       "\n",
       "            pred_match           source  \n",
       "16761   ChapoTrapHouse  test_2017_06_5k  \n",
       "21364   ChapoTrapHouse  test_2017_07_5k  \n",
       "23651       The_Donald  test_2017_07_5k  \n",
       "24832       The_Donald  test_2017_07_5k  \n",
       "24998      Libertarian  test_2017_07_5k  \n",
       "...                ...              ...  \n",
       "171978      The_Donald  test_2020_01_5k  \n",
       "172138      The_Donald  test_2020_01_5k  \n",
       "174142      The_Donald  test_2020_01_5k  \n",
       "174731      The_Donald  test_2020_01_5k  \n",
       "177806      The_Donald  test_2020_02_5k  \n",
       "\n",
       "[117 rows x 10 columns]"
      ]
     },
     "metadata": {},
     "output_type": "display_data"
    },
    {
     "data": {
      "text/plain": [
       "source\n",
       "test_2017_06_5k    1\n",
       "test_2017_07_5k    4\n",
       "test_2017_08_5k    1\n",
       "test_2017_09_5k    2\n",
       "test_2017_10_5k    2\n",
       "test_2017_11_5k    3\n",
       "test_2017_12_5k    6\n",
       "test_2018_01_5k    6\n",
       "test_2018_02_5k    7\n",
       "test_2018_03_5k    4\n",
       "test_2018_04_5k    6\n",
       "test_2018_05_5k    3\n",
       "test_2018_06_5k    2\n",
       "test_2018_07_5k    9\n",
       "test_2018_08_5k    5\n",
       "test_2018_09_5k    4\n",
       "test_2018_10_5k    2\n",
       "test_2018_11_5k    2\n",
       "test_2018_12_5k    4\n",
       "test_2019_01_5k    3\n",
       "test_2019_02_5k    5\n",
       "test_2019_03_5k    1\n",
       "test_2019_04_5k    4\n",
       "test_2019_05_5k    4\n",
       "test_2019_06_5k    2\n",
       "test_2019_07_5k    5\n",
       "test_2019_08_5k    3\n",
       "test_2019_09_5k    4\n",
       "test_2019_10_5k    4\n",
       "test_2019_11_5k    1\n",
       "test_2019_12_5k    2\n",
       "test_2020_01_5k    5\n",
       "test_2020_02_5k    1\n",
       "Name: source, dtype: int64"
      ]
     },
     "metadata": {},
     "output_type": "display_data"
    }
   ],
   "source": [
    "def check_list(input_list, word, pos):\n",
    "    for elem in input_list:\n",
    "        if elem[0] == word and elem[1] == pos:\n",
    "            return True\n",
    "    return False\n",
    "\n",
    "sub = \"The_Donald\"\n",
    "token = \"geo\"\n",
    "pos = \"PROPN\"\n",
    "\n",
    "results_df = overall_df[(overall_df.label==sub) & (overall_df.tokens_pos.apply(lambda x: check_list(x, token, pos)))]\n",
    "print(\"accuracy:\", f1_score(results_df.label, results_df.pred_match, average=\"micro\")) # accuracy, since all labels are the same\n",
    "display(results_df)\n",
    "display(results_df.groupby(\"source\").source.count())"
   ]
  },
  {
   "cell_type": "code",
   "execution_count": 161,
   "id": "bound-course",
   "metadata": {},
   "outputs": [
    {
     "name": "stdout",
     "output_type": "stream",
     "text": [
      "CPU times: user 7.48 s, sys: 156 ms, total: 7.64 s\n",
      "Wall time: 7.69 s\n"
     ]
    }
   ],
   "source": [
    "%%time\n",
    "\n",
    "# monthly dict of distinctiveness scores\n",
    "\n",
    "subreddits = ['ChapoTrapHouse', 'politics', 'Conservative', 'Libertarian', 'The_Donald']\n",
    "\n",
    "monthly_distinct_dict = {}\n",
    "for month in propn_counter.keys():\n",
    "    monthly_distinct_dict[month]={}\n",
    "    for sub in subreddits:\n",
    "        monthly_distinct_dict[month][sub] = Counter()\n",
    "\n",
    "for word in overall_counter[\"total\"]:\n",
    "    for month in propn_counter.keys():\n",
    "        for main_sub in subreddits:\n",
    "            main_prop_word = propn_counter[month][main_sub][word]\n",
    "            other_prop_word = 0\n",
    "\n",
    "            for other_sub in subreddits:\n",
    "                if main_sub != other_sub:\n",
    "                    other_prop_word += propn_counter[month][other_sub][word]\n",
    "            other_prop_word = other_prop_word/4\n",
    "\n",
    "            monthly_distinct_dict[month][main_sub][word] = main_prop_word-other_prop_word\n",
    "\n",
    "# remove some spacy errors --> e.g. recognising \"don\" in \"don't\" as PROPN like Don, the name\n",
    "\n",
    "spacy_errors = [\"don\", \"isn\", \"/\"]\n",
    "for month in propn_counter.keys():\n",
    "    for sub in subreddits:\n",
    "        for error in spacy_errors:\n",
    "            del monthly_distinct_dict[month][sub][error]"
   ]
  },
  {
   "cell_type": "markdown",
   "id": "ready-bernard",
   "metadata": {},
   "source": [
    "### Are distinctive words bursty?"
   ]
  },
  {
   "cell_type": "code",
   "execution_count": null,
   "id": "broken-charlotte",
   "metadata": {},
   "outputs": [],
   "source": []
  },
  {
   "cell_type": "code",
   "execution_count": null,
   "id": "vertical-mississippi",
   "metadata": {},
   "outputs": [],
   "source": []
  },
  {
   "cell_type": "markdown",
   "id": "other-pride",
   "metadata": {},
   "source": [
    "### Finding bursty words\n"
   ]
  },
  {
   "cell_type": "code",
   "execution_count": 142,
   "id": "significant-electronics",
   "metadata": {},
   "outputs": [
    {
     "name": "stdout",
     "output_type": "stream",
     "text": [
      "CPU times: user 290 ms, sys: 1.14 s, total: 1.43 s\n",
      "Wall time: 3.01 s\n"
     ]
    }
   ],
   "source": [
    "%%time\n",
    "\n",
    "# convert counts to proportions in monthly_counter\n",
    "for month in propn_counter:\n",
    "    for label in propn_counter[month].keys():\n",
    "        sum_count = sum(propn_counter[month][label].values())\n",
    "        for word in propn_counter[month][label]:\n",
    "            propn_counter[month][label][word] = propn_counter[month][label][word]/sum_count"
   ]
  },
  {
   "cell_type": "code",
   "execution_count": 226,
   "id": "basic-coordination",
   "metadata": {},
   "outputs": [],
   "source": [
    "# calculate burstiness score: for each word, absolute difference between highest % frequency and lowest % frequency across months\n",
    "\n",
    "burst_dict = {}\n",
    "for sub in subreddits:\n",
    "    burst_dict[sub]=Counter()\n",
    "burst_dict[\"total\"]=Counter()\n",
    "    \n",
    "for label in burst_dict:\n",
    "    for word in overall_counter[\"total\"]:\n",
    "        min_freq = 1\n",
    "        max_freq = 0\n",
    "        for month in propn_counter.keys():\n",
    "            if propn_counter[month][label][word]>max_freq:\n",
    "                max_freq = propn_counter[month][label][word]\n",
    "            if propn_counter[month][label][word]<min_freq:\n",
    "                min_freq = propn_counter[month][label][word]\n",
    "        burst_dict[label][word] = max_freq-min_freq\n",
    "\n",
    "spacy_errors = [\"don\", \"isn\", \"/\"]\n",
    "for sub in burst_dict:\n",
    "    for error in spacy_errors:\n",
    "        del burst_dict[sub][error]"
   ]
  },
  {
   "cell_type": "code",
   "execution_count": 227,
   "id": "stuffed-serve",
   "metadata": {},
   "outputs": [
    {
     "name": "stdout",
     "output_type": "stream",
     "text": [
      "Most BURSTY words by subreddit \n",
      "\n",
      "ChapoTrapHouse\n"
     ]
    },
    {
     "data": {
      "text/plain": [
       "[('bernie', 0.052251189461266334),\n",
       " ('pete', 0.020048602673147023),\n",
       " ('bloomberg', 0.01761846901579587),\n",
       " ('warren', 0.0164802825191289),\n",
       " ('cha', 0.016291474126805712)]"
      ]
     },
     "metadata": {},
     "output_type": "display_data"
    },
    {
     "name": "stdout",
     "output_type": "stream",
     "text": [
      "\n",
      "politics\n"
     ]
    },
    {
     "data": {
      "text/plain": [
       "[('bernie', 0.06591310560030078),\n",
       " ('trump', 0.03621773115727253),\n",
       " ('pete', 0.02868646200301963),\n",
       " ('ka', 0.02527075812274368),\n",
       " ('sanders', 0.024660291897332664)]"
      ]
     },
     "metadata": {},
     "output_type": "display_data"
    },
    {
     "name": "stdout",
     "output_type": "stream",
     "text": [
      "\n",
      "Conservative\n"
     ]
    },
    {
     "data": {
      "text/plain": [
       "[('trump', 0.037706242067612784),\n",
       " ('ka', 0.028199566160520606),\n",
       " ('obama', 0.025323280671218813),\n",
       " ('bernie', 0.02379570516540917),\n",
       " ('##vana', 0.023318872017353578)]"
      ]
     },
     "metadata": {},
     "output_type": "display_data"
    },
    {
     "name": "stdout",
     "output_type": "stream",
     "text": [
      "\n",
      "Libertarian\n"
     ]
    },
    {
     "data": {
      "text/plain": [
       "[('bernie', 0.03717245581962218),\n",
       " ('##ha', 0.03177966101694915),\n",
       " ('trump', 0.03059506034483088),\n",
       " ('us', 0.022790473693673288),\n",
       " ('libertarian', 0.0172736497141055)]"
      ]
     },
     "metadata": {},
     "output_type": "display_data"
    },
    {
     "name": "stdout",
     "output_type": "stream",
     "text": [
      "\n",
      "The_Donald\n"
     ]
    },
    {
     "data": {
      "text/plain": [
       "[('##aa', 0.030606860158311346),\n",
       " ('##ee', 0.020924811622486043),\n",
       " ('seth', 0.01948051948051948),\n",
       " ('trump', 0.018941885964912277),\n",
       " ('iran', 0.017718715393133997)]"
      ]
     },
     "metadata": {},
     "output_type": "display_data"
    },
    {
     "name": "stdout",
     "output_type": "stream",
     "text": [
      "\n",
      "total\n"
     ]
    },
    {
     "data": {
      "text/plain": [
       "[('bernie', 0.0384705461648286),\n",
       " ('ka', 0.017664563197862086),\n",
       " ('trump', 0.017609287638646026),\n",
       " ('##vana', 0.014651592062759575),\n",
       " ('##ugh', 0.014190124596215967)]"
      ]
     },
     "metadata": {},
     "output_type": "display_data"
    },
    {
     "name": "stdout",
     "output_type": "stream",
     "text": [
      "\n"
     ]
    }
   ],
   "source": [
    "print(\"Most BURSTY words by subreddit \\n\")\n",
    "for sub in burst_dict:\n",
    "    print(sub)\n",
    "    display(burst_dict[sub].most_common(5))\n",
    "    print()"
   ]
  },
  {
   "cell_type": "markdown",
   "id": "expressed-leave",
   "metadata": {},
   "source": [
    "### Are bursty words distinctive?\n",
    "\"##ana\" for Kavanaugh\n"
   ]
  },
  {
   "cell_type": "code",
   "execution_count": 228,
   "id": "returning-chemical",
   "metadata": {},
   "outputs": [
    {
     "name": "stdout",
     "output_type": "stream",
     "text": [
      "ChapoTrapHouse\n"
     ]
    },
    {
     "data": {
      "text/plain": [
       "[('cha', 0), ('##po', 1), ('ds', 2), ('matt', 3), ('felix', 4)]"
      ]
     },
     "metadata": {},
     "output_type": "display_data"
    },
    {
     "name": "stdout",
     "output_type": "stream",
     "text": [
      "\n",
      "politics\n"
     ]
    },
    {
     "data": {
      "text/plain": [
       "[('trump', 0), ('go', 1), ('##p', 2), ('russia', 3), ('republicans', 4)]"
      ]
     },
     "metadata": {},
     "output_type": "display_data"
    },
    {
     "name": "stdout",
     "output_type": "stream",
     "text": [
      "\n",
      "Conservative\n"
     ]
    },
    {
     "data": {
      "text/plain": [
       "[('democrat', 0),\n",
       " ('democrats', 1),\n",
       " ('shapiro', 2),\n",
       " ('obama', 3),\n",
       " ('california', 4)]"
      ]
     },
     "metadata": {},
     "output_type": "display_data"
    },
    {
     "name": "stdout",
     "output_type": "stream",
     "text": [
      "\n",
      "Libertarian\n"
     ]
    },
    {
     "data": {
      "text/plain": [
       "[('libertarian', 0), ('us', 1), ('nap', 2), ('paul', 3), ('ron', 4)]"
      ]
     },
     "metadata": {},
     "output_type": "display_data"
    },
    {
     "name": "stdout",
     "output_type": "stream",
     "text": [
      "\n",
      "The_Donald\n"
     ]
    },
    {
     "data": {
      "text/plain": [
       "[('##ee', 0), ('mag', 1), ('god', 2), ('##de', 3), ('geo', 4)]"
      ]
     },
     "metadata": {},
     "output_type": "display_data"
    },
    {
     "name": "stdout",
     "output_type": "stream",
     "text": [
      "\n"
     ]
    }
   ],
   "source": [
    "distinct_rank = {}\n",
    "\n",
    "for sub in distinct_dict:\n",
    "    distinct_rank[sub] = Counter()\n",
    "    for rank, pair in enumerate(distinct_dict[sub].most_common()):\n",
    "        distinct_rank[sub][pair[0]]=rank\n",
    "        \n",
    "for sub in distinct_rank:\n",
    "    print(sub)\n",
    "    out = distinct_rank[sub].most_common()[-5:]\n",
    "    out.reverse()\n",
    "    display(out)\n",
    "    print()"
   ]
  },
  {
   "cell_type": "code",
   "execution_count": 229,
   "id": "numerous-techno",
   "metadata": {},
   "outputs": [
    {
     "name": "stdout",
     "output_type": "stream",
     "text": [
      "ChapoTrapHouse\n"
     ]
    },
    {
     "data": {
      "text/plain": [
       "[('bernie', 0), ('pete', 1), ('bloomberg', 2), ('warren', 3), ('cha', 4)]"
      ]
     },
     "metadata": {},
     "output_type": "display_data"
    },
    {
     "name": "stdout",
     "output_type": "stream",
     "text": [
      "\n",
      "politics\n"
     ]
    },
    {
     "data": {
      "text/plain": [
       "[('bernie', 0), ('trump', 1), ('pete', 2), ('ka', 3), ('sanders', 4)]"
      ]
     },
     "metadata": {},
     "output_type": "display_data"
    },
    {
     "name": "stdout",
     "output_type": "stream",
     "text": [
      "\n",
      "Conservative\n"
     ]
    },
    {
     "data": {
      "text/plain": [
       "[('trump', 0), ('ka', 1), ('obama', 2), ('bernie', 3), ('##vana', 4)]"
      ]
     },
     "metadata": {},
     "output_type": "display_data"
    },
    {
     "name": "stdout",
     "output_type": "stream",
     "text": [
      "\n",
      "Libertarian\n"
     ]
    },
    {
     "data": {
      "text/plain": [
       "[('bernie', 0), ('##ha', 1), ('trump', 2), ('us', 3), ('libertarian', 4)]"
      ]
     },
     "metadata": {},
     "output_type": "display_data"
    },
    {
     "name": "stdout",
     "output_type": "stream",
     "text": [
      "\n",
      "The_Donald\n"
     ]
    },
    {
     "data": {
      "text/plain": [
       "[('##aa', 0), ('##ee', 1), ('seth', 2), ('trump', 3), ('iran', 4)]"
      ]
     },
     "metadata": {},
     "output_type": "display_data"
    },
    {
     "name": "stdout",
     "output_type": "stream",
     "text": [
      "\n",
      "total\n"
     ]
    },
    {
     "data": {
      "text/plain": [
       "[('bernie', 0), ('ka', 1), ('trump', 2), ('##vana', 3), ('##ugh', 4)]"
      ]
     },
     "metadata": {},
     "output_type": "display_data"
    },
    {
     "name": "stdout",
     "output_type": "stream",
     "text": [
      "\n"
     ]
    }
   ],
   "source": [
    "burst_rank = {}\n",
    "\n",
    "for sub in burst_dict:\n",
    "    burst_rank[sub] = Counter()\n",
    "    for rank, pair in enumerate(burst_dict[sub].most_common()):\n",
    "        burst_rank[sub][pair[0]]=rank\n",
    "        \n",
    "for sub in burst_rank:\n",
    "    print(sub)\n",
    "    out = burst_rank[sub].most_common()[-5:]\n",
    "    out.reverse()\n",
    "    display(out)\n",
    "    print()"
   ]
  },
  {
   "cell_type": "code",
   "execution_count": 230,
   "id": "canadian-shipping",
   "metadata": {},
   "outputs": [
    {
     "name": "stdout",
     "output_type": "stream",
     "text": [
      "CHAPOTRAPHOUSE\n",
      "bernie\t burst rank: 1\t distinct rank: 11\n",
      "pete\t burst rank: 2\t distinct rank: 14145\n",
      "bloomberg\t burst rank: 3\t distinct rank: 4816\n",
      "warren\t burst rank: 4\t distinct rank: 14366\n",
      "cha\t burst rank: 5\t distinct rank: 1\n",
      "\n",
      "POLITICS\n",
      "bernie\t burst rank: 1\t distinct rank: 14347\n",
      "trump\t burst rank: 2\t distinct rank: 1\n",
      "pete\t burst rank: 3\t distinct rank: 45\n",
      "ka\t burst rank: 4\t distinct rank: 14263\n",
      "sanders\t burst rank: 5\t distinct rank: 14\n",
      "\n",
      "CONSERVATIVE\n",
      "trump\t burst rank: 1\t distinct rank: 14440\n",
      "ka\t burst rank: 2\t distinct rank: 11\n",
      "obama\t burst rank: 3\t distinct rank: 4\n",
      "bernie\t burst rank: 4\t distinct rank: 14437\n",
      "##vana\t burst rank: 5\t distinct rank: 28\n",
      "\n",
      "LIBERTARIAN\n",
      "bernie\t burst rank: 1\t distinct rank: 14437\n",
      "##ha\t burst rank: 2\t distinct rank: 14275\n",
      "trump\t burst rank: 3\t distinct rank: 14440\n",
      "us\t burst rank: 4\t distinct rank: 2\n",
      "libertarian\t burst rank: 5\t distinct rank: 1\n",
      "\n",
      "THE_DONALD\n",
      "##aa\t burst rank: 1\t distinct rank: 13\n",
      "##ee\t burst rank: 2\t distinct rank: 1\n",
      "seth\t burst rank: 3\t distinct rank: 19\n",
      "trump\t burst rank: 4\t distinct rank: 14440\n",
      "iran\t burst rank: 5\t distinct rank: 14301\n",
      "\n"
     ]
    }
   ],
   "source": [
    "# distinctiveness of most bursty words\n",
    "\n",
    "for sub in burst_dict:\n",
    "    if sub!=\"total\":\n",
    "        print(sub.upper())\n",
    "        for word, _ in burst_dict[sub].most_common(5):\n",
    "            print(f\"{word}\\t burst rank: {burst_rank[sub][word]+1}\\t distinct rank: {distinct_rank[sub][word]+1}\", )\n",
    "        print()\n"
   ]
  },
  {
   "cell_type": "code",
   "execution_count": 231,
   "id": "ethical-fiber",
   "metadata": {},
   "outputs": [
    {
     "name": "stdout",
     "output_type": "stream",
     "text": [
      "CHAPOTRAPHOUSE\n",
      "cha\t burst rank: 5\t distinct rank: 1\n",
      "##po\t burst rank: 7\t distinct rank: 2\n",
      "ds\t burst rank: 54\t distinct rank: 3\n",
      "matt\t burst rank: 81\t distinct rank: 4\n",
      "felix\t burst rank: 91\t distinct rank: 5\n",
      "\n",
      "POLITICS\n",
      "trump\t burst rank: 2\t distinct rank: 1\n",
      "go\t burst rank: 21\t distinct rank: 2\n",
      "##p\t burst rank: 19\t distinct rank: 3\n",
      "russia\t burst rank: 9\t distinct rank: 4\n",
      "republicans\t burst rank: 22\t distinct rank: 5\n",
      "\n",
      "CONSERVATIVE\n",
      "democrat\t burst rank: 16\t distinct rank: 1\n",
      "democrats\t burst rank: 18\t distinct rank: 2\n",
      "shapiro\t burst rank: 35\t distinct rank: 3\n",
      "obama\t burst rank: 3\t distinct rank: 4\n",
      "california\t burst rank: 28\t distinct rank: 5\n",
      "\n",
      "LIBERTARIAN\n",
      "libertarian\t burst rank: 5\t distinct rank: 1\n",
      "us\t burst rank: 4\t distinct rank: 2\n",
      "nap\t burst rank: 41\t distinct rank: 3\n",
      "paul\t burst rank: 12\t distinct rank: 4\n",
      "ron\t burst rank: 39\t distinct rank: 5\n",
      "\n",
      "THE_DONALD\n",
      "##ee\t burst rank: 2\t distinct rank: 1\n",
      "mag\t burst rank: 57\t distinct rank: 2\n",
      "god\t burst rank: 37\t distinct rank: 3\n",
      "##de\t burst rank: 68\t distinct rank: 4\n",
      "geo\t burst rank: 130\t distinct rank: 5\n",
      "\n"
     ]
    }
   ],
   "source": [
    "# burstiness of most distinctive words\n",
    "\n",
    "for sub in distinct_dict:\n",
    "    print(sub.upper())\n",
    "    for word, _ in distinct_dict[sub].most_common(5):\n",
    "        print(f\"{word}\\t burst rank: {burst_rank[sub][word]+1}\\t distinct rank: {distinct_rank[sub][word]+1}\", )\n",
    "    print()\n"
   ]
  },
  {
   "cell_type": "code",
   "execution_count": null,
   "id": "cardiovascular-christopher",
   "metadata": {},
   "outputs": [],
   "source": []
  },
  {
   "cell_type": "code",
   "execution_count": null,
   "id": "whole-center",
   "metadata": {},
   "outputs": [],
   "source": []
  },
  {
   "cell_type": "code",
   "execution_count": 173,
   "id": "requested-salem",
   "metadata": {},
   "outputs": [
    {
     "name": "stdout",
     "output_type": "stream",
     "text": [
      "test_2017_03_5k 17.565359477124183\n",
      "test_2017_04_5k 4.555808656036446\n",
      "test_2017_05_5k 3.527336860670194\n",
      "test_2017_06_5k 7.4487895716946\n",
      "test_2017_07_5k 12.291483757682178\n",
      "test_2017_08_5k 9.589041095890412\n",
      "test_2017_09_5k 6.269592476489028\n",
      "test_2017_10_5k 7.881316643486325\n",
      "test_2017_11_5k 2.5163563160543534\n",
      "test_2017_12_5k 5.197505197505198\n",
      "test_2018_01_5k 3.3575825405707893\n",
      "test_2018_02_5k 2.053388090349076\n",
      "test_2018_03_5k 4.643962848297213\n",
      "test_2018_04_5k 3.8910505836575875\n",
      "test_2018_05_5k 4.608294930875576\n",
      "test_2018_06_5k 4.166666666666667\n",
      "test_2018_07_5k 4.244996967859309\n",
      "test_2018_08_5k 5.868544600938967\n",
      "test_2018_09_5k 9.107468123861567\n",
      "test_2018_10_5k 3.790271636133923\n",
      "test_2018_11_5k 4.5016077170418\n",
      "test_2018_12_5k 5.468215994531785\n",
      "test_2019_01_5k 3.893575600259572\n",
      "test_2019_02_5k 3.0921459492888066\n",
      "test_2019_03_5k 2.4345709068776626\n",
      "test_2019_04_5k 3.6079374624173184\n",
      "test_2019_05_5k 5.7915057915057915\n",
      "test_2019_06_5k 3.756574004507889\n",
      "test_2019_07_5k 3.604902667627974\n",
      "test_2019_08_5k 4.385964912280701\n",
      "test_2019_09_5k 4.524886877828055\n",
      "test_2019_10_5k 1.2738853503184713\n",
      "test_2019_11_5k 2.4227740763173835\n",
      "test_2019_12_5k 4.0887850467289715\n",
      "test_2020_01_5k 1.7657445556209534\n",
      "test_2020_02_5k 1.8226002430133657\n"
     ]
    }
   ],
   "source": [
    "search_word = \"cha\"\n",
    "sub = \"ChapoTrapHouse\"\n",
    "\n",
    "for key in propn_counter:\n",
    "    print(key, propn_counter[key][sub][search_word]*1000)"
   ]
  },
  {
   "cell_type": "code",
   "execution_count": 50,
   "id": "bound-framing",
   "metadata": {},
   "outputs": [
    {
     "name": "stdout",
     "output_type": "stream",
     "text": [
      "Libertarian \t 23\n",
      "politics \t 23\n",
      "ChapoTrapHouse \t 15\n",
      "Conservative \t 37\n",
      "The_Donald \t 32\n",
      "total \t 130\n"
     ]
    }
   ],
   "source": [
    "search_word = \"iran\"\n",
    "search_month = \"test_2020_01_5k\"\n",
    "for label in propn_counter[search_month]:\n",
    "    print(label,\"\\t\", propn_counter[search_month][label][search_word])"
   ]
  },
  {
   "cell_type": "code",
   "execution_count": 38,
   "id": "adjustable-sense",
   "metadata": {},
   "outputs": [
    {
     "name": "stdout",
     "output_type": "stream",
     "text": [
      "Libertarian \t 17\n",
      "politics \t 41\n",
      "ChapoTrapHouse \t 3\n",
      "Conservative \t 43\n",
      "The_Donald \t 23\n",
      "total \t 127\n"
     ]
    }
   ],
   "source": [
    "search_word = \"##vana\"\n",
    "search_month = \"test_2018_09_5k\"\n",
    "for label in propn_counter[search_month]:\n",
    "    print(label,\"\\t\", propn_counter[search_month][label][search_word])"
   ]
  },
  {
   "cell_type": "code",
   "execution_count": 124,
   "id": "second-millennium",
   "metadata": {},
   "outputs": [
    {
     "name": "stdout",
     "output_type": "stream",
     "text": [
      "Libertarian \t -0.00014372029070361825\n",
      "politics \t -0.00014359910011387932\n",
      "ChapoTrapHouse \t -0.0001584711781544082\n",
      "Conservative \t 0.0007201584887133457\n",
      "The_Donald \t -0.0002743679197414399\n"
     ]
    }
   ],
   "source": [
    "# overall distinctiveness score for a given word by subreddit\n",
    "\n",
    "word = \"iran\"\n",
    "\n",
    "for sub in subreddits:\n",
    "    print(sub, \"\\t\", distinct_dict[sub][word])"
   ]
  },
  {
   "cell_type": "code",
   "execution_count": null,
   "id": "smooth-haiti",
   "metadata": {},
   "outputs": [],
   "source": []
  },
  {
   "cell_type": "code",
   "execution_count": null,
   "id": "sophisticated-wealth",
   "metadata": {},
   "outputs": [],
   "source": []
  },
  {
   "cell_type": "code",
   "execution_count": 237,
   "id": "talented-january",
   "metadata": {},
   "outputs": [
    {
     "name": "stdout",
     "output_type": "stream",
     "text": [
      "peggy \t 4\n",
      "##ina \t 24\n",
      "##van \t 22\n",
      "nc \t 50\n",
      "frost \t 10\n",
      "friedman \t 78\n",
      "##ghan \t 4\n",
      "##erson \t 39\n",
      "shirley \t 2\n",
      "sinatra \t 4\n",
      "frankenstein \t 6\n",
      "aziz \t 6\n",
      "effect \t 9\n",
      "tweed \t 1\n",
      "kim \t 178\n",
      "farrell \t 4\n",
      "prisoner \t 7\n",
      "warren \t 545\n",
      "patton \t 15\n",
      "al \t 303\n",
      "moscow \t 66\n",
      "nancy \t 117\n",
      "tide \t 14\n",
      "ah \t 116\n",
      "donkey \t 12\n",
      "cv \t 16\n",
      "\\ \t 253\n",
      "##ella \t 14\n",
      "##ugh \t 285\n",
      "chat \t 12\n",
      "##o \t 1086\n",
      "kendrick \t 7\n",
      "project \t 28\n",
      "round \t 7\n",
      "##nat \t 48\n",
      "fiona \t 2\n",
      "roth \t 32\n",
      "##ris \t 55\n",
      "ama \t 121\n",
      "ag \t 157\n",
      "brett \t 54\n",
      "##and \t 40\n",
      "dayton \t 14\n",
      "bandit \t 4\n",
      "fury \t 8\n",
      "ice \t 191\n"
     ]
    }
   ],
   "source": [
    "most_improved = ['peggy', '##ina', '##van', 'nc', 'frost', 'friedman', '##ghan',\n",
    "       '##erson', 'shirley', 'sinatra', 'frankenstein', 'aziz', 'effect',\n",
    "       'tweed', 'kim', 'farrell', 'prisoner', 'warren', 'patton', 'al',\n",
    "       'moscow', 'nancy', 'tide', 'ah', 'donkey', 'cv', '\\\\', '##ella',\n",
    "       '##ugh', 'chat', '##o', 'kendrick', 'project', 'round', '##nat',\n",
    "       'fiona', 'roth', '##ris', 'ama', 'ag', 'brett', '##and', 'dayton',\n",
    "       'bandit', 'fury', 'ice']\n",
    "\n",
    "for word in most_improved:\n",
    "    print(word,\"\\t\", overall_counter[\"total\"][word])"
   ]
  },
  {
   "cell_type": "code",
   "execution_count": null,
   "id": "heated-timing",
   "metadata": {},
   "outputs": [],
   "source": []
  },
  {
   "cell_type": "code",
   "execution_count": null,
   "id": "honey-shelter",
   "metadata": {},
   "outputs": [],
   "source": []
  },
  {
   "cell_type": "code",
   "execution_count": null,
   "id": "corrected-pharmaceutical",
   "metadata": {},
   "outputs": [],
   "source": []
  },
  {
   "cell_type": "code",
   "execution_count": null,
   "id": "exact-nickel",
   "metadata": {},
   "outputs": [],
   "source": []
  },
  {
   "cell_type": "markdown",
   "id": "adverse-zimbabwe",
   "metadata": {},
   "source": [
    "***\n",
    "# ADDITIONAL ANALYSES"
   ]
  },
  {
   "cell_type": "markdown",
   "id": "comic-might",
   "metadata": {},
   "source": [
    "# CE LOSS"
   ]
  },
  {
   "cell_type": "markdown",
   "id": "immune-indonesia",
   "metadata": {},
   "source": [
    "### Do changes in prediction correspond to larger differences in CE loss?"
   ]
  },
  {
   "cell_type": "code",
   "execution_count": 208,
   "id": "desperate-association",
   "metadata": {},
   "outputs": [
    {
     "name": "stdout",
     "output_type": "stream",
     "text": [
      "Average improvement in CE loss per document: DAda vs NAda\n",
      "pred changed:\t 5.789614197121181 (51756)\n",
      "pred unchanged:\t 6.148843266626742 (128244)\n",
      "\n",
      "Average improvement in CE loss per document: TAda vs DAda\n",
      "pred changed:\t 0.045146262902441496 (37584)\n",
      "pred unchanged:\t 0.050466184276950155 (142416)\n"
     ]
    },
    {
     "data": {
      "image/png": "[encoded data removed]",
      "text/plain": [
       "<Figure size 432x288 with 1 Axes>"
      ]
     },
     "metadata": {
      "needs_background": "light"
     },
     "output_type": "display_data"
    }
   ],
   "source": [
    "print(\"Average improvement in CE loss per document: DAda vs NAda\")\n",
    "print(\"pred changed:\\t\", overall_df[(overall_df.pred_rand != overall_df.pred_base)].ce_diff_base_rand.mean(),\n",
    "      f\"({overall_df[(overall_df.pred_rand != overall_df.pred_base)].shape[0]})\")\n",
    "print(\"pred unchanged:\\t\", overall_df[(overall_df.pred_rand == overall_df.pred_base)].ce_diff_base_rand.mean(),\n",
    "     f\"({overall_df[(overall_df.pred_rand == overall_df.pred_base)].shape[0]})\")\n",
    "\n",
    "print()\n",
    "\n",
    "print(\"Average improvement in CE loss per document: TAda vs DAda\")\n",
    "print(\"pred changed:\\t\", overall_df[(overall_df.pred_rand != overall_df.pred_match)].ce_diff_rand_match.mean(),\n",
    "     f\"({overall_df[(overall_df.pred_rand != overall_df.pred_match)].shape[0]})\")\n",
    "print(\"pred unchanged:\\t\", overall_df[(overall_df.pred_rand == overall_df.pred_match)].ce_diff_rand_match.mean(),\n",
    "     f\"({overall_df[(overall_df.pred_rand == overall_df.pred_match)].shape[0]})\")\n",
    "\n",
    "bins = np.linspace(-20, 20, 41)\n",
    "plt.hist(overall_df[(overall_df.pred_rand == overall_df.pred_match)].ce_diff_rand_match, bins=bins, alpha=0.5, label='pred_unchanged')\n",
    "plt.hist(overall_df[(overall_df.pred_rand != overall_df.pred_match)].ce_diff_rand_match, bins=bins, alpha=0.5, label='pred_changed')\n",
    "plt.legend(loc='upper right')\n",
    "plt.show()"
   ]
  },
  {
   "cell_type": "code",
   "execution_count": 184,
   "id": "tough-heating",
   "metadata": {},
   "outputs": [
    {
     "data": {
      "text/plain": [
       "SpearmanrResult(correlation=-0.02035527415209116, pvalue=1.8165216430674298e-16)"
      ]
     },
     "metadata": {},
     "output_type": "display_data"
    },
    {
     "data": {
      "text/plain": [
       "SpearmanrResult(correlation=-0.0027274034002471447, pvalue=0.2699796366740861)"
      ]
     },
     "metadata": {},
     "output_type": "display_data"
    },
    {
     "name": "stdout",
     "output_type": "stream",
     "text": [
      "\n"
     ]
    },
    {
     "data": {
      "text/plain": [
       "Ttest_indResult(statistic=-259.9590982779896, pvalue=0.0)"
      ]
     },
     "metadata": {},
     "output_type": "display_data"
    },
    {
     "data": {
      "text/plain": [
       "Ttest_indResult(statistic=34.77991792890214, pvalue=1.4958067470498062e-264)"
      ]
     },
     "metadata": {},
     "output_type": "display_data"
    }
   ],
   "source": [
    "def did_pred_change(row, comp1, comp2):\n",
    "    if row[f\"pred_{comp1}\"]!=row[f\"pred_{comp2}\"]:\n",
    "        return 1\n",
    "    else:\n",
    "        return 0\n",
    "\n",
    "overall_df[\"pred_change_base_rand\"] = overall_df.apply(lambda x: did_pred_change(x, \"base\", \"rand\"), axis=1)\n",
    "overall_df[\"pred_change_rand_match\"] = overall_df.apply(lambda x: did_pred_change(x, \"rand\", \"match\"), axis=1)\n",
    "\n",
    "display(spearmanr(overall_df[overall_df.ce_diff_base_rand.notna()].pred_change_base_rand, overall_df[overall_df.ce_diff_base_rand.notna()].ce_diff_base_rand))\n",
    "display(spearmanr(overall_df[overall_df.ce_diff_rand_match.notna()].pred_change_rand_match, overall_df[overall_df.ce_diff_rand_match.notna()].ce_diff_rand_match))\n",
    "\n",
    "print()\n",
    "\n",
    "display(ttest_ind(overall_df[overall_df.ce_diff_base_rand.notna()].pred_change_base_rand, overall_df[overall_df.ce_diff_base_rand.notna()].ce_diff_base_rand))\n",
    "display(ttest_ind(overall_df[overall_df.ce_diff_rand_match.notna()].pred_change_rand_match, overall_df[overall_df.ce_diff_rand_match.notna()].ce_diff_rand_match))"
   ]
  },
  {
   "cell_type": "markdown",
   "id": "excess-screw",
   "metadata": {},
   "source": [
    "### How do changes in CE loss map onto correct/incorrect predictions?"
   ]
  },
  {
   "cell_type": "code",
   "execution_count": 133,
   "id": "optimum-guyana",
   "metadata": {},
   "outputs": [
    {
     "name": "stdout",
     "output_type": "stream",
     "text": [
      "Average change in CE loss per document by classification outcomes\n",
      "correct before and after: \t 6.466235453968977 (66199)\n",
      "not correct before but after: \t 6.032803801410472 (16302)\n",
      "correct before but not after: \t 5.921558788190905 (15282)\n",
      "not correct before and after: \t 5.725938965279575 (82217)\n"
     ]
    }
   ],
   "source": [
    "# BASE VS RAND\n",
    "\n",
    "print(\"Average change in CE loss per document by classification outcomes\")\n",
    "# correct before and after\n",
    "calc_df = overall_df[(overall_df.pred_base == overall_df.label) & (overall_df.pred_rand == overall_df.label)]\n",
    "print(\"correct before and after: \\t\", calc_df.ce_diff_base_rand.mean(), f\"({calc_df.shape[0]})\")\n",
    "\n",
    "# not correct before but after\n",
    "calc_df = overall_df[(overall_df.pred_base != overall_df.label) & (overall_df.pred_rand == overall_df.label)]\n",
    "print(\"not correct before but after: \\t\", calc_df.ce_diff_base_rand.mean(), f\"({calc_df.shape[0]})\")\n",
    "\n",
    "# correct before but not after\n",
    "calc_df = overall_df[(overall_df.pred_base == overall_df.label) & (overall_df.pred_rand != overall_df.label)]\n",
    "print(\"correct before but not after: \\t\", calc_df.ce_diff_base_rand.mean(), f\"({calc_df.shape[0]})\")\n",
    "\n",
    "# not correct before and after\n",
    "calc_df = overall_df[(overall_df.pred_base != overall_df.label) & (overall_df.pred_rand != overall_df.label)]\n",
    "print(\"not correct before and after: \\t\", calc_df.ce_diff_base_rand.mean(), f\"({calc_df.shape[0]})\")"
   ]
  },
  {
   "cell_type": "code",
   "execution_count": 212,
   "id": "hybrid-budapest",
   "metadata": {},
   "outputs": [
    {
     "name": "stdout",
     "output_type": "stream",
     "text": [
      "Average improvement in CE loss per document by classification outcome: TAda vs DAda\n",
      "DAda correct, TAda correct: \t 0.04686912630091707 (71153)\n",
      "DAda incorrect, TAda correct: \t 0.049152170330321696 (11570)\n",
      "DAda correct, TAda incorrect: \t 0.03586178956242669 (11348)\n",
      "DAda incorrect, TAda incorrect:  0.05330882681430649 (85929)\n"
     ]
    }
   ],
   "source": [
    "# DAda VS TAda\n",
    "\n",
    "print(\"Average improvement in CE loss per document by classification outcome: TAda vs DAda\")\n",
    "# correct before and after\n",
    "calc_df = overall_df[(overall_df.pred_rand == overall_df.label) & (overall_df.pred_match == overall_df.label)]\n",
    "print(\"DAda correct, TAda correct: \\t\", calc_df.ce_diff_rand_match.mean(), f\"({calc_df.shape[0]})\")\n",
    "\n",
    "# not correct before but after\n",
    "calc_df = overall_df[(overall_df.pred_rand != overall_df.label) & (overall_df.pred_match == overall_df.label)]\n",
    "print(\"DAda incorrect, TAda correct: \\t\", calc_df.ce_diff_rand_match.mean(), f\"({calc_df.shape[0]})\")\n",
    "\n",
    "# correct before but not after\n",
    "calc_df = overall_df[(overall_df.pred_rand == overall_df.label) & (overall_df.pred_match != overall_df.label)]\n",
    "print(\"DAda correct, TAda incorrect: \\t\", calc_df.ce_diff_rand_match.mean(), f\"({calc_df.shape[0]})\")\n",
    "\n",
    "# not correct before and after\n",
    "calc_df = overall_df[(overall_df.pred_rand != overall_df.label) & (overall_df.pred_match != overall_df.label)]\n",
    "print(\"DAda incorrect, TAda incorrect: \",calc_df.ce_diff_rand_match.mean(), f\"({calc_df.shape[0]})\")"
   ]
  },
  {
   "cell_type": "markdown",
   "id": "false-indonesian",
   "metadata": {},
   "source": [
    "# POS TAG"
   ]
  },
  {
   "cell_type": "code",
   "execution_count": 137,
   "id": "greatest-report",
   "metadata": {},
   "outputs": [],
   "source": [
    "%%time\n",
    "\n",
    "def count_tokens(tokens_pos, pos):\n",
    "    counter = 0\n",
    "    for elem in tokens_pos:\n",
    "        if elem[1]==pos:\n",
    "            counter+=1\n",
    "    return counter\n",
    "    \n",
    "for pos in [\"PROPN\", \"NOUN\"]:\n",
    "    overall_df[f\"count_{pos}\"]=overall_df.tokens_pos.apply(lambda x: count_tokens(x, pos))"
   ]
  },
  {
   "cell_type": "code",
   "execution_count": 213,
   "id": "removable-ecuador",
   "metadata": {},
   "outputs": [
    {
     "name": "stdout",
     "output_type": "stream",
     "text": [
      "Average number of PROPN tokens per document by classification outcome:\n",
      "DAda correct, TAda correct: \t 1.9236715247424565 (71153)\n",
      "DAda incorrect, TAda correct: \t 1.8335350043215213 (11570)\n",
      "DAda correct, TAda incorrect: \t 1.7706203736341206 (11348)\n",
      "DAda incorrect, TAda incorrect:  1.6261332029931688 (85929)\n"
     ]
    }
   ],
   "source": [
    "# RAND VS MATCH\n",
    "\n",
    "POS = \"PROPN\"\n",
    "\n",
    "print(f\"Average number of {POS} tokens per document by classification outcome:\")\n",
    "# correct before and after\n",
    "calc_df = overall_df[(overall_df.pred_rand == overall_df.label) & (overall_df.pred_match == overall_df.label)]\n",
    "print(\"DAda correct, TAda correct: \\t\", calc_df[f\"count_{POS}\"].mean(), f\"({calc_df.shape[0]})\")\n",
    "\n",
    "# not correct before but after\n",
    "calc_df = overall_df[(overall_df.pred_rand != overall_df.label) & (overall_df.pred_match == overall_df.label)]\n",
    "print(\"DAda incorrect, TAda correct: \\t\", calc_df[f\"count_{POS}\"].mean(), f\"({calc_df.shape[0]})\")\n",
    "\n",
    "# correct before but not after\n",
    "calc_df = overall_df[(overall_df.pred_rand == overall_df.label) & (overall_df.pred_match != overall_df.label)]\n",
    "print(\"DAda correct, TAda incorrect: \\t\", calc_df[f\"count_{POS}\"].mean(), f\"({calc_df.shape[0]})\")\n",
    "\n",
    "# not correct before and after\n",
    "calc_df = overall_df[(overall_df.pred_rand != overall_df.label) & (overall_df.pred_match != overall_df.label)]\n",
    "print(\"DAda incorrect, TAda incorrect: \", calc_df[f\"count_{POS}\"].mean(), f\"({calc_df.shape[0]})\")"
   ]
  },
  {
   "cell_type": "code",
   "execution_count": 214,
   "id": "burning-forwarding",
   "metadata": {},
   "outputs": [
    {
     "name": "stdout",
     "output_type": "stream",
     "text": [
      "Average number of NOUN tokens per document by classification outcome:\n",
      "DAda correct, TAda correct: \t 7.710623585793993 (71153)\n",
      "DAda incorrect, TAda correct: \t 6.71495246326707 (11570)\n",
      "DAda correct, TAda incorrect: \t 6.71933380331336 (11348)\n",
      "DAda incorrect, TAda incorrect:  6.177681574322987 (85929)\n"
     ]
    }
   ],
   "source": [
    "# RAND VS MATCH\n",
    "\n",
    "POS = \"NOUN\"\n",
    "\n",
    "print(f\"Average number of {POS} tokens per document by classification outcome:\")\n",
    "# correct before and after\n",
    "calc_df = overall_df[(overall_df.pred_rand == overall_df.label) & (overall_df.pred_match == overall_df.label)]\n",
    "print(\"DAda correct, TAda correct: \\t\", calc_df[f\"count_{POS}\"].mean(), f\"({calc_df.shape[0]})\")\n",
    "\n",
    "# not correct before but after\n",
    "calc_df = overall_df[(overall_df.pred_rand != overall_df.label) & (overall_df.pred_match == overall_df.label)]\n",
    "print(\"DAda incorrect, TAda correct: \\t\", calc_df[f\"count_{POS}\"].mean(), f\"({calc_df.shape[0]})\")\n",
    "\n",
    "# correct before but not after\n",
    "calc_df = overall_df[(overall_df.pred_rand == overall_df.label) & (overall_df.pred_match != overall_df.label)]\n",
    "print(\"DAda correct, TAda incorrect: \\t\", calc_df[f\"count_{POS}\"].mean(), f\"({calc_df.shape[0]})\")\n",
    "\n",
    "# not correct before and after\n",
    "calc_df = overall_df[(overall_df.pred_rand != overall_df.label) & (overall_df.pred_match != overall_df.label)]\n",
    "print(\"DAda incorrect, TAda incorrect: \", calc_df[f\"count_{POS}\"].mean(), f\"({calc_df.shape[0]})\")"
   ]
  },
  {
   "cell_type": "code",
   "execution_count": 215,
   "id": "behavioral-origin",
   "metadata": {},
   "outputs": [
    {
     "data": {
      "text/plain": [
       "SpearmanrResult(correlation=0.007728199338970447, pvalue=0.0010424081643512556)"
      ]
     },
     "metadata": {},
     "output_type": "display_data"
    },
    {
     "data": {
      "text/plain": [
       "SpearmanrResult(correlation=-0.0022543704159857124, pvalue=0.33884850016807333)"
      ]
     },
     "metadata": {},
     "output_type": "display_data"
    }
   ],
   "source": [
    "def did_pred_improve(row, comp1, comp2):\n",
    "    if (row[f\"pred_{comp1}\"]!=row.label) and (row[f\"pred_{comp2}\"]==row.label):\n",
    "        return 1\n",
    "    else:\n",
    "        return 0\n",
    "\n",
    "overall_df[\"pred_improve_rand_match\"] = overall_df.apply(lambda x: did_pred_improve(x, \"rand\", \"match\"), axis=1)\n",
    "\n",
    "display(spearmanr(overall_df.pred_improve_rand_match, overall_df.count_PROPN))\n",
    "display(spearmanr(overall_df.pred_improve_rand_match, overall_df.count_NOUN))\n"
   ]
  },
  {
   "cell_type": "code",
   "execution_count": 191,
   "id": "martial-measure",
   "metadata": {},
   "outputs": [
    {
     "data": {
      "text/html": [
       "<div>\n",
       "<style scoped>\n",
       "    .dataframe tbody tr th:only-of-type {\n",
       "        vertical-align: middle;\n",
       "    }\n",
       "\n",
       "    .dataframe tbody tr th {\n",
       "        vertical-align: top;\n",
       "    }\n",
       "\n",
       "    .dataframe thead th {\n",
       "        text-align: right;\n",
       "    }\n",
       "</style>\n",
       "<table border=\"1\" class=\"dataframe\">\n",
       "  <thead>\n",
       "    <tr style=\"text-align: right;\">\n",
       "      <th></th>\n",
       "      <th>text</th>\n",
       "      <th>tokens_pos</th>\n",
       "      <th>tokens_ner</th>\n",
       "      <th>label</th>\n",
       "      <th>ce_diff_base_rand</th>\n",
       "      <th>ce_diff_rand_match</th>\n",
       "      <th>pred_base</th>\n",
       "      <th>pred_rand</th>\n",
       "      <th>pred_match</th>\n",
       "      <th>source</th>\n",
       "      <th>count_PROPN</th>\n",
       "      <th>count_NOUN</th>\n",
       "      <th>pred_change_base_rand</th>\n",
       "      <th>pred_change_rand_match</th>\n",
       "    </tr>\n",
       "  </thead>\n",
       "  <tbody>\n",
       "    <tr>\n",
       "      <th>139898</th>\n",
       "      <td>You didn't ask me on the fly- You asked within...</td>\n",
       "      <td>[[[CLS], SPECIAL], [you, PRON], [didn, VERB], ...</td>\n",
       "      <td>[[[CLS], SPECIAL], [you, NO_ENT], [didn, NO_EN...</td>\n",
       "      <td>politics</td>\n",
       "      <td>18.104947</td>\n",
       "      <td>1.660358</td>\n",
       "      <td>Libertarian</td>\n",
       "      <td>Libertarian</td>\n",
       "      <td>politics</td>\n",
       "      <td>test_2019_06_5k</td>\n",
       "      <td>8</td>\n",
       "      <td>20</td>\n",
       "      <td>0</td>\n",
       "      <td>1</td>\n",
       "    </tr>\n",
       "    <tr>\n",
       "      <th>127928</th>\n",
       "      <td>If a leftist tries to punch you, go ahead and ...</td>\n",
       "      <td>[[[CLS], SPECIAL], [if, SCONJ], [a, DET], [lef...</td>\n",
       "      <td>[[[CLS], SPECIAL], [if, NO_ENT], [a, NO_ENT], ...</td>\n",
       "      <td>Conservative</td>\n",
       "      <td>0.001286</td>\n",
       "      <td>-0.000785</td>\n",
       "      <td>Conservative</td>\n",
       "      <td>The_Donald</td>\n",
       "      <td>Conservative</td>\n",
       "      <td>test_2019_04_5k</td>\n",
       "      <td>0</td>\n",
       "      <td>0</td>\n",
       "      <td>1</td>\n",
       "      <td>1</td>\n",
       "    </tr>\n",
       "    <tr>\n",
       "      <th>111119</th>\n",
       "      <td>sis, i just interpreted what they said ̄\\\\__(ツ...</td>\n",
       "      <td>[[[CLS], SPECIAL], [sis, INTJ], [,, PUNCT], [i...</td>\n",
       "      <td>[[[CLS], SPECIAL], [sis, NO_ENT], [,, NO_ENT],...</td>\n",
       "      <td>ChapoTrapHouse</td>\n",
       "      <td>7.755135</td>\n",
       "      <td>1.720819</td>\n",
       "      <td>ChapoTrapHouse</td>\n",
       "      <td>Conservative</td>\n",
       "      <td>ChapoTrapHouse</td>\n",
       "      <td>test_2019_01_5k</td>\n",
       "      <td>0</td>\n",
       "      <td>0</td>\n",
       "      <td>1</td>\n",
       "      <td>1</td>\n",
       "    </tr>\n",
       "    <tr>\n",
       "      <th>49479</th>\n",
       "      <td>Ok, Kurt Bardella. Person I’ve literally never...</td>\n",
       "      <td>[[[CLS], SPECIAL], [ok, INTJ], [,, PUNCT], [ku...</td>\n",
       "      <td>[[[CLS], SPECIAL], [ok, NO_ENT], [,, NO_ENT], ...</td>\n",
       "      <td>politics</td>\n",
       "      <td>14.459710</td>\n",
       "      <td>1.227222</td>\n",
       "      <td>politics</td>\n",
       "      <td>Conservative</td>\n",
       "      <td>politics</td>\n",
       "      <td>test_2017_12_5k</td>\n",
       "      <td>3</td>\n",
       "      <td>3</td>\n",
       "      <td>1</td>\n",
       "      <td>1</td>\n",
       "    </tr>\n",
       "    <tr>\n",
       "      <th>32927</th>\n",
       "      <td>The LP made no comments about executive fiat a...</td>\n",
       "      <td>[[[CLS], SPECIAL], [the, DET], [lp, PROPN], [m...</td>\n",
       "      <td>[[[CLS], SPECIAL], [the, NO_ENT], [lp, NO_ENT]...</td>\n",
       "      <td>Libertarian</td>\n",
       "      <td>6.951028</td>\n",
       "      <td>2.573160</td>\n",
       "      <td>Conservative</td>\n",
       "      <td>Conservative</td>\n",
       "      <td>Libertarian</td>\n",
       "      <td>test_2017_09_5k</td>\n",
       "      <td>1</td>\n",
       "      <td>8</td>\n",
       "      <td>0</td>\n",
       "      <td>1</td>\n",
       "    </tr>\n",
       "    <tr>\n",
       "      <th>63938</th>\n",
       "      <td>I like how I was being facetious about this ve...</td>\n",
       "      <td>[[[CLS], SPECIAL], [i, PRON], [like, VERB], [h...</td>\n",
       "      <td>[[[CLS], SPECIAL], [i, NO_ENT], [like, NO_ENT]...</td>\n",
       "      <td>Conservative</td>\n",
       "      <td>2.371035</td>\n",
       "      <td>0.627148</td>\n",
       "      <td>The_Donald</td>\n",
       "      <td>The_Donald</td>\n",
       "      <td>Conservative</td>\n",
       "      <td>test_2018_03_5k</td>\n",
       "      <td>2</td>\n",
       "      <td>2</td>\n",
       "      <td>0</td>\n",
       "      <td>1</td>\n",
       "    </tr>\n",
       "    <tr>\n",
       "      <th>4047</th>\n",
       "      <td>That okie doke all is fine, nothing to see her...</td>\n",
       "      <td>[[[CLS], SPECIAL], [that, DET], [ok, ADV], [##...</td>\n",
       "      <td>[[[CLS], SPECIAL], [that, NO_ENT], [ok, NO_ENT...</td>\n",
       "      <td>The_Donald</td>\n",
       "      <td>2.572371</td>\n",
       "      <td>2.056833</td>\n",
       "      <td>The_Donald</td>\n",
       "      <td>politics</td>\n",
       "      <td>The_Donald</td>\n",
       "      <td>test_2017_03_5k</td>\n",
       "      <td>5</td>\n",
       "      <td>5</td>\n",
       "      <td>1</td>\n",
       "      <td>1</td>\n",
       "    </tr>\n",
       "    <tr>\n",
       "      <th>95374</th>\n",
       "      <td>.... McCain was a republican...</td>\n",
       "      <td>[[[CLS], SPECIAL], [., PUNCT], [., PUNCT], [.,...</td>\n",
       "      <td>[[[CLS], SPECIAL], [., NO_ENT], [., NO_ENT], [...</td>\n",
       "      <td>Conservative</td>\n",
       "      <td>-0.000001</td>\n",
       "      <td>-0.000044</td>\n",
       "      <td>Conservative</td>\n",
       "      <td>politics</td>\n",
       "      <td>Conservative</td>\n",
       "      <td>test_2018_10_5k</td>\n",
       "      <td>1</td>\n",
       "      <td>0</td>\n",
       "      <td>1</td>\n",
       "      <td>1</td>\n",
       "    </tr>\n",
       "    <tr>\n",
       "      <th>31967</th>\n",
       "      <td>This should be added to the [\"Good Guy Trump\"]...</td>\n",
       "      <td>[[[CLS], SPECIAL], [this, DET], [should, AUX],...</td>\n",
       "      <td>[[[CLS], SPECIAL], [this, NO_ENT], [should, NO...</td>\n",
       "      <td>The_Donald</td>\n",
       "      <td>9.983545</td>\n",
       "      <td>0.095550</td>\n",
       "      <td>politics</td>\n",
       "      <td>politics</td>\n",
       "      <td>The_Donald</td>\n",
       "      <td>test_2017_09_5k</td>\n",
       "      <td>3</td>\n",
       "      <td>1</td>\n",
       "      <td>0</td>\n",
       "      <td>1</td>\n",
       "    </tr>\n",
       "    <tr>\n",
       "      <th>114167</th>\n",
       "      <td>“If you strike us down we will become more pow...</td>\n",
       "      <td>[[[CLS], SPECIAL], [“, PUNCT], [if, SCONJ], [y...</td>\n",
       "      <td>[[[CLS], SPECIAL], [“, NO_ENT], [if, NO_ENT], ...</td>\n",
       "      <td>The_Donald</td>\n",
       "      <td>9.583201</td>\n",
       "      <td>0.815191</td>\n",
       "      <td>The_Donald</td>\n",
       "      <td>Libertarian</td>\n",
       "      <td>The_Donald</td>\n",
       "      <td>test_2019_01_5k</td>\n",
       "      <td>0</td>\n",
       "      <td>3</td>\n",
       "      <td>1</td>\n",
       "      <td>1</td>\n",
       "    </tr>\n",
       "  </tbody>\n",
       "</table>\n",
       "</div>"
      ],
      "text/plain": [
       "                                                     text  \\\n",
       "139898  You didn't ask me on the fly- You asked within...   \n",
       "127928  If a leftist tries to punch you, go ahead and ...   \n",
       "111119  sis, i just interpreted what they said ̄\\\\__(ツ...   \n",
       "49479   Ok, Kurt Bardella. Person I’ve literally never...   \n",
       "32927   The LP made no comments about executive fiat a...   \n",
       "63938   I like how I was being facetious about this ve...   \n",
       "4047    That okie doke all is fine, nothing to see her...   \n",
       "95374                     .... McCain was a republican...   \n",
       "31967   This should be added to the [\"Good Guy Trump\"]...   \n",
       "114167  “If you strike us down we will become more pow...   \n",
       "\n",
       "                                               tokens_pos  \\\n",
       "139898  [[[CLS], SPECIAL], [you, PRON], [didn, VERB], ...   \n",
       "127928  [[[CLS], SPECIAL], [if, SCONJ], [a, DET], [lef...   \n",
       "111119  [[[CLS], SPECIAL], [sis, INTJ], [,, PUNCT], [i...   \n",
       "49479   [[[CLS], SPECIAL], [ok, INTJ], [,, PUNCT], [ku...   \n",
       "32927   [[[CLS], SPECIAL], [the, DET], [lp, PROPN], [m...   \n",
       "63938   [[[CLS], SPECIAL], [i, PRON], [like, VERB], [h...   \n",
       "4047    [[[CLS], SPECIAL], [that, DET], [ok, ADV], [##...   \n",
       "95374   [[[CLS], SPECIAL], [., PUNCT], [., PUNCT], [.,...   \n",
       "31967   [[[CLS], SPECIAL], [this, DET], [should, AUX],...   \n",
       "114167  [[[CLS], SPECIAL], [“, PUNCT], [if, SCONJ], [y...   \n",
       "\n",
       "                                               tokens_ner           label  \\\n",
       "139898  [[[CLS], SPECIAL], [you, NO_ENT], [didn, NO_EN...        politics   \n",
       "127928  [[[CLS], SPECIAL], [if, NO_ENT], [a, NO_ENT], ...    Conservative   \n",
       "111119  [[[CLS], SPECIAL], [sis, NO_ENT], [,, NO_ENT],...  ChapoTrapHouse   \n",
       "49479   [[[CLS], SPECIAL], [ok, NO_ENT], [,, NO_ENT], ...        politics   \n",
       "32927   [[[CLS], SPECIAL], [the, NO_ENT], [lp, NO_ENT]...     Libertarian   \n",
       "63938   [[[CLS], SPECIAL], [i, NO_ENT], [like, NO_ENT]...    Conservative   \n",
       "4047    [[[CLS], SPECIAL], [that, NO_ENT], [ok, NO_ENT...      The_Donald   \n",
       "95374   [[[CLS], SPECIAL], [., NO_ENT], [., NO_ENT], [...    Conservative   \n",
       "31967   [[[CLS], SPECIAL], [this, NO_ENT], [should, NO...      The_Donald   \n",
       "114167  [[[CLS], SPECIAL], [“, NO_ENT], [if, NO_ENT], ...      The_Donald   \n",
       "\n",
       "        ce_diff_base_rand  ce_diff_rand_match       pred_base     pred_rand  \\\n",
       "139898          18.104947            1.660358     Libertarian   Libertarian   \n",
       "127928           0.001286           -0.000785    Conservative    The_Donald   \n",
       "111119           7.755135            1.720819  ChapoTrapHouse  Conservative   \n",
       "49479           14.459710            1.227222        politics  Conservative   \n",
       "32927            6.951028            2.573160    Conservative  Conservative   \n",
       "63938            2.371035            0.627148      The_Donald    The_Donald   \n",
       "4047             2.572371            2.056833      The_Donald      politics   \n",
       "95374           -0.000001           -0.000044    Conservative      politics   \n",
       "31967            9.983545            0.095550        politics      politics   \n",
       "114167           9.583201            0.815191      The_Donald   Libertarian   \n",
       "\n",
       "            pred_match           source  count_PROPN  count_NOUN  \\\n",
       "139898        politics  test_2019_06_5k            8          20   \n",
       "127928    Conservative  test_2019_04_5k            0           0   \n",
       "111119  ChapoTrapHouse  test_2019_01_5k            0           0   \n",
       "49479         politics  test_2017_12_5k            3           3   \n",
       "32927      Libertarian  test_2017_09_5k            1           8   \n",
       "63938     Conservative  test_2018_03_5k            2           2   \n",
       "4047        The_Donald  test_2017_03_5k            5           5   \n",
       "95374     Conservative  test_2018_10_5k            1           0   \n",
       "31967       The_Donald  test_2017_09_5k            3           1   \n",
       "114167      The_Donald  test_2019_01_5k            0           3   \n",
       "\n",
       "        pred_change_base_rand  pred_change_rand_match  \n",
       "139898                      0                       1  \n",
       "127928                      1                       1  \n",
       "111119                      1                       1  \n",
       "49479                       1                       1  \n",
       "32927                       0                       1  \n",
       "63938                       0                       1  \n",
       "4047                        1                       1  \n",
       "95374                       1                       1  \n",
       "31967                       0                       1  \n",
       "114167                      1                       1  "
      ]
     },
     "execution_count": 191,
     "metadata": {},
     "output_type": "execute_result"
    }
   ],
   "source": [
    "overall_df[(overall_df.pred_rand != overall_df.label) & (overall_df.pred_match == overall_df.label)].sample(10, random_state=123)"
   ]
  },
  {
   "cell_type": "markdown",
   "id": "straight-stress",
   "metadata": {},
   "source": [
    "# PSP RESULTS"
   ]
  },
  {
   "cell_type": "code",
   "execution_count": 198,
   "id": "certified-festival",
   "metadata": {},
   "outputs": [],
   "source": [
    "conf_base = confusion_matrix(overall_df.label, overall_df.pred_base)"
   ]
  },
  {
   "cell_type": "code",
   "execution_count": 199,
   "id": "weird-customer",
   "metadata": {},
   "outputs": [],
   "source": [
    "conf_rand = confusion_matrix(overall_df.label, overall_df.pred_rand)"
   ]
  },
  {
   "cell_type": "code",
   "execution_count": 200,
   "id": "expired-confusion",
   "metadata": {},
   "outputs": [],
   "source": [
    "conf_match = confusion_matrix(overall_df.label, overall_df.pred_match)"
   ]
  },
  {
   "cell_type": "code",
   "execution_count": 201,
   "id": "dental-consumer",
   "metadata": {},
   "outputs": [
    {
     "data": {
      "text/plain": [
       "array([[  51,  177,   30, -276,   18],\n",
       "       [-202,  589,   -2, -271, -114],\n",
       "       [ -95,  189,  158, -251,   -1],\n",
       "       [-189,  379,  -36, -152,   -2],\n",
       "       [-231,  185,   33, -361,  374]])"
      ]
     },
     "execution_count": 201,
     "metadata": {},
     "output_type": "execute_result"
    }
   ],
   "source": [
    "conf_rand-conf_base"
   ]
  },
  {
   "cell_type": "code",
   "execution_count": 202,
   "id": "lyric-gnome",
   "metadata": {},
   "outputs": [
    {
     "data": {
      "text/plain": [
       "array([[  32,   47,   47,  -92,  -34],\n",
       "       [  30,  170,  113, -227,  -86],\n",
       "       [ -88, -102,  202,   27,  -39],\n",
       "       [   4,    6,   67,  -81,    4],\n",
       "       [  62,    9,   24,    6, -101]])"
      ]
     },
     "execution_count": 202,
     "metadata": {},
     "output_type": "execute_result"
    }
   ],
   "source": [
    "conf_match - conf_rand"
   ]
  },
  {
   "cell_type": "code",
   "execution_count": 24,
   "id": "cutting-rochester",
   "metadata": {},
   "outputs": [],
   "source": [
    "# load results to dict\n",
    "\n",
    "MODEL_TYPE = \"base+month\"\n",
    "\n",
    "id_to_label = {\n",
    "    0: \"ChapoTrapHouse\",\n",
    "    1: \"Conservative\",\n",
    "    2: \"Libertarian\",\n",
    "    3: \"The_Donald\",\n",
    "    4: \"politics\"\n",
    "}\n",
    "\n",
    "results = {}\n",
    "directory = f'../../0_results/classification/reddit/month-models/{MODEL_TYPE}'\n",
    "for result_csv in os.listdir(directory):\n",
    "    if result_csv.endswith(\".csv\") and \"20k-test\" in result_csv:\n",
    "        results[os.path.splitext(result_csv)[0]] = pd.read_csv(os.path.join(directory, result_csv))\n",
    "        for key in id_to_label:\n",
    "            results[os.path.splitext(result_csv)[0]].prediction.replace(key, id_to_label[key], inplace=True)"
   ]
  },
  {
   "cell_type": "code",
   "execution_count": 25,
   "id": "renewable-repeat",
   "metadata": {},
   "outputs": [],
   "source": [
    "# load monthly test sets to dict\n",
    "\n",
    "test_sets = {}\n",
    "\n",
    "directory = '../../0_data/clean/labelled_reddit/month_splits/'\n",
    "for test_csv in os.listdir(directory):\n",
    "    if test_csv.endswith(\"5k.csv\") and \"test\" in test_csv:\n",
    "        test_sets[os.path.splitext(test_csv)[0]] = pd.read_csv(os.path.join(directory, test_csv))"
   ]
  },
  {
   "cell_type": "code",
   "execution_count": 26,
   "id": "precise-laugh",
   "metadata": {},
   "outputs": [],
   "source": [
    "# merge predictions of month-tuned models to test sets\n",
    "for test_month in sorted(test_sets):\n",
    "    for model in sorted(results):\n",
    "        if test_month in model:\n",
    "            test_sets[test_month] = test_sets[test_month].merge(results[model][\"prediction\"],left_index=True, right_index=True)\n",
    "            test_sets[test_month].rename(columns={\"prediction\": model}, inplace=True)"
   ]
  },
  {
   "cell_type": "code",
   "execution_count": 87,
   "id": "absent-endorsement",
   "metadata": {},
   "outputs": [
    {
     "name": "stdout",
     "output_type": "stream",
     "text": [
      "CPU times: user 33.8 s, sys: 90.8 ms, total: 33.9 s\n",
      "Wall time: 34 s\n"
     ]
    }
   ],
   "source": [
    "%%time\n",
    "\n",
    "# find cases that are correct when tuning month = test month, then count number of correct predictions for that case from the 35 other month-tuned models\n",
    "\n",
    "def count_correct(row, test_month):\n",
    "\n",
    "    n_correct = 0\n",
    "\n",
    "    for key in row.index:\n",
    "        if key.startswith(\"bert-base\") and f\"train_{re.search('test_(.*?)_5k',test_month).group(1)}\" not in key:\n",
    "            if row.label == row[key]:\n",
    "                n_correct+=1\n",
    "            \n",
    "    return n_correct\n",
    "\n",
    "analysis_dict = {}\n",
    "\n",
    "for test_month in sorted(test_sets):\n",
    "    df = test_sets[test_month].copy()\n",
    "    df = df[df.label==df[f\"bert-base-train_{re.search('test_(.*?)_5k',test_month).group(1)}_20k-{test_month}\"]]\n",
    "    \n",
    "    df[\"n_correct\"]= df.apply(lambda x: count_correct(x, test_month), axis=1)\n",
    "    \n",
    "    analysis_dict[test_month] = df"
   ]
  },
  {
   "cell_type": "code",
   "execution_count": 126,
   "id": "christian-tattoo",
   "metadata": {
    "collapsed": true,
    "jupyter": {
     "outputs_hidden": true
    }
   },
   "outputs": [
    {
     "name": "stdout",
     "output_type": "stream",
     "text": [
      "TEST_2017_03_5K \n",
      "\n",
      "LIBERTARIAN\n",
      "They're not irreconcilable. If there were irreconcilable then no business could ever exist - because all those people come together *freely* and freely trade. They all come out ahead - or they wouldn't cooperate. How can that be so hard to see. \n",
      "\n",
      "POLITICS\n",
      "[Is the GOP's Healthcare Proposal Titled 'World's Greatest'?]([URL] It's not just Trump supporters who spread 'fake news'. It was even on the front page of reddit yesterday, and I saw it freshly posted again on facebook today. \n",
      "\n",
      "LIBERTARIAN\n",
      "This is, on it's face, false. Of course taxation is bad and we should limit it to the extent we can. Who think taxes aren't bad? Otherwise why not just set taxes to 100% and hand over ownership of the economy to the government. After all taxes have no downside, amiright? Obviously the taxes themselves aren't good, but they can be spent on good things. No one would be in favor of taxes if the money were just burned in a pit. However, spending it on collective projects can provide great benefit, that often outweighs the downside of having to pay taxes. Pooling resources allows for economies of scale which are more efficient. \n",
      "\n",
      "LIBERTARIAN\n",
      "Same here. Regulate in a way that makes sense. Do not regulate to the lowest common denominator. \n",
      "\n",
      "THE_DONALD\n",
      "#*\"Ya think yer hot shit, DONTCH YUH??\"* \n",
      "\n",
      "\n",
      "TEST_2017_04_5K \n",
      "\n",
      "LIBERTARIAN\n",
      "No, it's fine. Thanks for being civil, I wasn't trying to start anything, just genuinely curious what you meant. To maybe give you a bit of an answer though: I personally believe in Libertarian values for government structure (more power at the local level, to better represent its constituents; the state should mostly stay out of civil issues; we shouldn't intervene in the market and let it handle itself, etc) *but* I also think modern business structures are a remnant of Feudalism, and a space where we readily accept hierarchy, despite fighting against it everywhere else. But I also don't want to tell anyone how they have to run their lives. So there should be a choice. Many would argue that we already have a choice, we could work for whoever we wanted. But the unfortunate reality is that 99.9% of businesses are structured this way. So how do we achieve choice? I'm all ears, but I can't imagine it ever actually happening outside of the state, via tax dollars. Perhaps it would only need to be at first as t \n",
      "\n",
      "LIBERTARIAN\n",
      "If you want small government then why can't we just disband the united part of the states? \n",
      "\n",
      "LIBERTARIAN\n",
      "anti-trust legislation Depends on the implementation, but a lot of libertarians support it. Fraud and coercion are antithetical to a free market. > universal healthcare, This does very very very little to decrease corporate power. > higher taxes on those that make very high amounts of money This doesn't decrease corporate power either. > anti-TTP I assume you mean the TPP. \"Free trade\" agreements often aren't and a lot of libertarians do not support most of them. The TPP in specific *could* be good. > lowering drug prices Yes, especially the way bernie wants to do it: legalize imports and decrease patent protection....these things totally are free market capitalism though. \n",
      "\n",
      "POLITICS\n",
      "“100-day plan to restore prosperity to our economy, security to our communities, and honesty to our government.” Not that I care for how Trump is going about it to achieve his plans (plans?), the one that I agreed with the most is The Donald's least....restoring honesty to our government. Coming from him that's just plain laughable. \n",
      "\n",
      "THE_DONALD\n",
      "It's been my alarm clock for months. Best way to wake up! #WE ARE GOING TO MAKE OUR COUNTRY GREAT AGAIN! \n",
      "\n",
      "\n",
      "TEST_2017_05_5K \n",
      "\n",
      "THE_DONALD\n",
      "Ex shillary supporter checking in. By the time I voted for her, I hated her though. Just didn't know Trump wasn't as bad as the msm said.... thought I was doing the right thing. \n",
      "\n",
      "THE_DONALD\n",
      "Am currently abroad. Have never been in Trump's America. Can't wait to get home again. \n",
      "\n",
      "CHAPOTRAPHOUSE\n",
      "Man it's almost like they're a bunch of nerds desperately trying to latch onto trends to be perceived as cool and in the right. \n",
      "\n",
      "LIBERTARIAN\n",
      "You must not know the text of the Civil Rights Act of 64, it specifically covers public accommodations so places a burden on private property owners. This Rand, Friedman, and other libertarians, however, opposed on principle the application of antidiscrimination laws to private parties. means that they necessarily oppose the civil rights act of 64. So when libertarians \"thinkers\" have taken that position, why again is it a strawman to suggest that it is a libertarian position? \n",
      "\n",
      "POLITICS\n",
      "Republicans might want him to shut up, but I think the nation needs to be inescapably confronted with his mental state, clockwork orange style. \n",
      "\n",
      "\n",
      "TEST_2017_06_5K \n",
      "\n",
      "POLITICS\n",
      "If loosing by a few points in a deep red district demoralizes and exhausts people, they didn't have the right expectations. This was Newt Gingrich's seat. This shouldn't have even been a fight for the GOP. \n",
      "\n",
      "CHAPOTRAPHOUSE\n",
      "Season 5 of HoC was absolutely awful, and is made worse by the fact that the irl Underwoods just got blown the fuck out by an orange gameshow host with holes in his brain. \n",
      "\n",
      "CHAPOTRAPHOUSE\n",
      "Yah true but open world games today are basically the console FPSs of yesterday. They're easy to make and have been done to death already. Don't get me wrong I'm going to buy the game since Metro is the only series I can get excited about nowadays but it better not be a \"fix each ally base by killing 10 creatures\" thing. Come to think of it if they keep the mask/filter thing going open world of nothingness could still be fun. Most memorable part of 2033 was shooting masks off of the nazis outside. \n",
      "\n",
      "CHAPOTRAPHOUSE\n",
      "I think it says something about me that I wouldn't have found the podcast without Jia Tolentino's New Yorker piece. The podcast got me on Twitter, on here, and now I'm fully radicalized. The New Yorker saved my soul \n",
      "\n",
      "CONSERVATIVE\n",
      "Part of the reason for that is that Christian opinions on gay marriage are way more important than Muslim opinions in this country. Muslims make up a tiny fraction of the population, Christians make up the majority (I'm pretty sure, at least a plurality). There wasn't really a need to explore Muslim views during the gay marriage debate because their numbers are so small. \n",
      "\n",
      "\n",
      "TEST_2017_07_5K \n",
      "\n",
      "LIBERTARIAN\n",
      "The \"If you don't like government, go live in Somalia\" argument. I think you are missing the point here a little bit. Specifically: >Somalia has several governments, its just the internationally recognized one is unable to extend control over the entire country. None of the governments in question are particularly libertarian however. The fact that Somalia has several warring governments is not a rebuttal - its the point. The point of the \"look at Somalia\" argument is to point that then when a central government goes away or is vastly weakened, it's not replaced by libertarianish property rights, but by smaller, warring governments. This has happened over and over in history, whether it be the German states, the Japanese warlords or the Chinese Junfa periods. This is what happens with a weak central government. The fact that Somalia is a mess without a strong central government is the point. \n",
      "\n",
      "CHAPOTRAPHOUSE\n",
      "mom was an og socialist in Thatcher's England, dad was a fuckin hick now mom is Mormonish and Dad is a big ol centerist dork they are no longer married \n",
      "\n",
      "LIBERTARIAN\n",
      "I don't agree that they are immoral though Yeah obviously, due to copious amounts of propaganda, many people feel the same way as you do. Many people back in the day didn't think slavery was immoral either. This is why we libertarians have to constantly remind people of reality, taxes are theft, and war is murder. At what point do taxes stop being community? You might argue that a 50% tax on rich people is community, but what about 100%? Isn't that theft? At what % do taxes become theft? \n",
      "\n",
      "LIBERTARIAN\n",
      "I know you're not self sustainable because no one is self sustainable. Irrelevant. I have already proven that you don't nee to tax people for the roads. >Have you been vaccinated (federally subsidized)? Pay up. Sure, how much do I owe? \n",
      "\n",
      "THE_DONALD\n",
      "#NO MERCY! #SWEEP THE LEG, JOHNNY! SWEEP THE LEG! \n",
      "\n",
      "\n",
      "TEST_2017_08_5K \n",
      "\n",
      "CHAPOTRAPHOUSE\n",
      "I used to read some theorizing there along those lines, but as Ive learned from the joys of being a total bandwagoner about doing little other than listening to podcasts, pissposting in the name of Posadism, and reading ROTFLOL inadvertantly hilarious tweets - it's that its almost impossible to tell the difference between a pretend annoying know-it-all and the real thing \n",
      "\n",
      "POLITICS\n",
      "Your submission `KKK Hoods and Russian Flags Appear In Trump Tower Gift Shop` was automatically removed because `gothamist.com` is not on our approved source [whitelist]([URL] r/politics has a number of conditions that domains must adhere to in order to be approved as an acceptable source. Domains must: * Be notable, as defined by our [**domain notability guidelines**]([URL] Notable domains will consist of news organizations, research organizations, political advocacy groups, governmental agencies / bodies, and political parties. * Contain articles, videos or sound-clips relevant to current US politics * Contain original content that has not been stolen or rehosted from another source. * Be accessible at least once **without** paying for a subscription or completing a survey. If you believe that you have a domain that is eligible for our approved whitelist, please use the link at the end of this message to submit it \n",
      "\n",
      "THE_DONALD\n",
      "**FOR THE LOVE OF GOD GET THIS PATRIOT A BRICK! THAT'S 72279 BRICKS HANDED OUT!** We are at **11.7197136306%** of our goal to **BUILD THE WALL** starting from Imperial Beach, CA to Brownsville, Texas! Lets make sure everyone gets a brick in the United States! For every Centipede a brick, for every brick a Centipede! At this rate, the wall will be **843.30123236 MILES WIDE** and **334.796974861 FEET HIGH** by tomorrow! **DO YOUR PART!** \n",
      "\n",
      "LIBERTARIAN\n",
      "I was responding your own idiotic statement, which was: >That you think it's not a relevant statistic is a problem. Now, are you going to pretend that you didn't say that? \n",
      "\n",
      "THE_DONALD\n",
      "To the TOP!!!! \n",
      "\n",
      "\n",
      "TEST_2017_09_5K \n",
      "\n",
      "THE_DONALD\n",
      "I hate being a grammar nazi(!) to a fellow 'pede, but in the interests of self-improvement, I thought you might like to know that it's a 'rite' of passage. Cheers. \n",
      "\n",
      "LIBERTARIAN\n",
      "Society bears the burden of risks taken by all kinds of people who have problems with personal responsibility. And this is a point of contention for many libertarians, myself included. **Risk-takers keep the rewards of their risks for themselves, and farm out their losses to the rest of us.** (bold, again, for emphasis only) It is greed of the worst kind. This is completely unethical in my mind, and *forcing/requiring* others to share in the losses but not in the gains is wildly unacceptable to me. \n",
      "\n",
      "CHAPOTRAPHOUSE\n",
      "triggers I wish they had PTSD... TRAUMATIZE THE BOURGEOIS \n",
      "\n",
      "LIBERTARIAN\n",
      "And the Nazis were capitalist, they had private ownership of the means of production, the seized Jewish property and sold it to German businessman, So they violated property rights and therefore *didn't* believe in privately owned MOP. >they were socialist in name only. Listen to just 1 hitler or gobbles speech, both kept claiming Bolshevism is a Jewish conspiracy. Yes, they were socialist and opposed Bolshevism because they regarded it as a jewish bastardisation of socialism. >Here, just watch this, this guy has made like half a dozen videos showing why this claim is utter bullshit. >[URL] Oh jesus. That moron with the Lassalle avatar. >The Jewish nigger Lassalle who, I’m glad to say, is leaving at the end of this week, has happily lost another 5,000 talers in an ill-judged speculation. The chap would sooner throw money down the drain than lend it to a ‘friend’, even though his interest and capital were guaranteed. In this he bases himself on the \n",
      "\n",
      "LIBERTARIAN\n",
      "This is so accurate. I've found repeatedly that people's frustrations with government bureaucracies usually stems from them being unprepared. Granted they don't always know the processes or rules, but *goddammit they are posted right by the fucking door in three languages*. So many people (and I'm not singling out libertarians here, but they push this especially hard) praise the idea of self-reliance, yet seem to ignore the fact that society is *filled to the brim* with people who don't give a shit and just want to scream about how they are being screwed over when they just didn't put in any effort at all. For most people if you just do a tiny bit of research, take some personal responsibility, and you'll find a *lot* of \"stupid bureaucracies\" suddenly become a lot easier to deal with. \n",
      "\n",
      "\n",
      "TEST_2017_10_5K \n",
      "\n",
      "LIBERTARIAN\n",
      "Let's start with the very most basic net gain the government has given us, which has lead to incalculable benefits from people growing up into whatever profession they decide. Education. It didn't give us education. Your fallacy is false dichotomy. > In 1867 the Federal Deparment of Education was created. In 1870, 20 percent of the population was illiterate. By 1900, 30 years later, it was down to 10.7 percent. 30 more years and you're looking at 4.3 percent. Post hoc, ergo propter hoc. There was also an Industrial Revolution going on at the time. I bet you also think that government mandates are what ended child labor too. \n",
      "\n",
      "LIBERTARIAN\n",
      "I thought libertarians supported funding that makes sense for social issues? Libertarians believe government shouldn't be involved in the regulation of social issues *at all*. Dictating what people can and can't do, socially speaking, curtails the pursuit of life, liberty, and happiness, which is guaranteed by our constitutional rights, so long as it does not impinge upon another's pursuit of the aforementioned. \n",
      "\n",
      "LIBERTARIAN\n",
      "I don't see how. Going to the gold standard would mean the end of being able to quickly adjust the money supply It's like you're not even reading what I wrote. I said that you *don't* need to return to a gold standard > The proof is the great depression. I would say the main thing the great depression proves is that high government spending, heavy progressive taxation, wage freezes, rationing, price fixing, and all other manner of Keynesian efforts to improve \"cash flow\" at the expense of good economic decisions lead to the longest depression in modern times that we didn't recover from until FDR died and his policies were abandoned. > I don't even know what this is supposed to mean. A prominent feature of Keynesian policies is to centralize market spending, generally at the Federal government. It's centralized market planning, which has failed time and time again in every country that's instituted it. \n",
      "\n",
      "CHAPOTRAPHOUSE\n",
      "Folks, I'll be at Podfest tonight. I'll try to not freak out the Chapo crew. \n",
      "\n",
      "THE_DONALD\n",
      "When we build the wall, the cretins will not be able to get out. This allows the US to round them up and charge them before being deported. There is a 10 year waiting period for legal re-entry if you are caught doing a crime while here illegally. 4d chess. \n",
      "\n",
      "\n",
      "TEST_2017_11_5K \n",
      "\n",
      "LIBERTARIAN\n",
      "The quote you pasted mentioned no requirement You brought up reading as the \"proof\" you wanted. Of course it was your requirement. >By your own words you deliberately let me continue on with my misunderstanding. I gave you rope and you hung yourself. > If I was misquoting you, then you misquoted yourself since you left out just as much context as I did. Again listen to the word I wrote: \"You removed the context and then lied about the context. So yes, of course you were misquoting by definition.\" Now try again. >speaking generally didn't contradict my anecdote You contradicted yourself to move the goal posts. Its is ok to admit it. >At that point I hadn't said you were part of the problem So your argument is you didn't say I was the problem until you said I was the problem? And you called me insane? lol! >I thought my rant was, \"about how no one can no anything about anyone online\". That is completely different from saying you can't identify who is a troll. These are log \n",
      "\n",
      "LIBERTARIAN\n",
      "Sound good on paper, doesn't work in reality. Show me \"in reality\" all the governments with taxation, safety nets, and welfare. Now show me all the governments which are constitutionally bound to the nonaggression principle. I wonder which one is more accurate to reality *thinking emoji* \n",
      "\n",
      "THE_DONALD\n",
      "**FOR THE LOVE OF GOD GET THIS PATRIOT A BRICK! THAT'S 84078 BRICKS HANDED OUT!** We are at **13.2981681323%** of our goal to **BUILD THE WALL** starting from Imperial Beach, CA to Brownsville, Texas! Lets make sure everyone gets a brick in the United States! For every Centipede a brick, for every brick a Centipede! At this rate, the wall will be **982.89582017 MILES WIDE** and **346.389471094 FEET HIGH** by tomorrow! **DO YOUR PART!** \n",
      "\n",
      "LIBERTARIAN\n",
      "Many Libertarian philosophers admit that a government is required for such things as police and military. However I think where Libertarianism shines is its fear of Authoritarian and Totalitarian policies. Now I am a bit of a far far far right type of dude, I like my authority. But I agree with the libertarians that no authority should be left unquestioned. I agree with the right libertarians of the wonders of capitalism and their hierarchy. I think that property rights are perhaps on of the most important rights we must respect, and that its pretty dammed important to have a understanding of economics when attempting to run a country. However, I tend to disagree with this new lefty lolbertine muh freedom and muh weed. Muh, sharia law is actually libertarian! and the oldie but goodie, borders are fascist and hurt muh feels, lets import a bunch of low earning migrants so that they'll vote against us. Who needs a libertarian social order if we have to exclude people? \n",
      "\n",
      "LIBERTARIAN\n",
      "Well it's the same thing with \"liberal\" or \"liberalism\". Nowadays those words are synonymous with an individual who is for more government and collectivism but centuries ago it was for free markets and individualism. You have to differentiate it with the word \"classical\". One has to be careful with the words he uses. It looks as though libertarianism is being conflated with the \"alt-right\" since many call themselves or identify as libertarian. In the case of this article, since he's a white nationalist who likes Ron Paul or read libertarian literature, the two are mutually exclusive. Despite how weak the author's argument is people will still make that connection. \n",
      "\n",
      "\n",
      "TEST_2017_12_5K \n",
      "\n",
      "LIBERTARIAN\n",
      "No it isn’t. Without a constitution, courts, police and law there are no rights. How could a governmentless society have individual rights? \n",
      "\n",
      "POLITICS\n",
      "The whole Russia thing is fake news, etc. Honestly, the guy shills so hard for right wing conspiracy theories that he should just get his own Fox News show. EDIT: He also popularized the term “deep state” and has frequently guested on Tucker Carlson to dismiss any attempts to seriously report on the Russian story. He’s abysmal. \n",
      "\n",
      "CHAPOTRAPHOUSE\n",
      "Comrade, leader, [purveyor of sick riffs]([URL] \n",
      "\n",
      "CHAPOTRAPHOUSE\n",
      "His workload was too high as the production engineer. Editing out Felix's MULTIPLE 3-hour Metal Gear Solid analogies twice a week and all. \n",
      "\n",
      "LIBERTARIAN\n",
      "Government-run public education is church for government. 12 years of that, and what do you expect from people? Libertarians are the heretics of the modern age. \n",
      "\n",
      "\n",
      "TEST_2018_01_5K \n",
      "\n",
      "CHAPOTRAPHOUSE\n",
      "If you’re going to post Cumtown at least post Molestrios \n",
      "\n",
      "LIBERTARIAN\n",
      "They are absolutely not a net drain on society. People of average or slightly less than average IQ are fully capable of working in blue collar jobs and unskilled labor jobs. They support themselves and their families by and large with no more government assistance than anyone else. Telling these people to go out and find their niche in the free market is not cruel at all. You are talking about the majority of people working in our factories, people in the service industry, almost every blue collar job. What pray tell is your solution? \n",
      "\n",
      "LIBERTARIAN\n",
      "Yes. Also, rights come from self ownership. \n",
      "\n",
      "CHAPOTRAPHOUSE\n",
      "Just out of spite, I kinda wish the [Metro Transit strike]([URL] would have happened. \n",
      "\n",
      "CHAPOTRAPHOUSE\n",
      "Violence is fucking lit tbh but I'm probably a bad person \n",
      "\n",
      "\n",
      "TEST_2018_02_5K \n",
      "\n",
      "LIBERTARIAN\n",
      "This all hinges upon the state owning everything. If that's what you think, just say so. \n",
      "\n",
      "LIBERTARIAN\n",
      "Without a state, how would one claim new property? \n",
      "\n",
      "CONSERVATIVE\n",
      "I like your empathy AND sympathy but this is the conservative subreddit so as far as children starving worldwide I think we'd hope that people would choose to make any (optional) contributions that they wish. \n",
      "\n",
      "LIBERTARIAN\n",
      "How can one recognize the need for smaller government and not be granted the title of libertarian. \n",
      "\n",
      "POLITICS\n",
      "I'm worried that our Executive and Congress will simply allow Russia to rig the midterms and grow GOP control. \n",
      "\n",
      "\n",
      "TEST_2018_03_5K \n",
      "\n",
      "LIBERTARIAN\n",
      "Merely presenting an argument does not invalidate self-ownership. There is no logical basis for such claim; it is a mere claim. \n",
      "\n",
      "LIBERTARIAN\n",
      "Being pro-life is libertarian compatible so long as you don't force others to follow your norms. \n",
      "\n",
      "CHAPOTRAPHOUSE\n",
      "keeping the lib in libcom \n",
      "\n",
      "LIBERTARIAN\n",
      "Again, you being shit at Google means literally nothing. Anyone who googles Roy Moore accuser forgery will find the truth. I wonder if you fool the people in This subreddit or they see Steve buscemi carrying a constitution going \"hello fellow libertarians\" \n",
      "\n",
      "CHAPOTRAPHOUSE\n",
      "That's a good thing my dude For like almost a week I actually thought gamergate was about ethics in journalism \n",
      "\n",
      "\n",
      "TEST_2018_04_5K \n",
      "\n",
      "LIBERTARIAN\n",
      "What aren't you understanding about the fact that trolls posting in order to impugn this sub have no actual bearing on the actual libertarians here.? All it shows is that non libertarians can be childish assholes \n",
      "\n",
      "THE_DONALD\n",
      "All I could think about watching the summit yesterday was the people who experienced the war. All the people who died. All the paranoia over the last 60 years. All the families divided. The suffering of North Koreans. All coming to an end. Beautiful. \n",
      "\n",
      "LIBERTARIAN\n",
      "Liberty. No obeisance to a mystical, arbitrary authority. \n",
      "\n",
      "CHAPOTRAPHOUSE\n",
      "Brendan STOMPED the best producer poll >haha hell yes The irony is Chris is like a 1000% more on these forums and has been super involved lol. \n",
      "\n",
      "THE_DONALD\n",
      "And if he shorted, he still doesn’t own it. Idiotic cuck. \n",
      "\n",
      "\n",
      "TEST_2018_05_5K \n",
      "\n",
      "LIBERTARIAN\n",
      "He’s not a true Libertarian, he is the reason we have so damn many Bordertarians around here. Notice Ron said nothing about the illegitimacy of a border in the first place, because ultimately he believes they should exist. \n",
      "\n",
      "CHAPOTRAPHOUSE\n",
      "The best thing about cultural Marxism is that the terrifying radicalism at the bottom of the slippery slope is \"thinking it's equally tragic whether a stranger died in Minnesota or Sudan\" \n",
      "\n",
      "LIBERTARIAN\n",
      "Corporations only should have the power to make your life better by selling you a product. Only government can make your life worse by either garnishing wages, penalizing you more, taking property, sending you to jail, or killing you. Corporations do not have power. \n",
      "\n",
      "LIBERTARIAN\n",
      "Dude just fuck off with your race bullshit this sub is about libertarianism just because you are allowed to post this bullshit here doesnt mean you are not an asshole and a racist \n",
      "\n",
      "THE_DONALD\n",
      "This needs to go up on Billboards across America!! DO IT!!!!! \n",
      "\n",
      "\n",
      "TEST_2018_06_5K \n",
      "\n",
      "CHAPOTRAPHOUSE\n",
      "Real anprim hours let's go \n",
      "\n",
      "THE_DONALD\n",
      "0 was .... and still is .... a globalist puppet and absolutely nothing more .... Nothing he did was original .... he acted from scripts provided to him by the new world order .... he danced to their tunes as they manipulated his strings .... He will rightfully be written off by history in due time .... \n",
      "\n",
      "LIBERTARIAN\n",
      "They had hunting lands and went to war over who could hunt where. The concept of land ownership is a little different when you value mobile herds over immobile farmland. \n",
      "\n",
      "LIBERTARIAN\n",
      "Active exclusion from a business has nothing to do with free association. Although the fact that you’re conflating the two explains how you’re getting this so very, very wrong. \n",
      "\n",
      "CHAPOTRAPHOUSE\n",
      "Yeah, and it's been a sore point for me, for a long while, but I don't bring it up because it makes many people who just want to enjoy Chapo, which for the most part is not actively bigoted, in peace, unlike Cumtown. It's not worth the grief on either end. \n",
      "\n",
      "\n",
      "TEST_2018_07_5K \n",
      "\n",
      "THE_DONALD\n",
      "**They Are INVADERS.** \n",
      "\n",
      "CHAPOTRAPHOUSE\n",
      "hey libruls, ***socialism*** chapos owned \n",
      "\n",
      "CHAPOTRAPHOUSE\n",
      "they literally already do - there's even neo-nazis who have wholesale stolen dredd imagery for their propaganda \n",
      "\n",
      "LIBERTARIAN\n",
      "If you think about what you could get people to voluntarily pay for if you asked them, people would be willing to pay for a speed limit on roads near schools or in residential areas. But there's no way people would generally be willing to pay to enforce a speed limit on all public roads. \n",
      "\n",
      "LIBERTARIAN\n",
      "For a free market to handle this you'd need an educated and mobilized consumer market. Basically a union for consumers. The unconscious consumer is a dangerous creature. That said, this is where I'd argue limited government would come into play. Firstly the polluter is damaging property other than their own. This at minimum opens them to a liability claim. However compensation for poisoning my well water, or putting fine particles into the common air, which others then breathe, doesn't purify the water or air nor cure the disease which resulted from consuming those polluted resources. Having established that pollution does result in harm against another, and that financial compensation didn't correct the wrong (as say it would a house that was burned down), it must we questioned what the proper punishment is as well. Additionally, is there a reasonable measure that can prevent this type of offense. Now considering rivers and other bodies of water cross state lines along with weather patterns, it ends enti \n",
      "\n",
      "\n",
      "TEST_2018_08_5K \n",
      "\n",
      "LIBERTARIAN\n",
      "Weld really isn't a libertarian yet. There are libertarian economic policies that one cannot be sure how Weld would act. Johnson has a somewhat more proven track record when it comes to libertarian philosophy. \n",
      "\n",
      "CHAPOTRAPHOUSE\n",
      "Hubba hubba. Can I be a posadist if all I wanna do is look at deviantart communist alien babes??? \n",
      "\n",
      "POLITICS\n",
      "Oh look, now he has his own “whitewater” scandal now too! \n",
      "\n",
      "LIBERTARIAN\n",
      "but it is a fantastic tool for assigning value based on supply and demand. Why would w want to do that if we can't trust people to demand the right things? You should tell people what they can or can't buy based on science. > Slavery, while being inefficient at generating sustainable economic growth, is very good at creating a small, politically powerful upper class Didn't the upper class exist BEFORE there was slavery? You may need to go back and review the science on causality. \n",
      "\n",
      "LIBERTARIAN\n",
      "/u/PutinPaysTrump belongs in /r/politics. Why is this in the libertarian sub? Trump is not a libertarian and neither are the leftists who want his head. Fuck off with the Russia collusion nonsense. This is a bold fucking statement coming from a one month account with like a total of 5 comments in this subreddit, one of which is defending white nationalism. Maybe you need to lurk more. A president obstructing justice is very relevant to the libertarian interest. \n",
      "\n",
      "\n",
      "TEST_2018_09_5K \n",
      "\n",
      "LIBERTARIAN\n",
      "You can't just post \"I'm going to steal from you\" and then say \"oh, it was policy\". The tips belong to the people who got them, regardless of what you write in your employee manual. I'm amazed you actually think that management **is allowed to commit theft** as long as they say it's \"policy\". \n",
      "\n",
      "LIBERTARIAN\n",
      "Small governments can tyrannize just as much to a traitor of a large government. The police, military, and judicial law are the foremost weapons of oppression and “tyranny”, and as I recall libertarians, even barebone ones still consider the military, police, and courts a vital part of small government. Decreasing the “power” of government has nothing to do with it, it has to do with checks and balances as well as transparency, you can have a large government that acts ethical just as you can have a small government such as warlord regimes in Africa commit atrocities with limited power. I don’t need to look it up because it’s factually incorrect unless you can source me otherwise, which you refuse to do so. Why don’t you look it up? We have plenty of examples of big government countries that tend to have higher standards of living, happiness, safety, and economic freedom than “small government” countries. There’s a reason why many of the top 20 economic freedom index countries tend to be welfare stat \n",
      "\n",
      "CHAPOTRAPHOUSE\n",
      "as always, posting is praxis \n",
      "\n",
      "LIBERTARIAN\n",
      "Except they weren't jailed for denying holocaust and neither was count dankula or his pug so it was, in fact, a strawman argument. E: downvote and disappear from sticky situations, the true /r/libertarian way. \n",
      "\n",
      "POLITICS\n",
      "He actually fucking said this? He’s got a mush brain. Jesus fucking Christ, Republicans. \n",
      "\n",
      "\n",
      "TEST_2018_10_5K \n",
      "\n",
      "CHAPOTRAPHOUSE\n",
      "Yeah, and having Libby and Amber on it would make it less ass. I liked Anna on Aufhebunga Bunga, so maybe what I'm going for here is just Amber, Anna, and Libby doing a pod together cause I think they'd do cool shit. \n",
      "\n",
      "CHAPOTRAPHOUSE\n",
      "That entire thread is just chuds. Is this some enemy of my enemy shit? \n",
      "\n",
      "CHAPOTRAPHOUSE\n",
      "I think he's trying to say that the energy put into building and maintaining renewable equipment outweighs the output. I'd agree with something like a tesla and some of the other green fuels that are basically just to put in cars, but not for solar panels or hydro, etc. Chuds exclusively think about filling up their dodge durango whenever people talk about the energy. \n",
      "\n",
      "LIBERTARIAN\n",
      "Animals are property and any so-called rights are an infringement on human's rights to property. \n",
      "\n",
      "LIBERTARIAN\n",
      "The government should do everything to keep these things outside of the society. What do think to government has been doing the last 45+ years of the war on drugs? I mean I guess we could start summarily executing drug dealers and addicts in the street. That’s something we haven’t tried here yet. Seriously though, the war on drugs has been an utter failure. \n",
      "\n",
      "\n",
      "TEST_2018_11_5K \n",
      "\n",
      "CHAPOTRAPHOUSE\n",
      "Yeah like, it's super cool they made a mainstream blockbuster with an almost all-black cast. But it's a not a fuckin woke movie. \n",
      "\n",
      "LIBERTARIAN\n",
      "No, theyre there to reduce payout from insurance companies. If what you're saying is true, motorcycles would be illegal, every time you crash you become a projectile. Every law that protects you from yourself protects someone else's profit. \n",
      "\n",
      "CHAPOTRAPHOUSE\n",
      "Ultimate Fucking Cumboys \n",
      "\n",
      "CHAPOTRAPHOUSE\n",
      "Hell yeah man that’s how I hit the gym \n",
      "\n",
      "LIBERTARIAN\n",
      "If I don't want to be a socialist can I live in and conduct a capitalist business in a libertarian socialist society? \n",
      "\n",
      "\n",
      "TEST_2018_12_5K \n",
      "\n",
      "CHAPOTRAPHOUSE\n",
      "Hotel Rwanda Part 2: Labour Boogaloo \n",
      "\n",
      "POLITICS\n",
      "Seems like Trump's message is really making the rounds: Do what the hell you need to get elected. As soon as you are, the GOP will try its best to protect you. \n",
      "\n",
      "LIBERTARIAN\n",
      "You didn't attack the argument. \n",
      "\n",
      "THE_DONALD\n",
      "17% of our population born outside the U.S.! We need you Cali Pedes. DO HURRY! \n",
      "\n",
      "LIBERTARIAN\n",
      "I have no doubt that given the power, they would ban anti-statists. When the sub locks down it's basic tenets, such as almost no moderation, the community points can be a good thing. Instead of low majority, it ought to be a consensus to change those tenets. \n",
      "\n",
      "\n",
      "TEST_2019_01_5K \n",
      "\n",
      "LIBERTARIAN\n",
      "You can't have a free market when the suppliers have all of the power over the consumers. Agreed, but healthcare itself isn't this. Our current system behaves this way due to government regulation. > Can you give me a single example of a developed country that has a free market in health care? You can't. Yes, I can. The US before government intervention in the 1950s/1960s. \n",
      "\n",
      "CHAPOTRAPHOUSE\n",
      "Big dick Trotsky dude Hell yeah Edit: let me be clear....uhhh Trotsky was bad....uhh but he laid pipe \n",
      "\n",
      "THE_DONALD\n",
      "Gov Tit folk on DNC Plantations are going to REEEEEEEE. \n",
      "\n",
      "LIBERTARIAN\n",
      "Please go on. post more. Your opinion must be heard. I've been hitting my head against this delusional wall for years now. I like your examples. I tend to use the general argument that Libertarianism requires ALL consumers to be 100% knowledgeable about ALL products they buy at all times. From the Ford Pinto to Romain lettuce, to Oxycotin. To somehow believe otherwise is lunacy and why this sub is filled with delusional ideas. \n",
      "\n",
      "LIBERTARIAN\n",
      "So let’s say I hate concentrations of power over my entire way of life. That is a pretty good litmus test to be a libertarian. But you are arguing for anarchy here. And to be a libertarian, I don’t have to want anarchy. I can be perfectly fine with corporations, and with limited government. Because that is all I can hope to achieve in my lifetime. \n",
      "\n",
      "\n",
      "TEST_2019_02_5K \n",
      "\n",
      "LIBERTARIAN\n",
      "...that the benefits of having a state controlled utility outweigh the drawbacks since a utility can't really operate in the traditional capitalist sense due to a lack of competition. \n",
      "\n",
      "LIBERTARIAN\n",
      "What right do you have to every cent of your pre-tax wages? Your wages were earned in the context of an economy that is facilitated by rules and protections. Included in those rules is a requirement to be accountable for the stability of the system. Also, an absolute claim to property requires an absolute claim to a just transfer or acquisition but such things don't exist in absolutes. Nothing you've earned was based on things that were completely owned by you, therefore you have a responsibility to attempt to balance the ledger in a way that the gains are fairly distributed. This of course doesn't mean that any government policy is de facto \"fair\" but the reverse isn't true either. \n",
      "\n",
      "LIBERTARIAN\n",
      "Maybe since I'm not knowledgeable about Weld's policies, but I was just proposing something that would have increased their chance at winning, despite the resulting sacrifice to Libertarian values. \n",
      "\n",
      "LIBERTARIAN\n",
      "People who support this dont deserve a business. The person who proposed it deserves his life turned upside down and destroyed for being a greedy asshole. Libertarians who support this, thanks for once again ensuring nobody takes you all,seriously. Training someone is part of owning a business, you dont get to not pay them just because you make scrooge look damn proper nice. Now, may the ghost of Christmas future visit this asshole. \n",
      "\n",
      "CHAPOTRAPHOUSE\n",
      "Broke: Dumb ass jokes descended from Cold War propaganda about the French government surrendering in one war Woke: Cool jokes about the French’s history of beheading corrupt bourgeoise \n",
      "\n",
      "\n",
      "TEST_2019_03_5K \n",
      "\n",
      "LIBERTARIAN\n",
      "I don't agree with NAP, not specifically as a philosophy, but as a reality. Both as a species, and various nation states, we have thrived through a mixture of cooperation and selective brutality. I do not see this changing anytime soon. Most of my alignment with libertarians is on personal liberty, and for this very reason. \n",
      "\n",
      "CHAPOTRAPHOUSE\n",
      "This is horseshit lmao Chomsky has no understanding of the world capitalist system if he thinks peripheral / dependency states can just \"diversify\" out of thin air without intense imperialist destabilization. \n",
      "\n",
      "CHAPOTRAPHOUSE\n",
      "Honestly dude we’ve got a long history of anti imperialism in the US and Bernard here is unfortunately the exception. I’ll have to vote Kamala Harris this time around, I mean we all know she’s not gonna be doing drone strikes and invasions like Bernie would. \n",
      "\n",
      "CHAPOTRAPHOUSE\n",
      "QuebecSolidaire could be a really good party if they moved further left and radicalized their rhetoric and praxis. \n",
      "\n",
      "LIBERTARIAN\n",
      "No, like i said commuinities would choose to which company can build for them no neighborhood would agree to build three roads next to each other, rather you will have 3 diffrent roads in 3 towns , they will look at how each other communities are doing and will decide accordingly from whom to buy. \n",
      "\n",
      "\n",
      "TEST_2019_04_5K \n",
      "\n",
      "THE_DONALD\n",
      "I have this picture framed on my desk. \n",
      "\n",
      "CHAPOTRAPHOUSE\n",
      "Training the libs to think that they can throw any centrist candidate with no actual policies who will maybe make insurance companies jump through a single extra meaningless hoop or thow the hungry a cool thousand bucks or some other garbage \"achievement\" in the name of \"progress\", while letting things continue as the establishment ignore actual problems like climate change, poverty, lack of healthcare, white nationalism, and Western imperialism, is more harmful to actual progressive ideals and the world. Change my mind. But yeah we'll definitely totally be owning those conservitards hardcore style by clawing a few tax breaks from the rich just so the next president can put them back in place. ������ Remember when they literally put in place the same widely debunked economic policies as 40 years prior and everyone acted like it was normal? Can't wait to see that again. \n",
      "\n",
      "LIBERTARIAN\n",
      "It doesn’t have to be you fucking moron. We finance the government with debt and printing money. \n",
      "\n",
      "LIBERTARIAN\n",
      "Well, sure. California has the nation's highest poverty rate. Gotta build more prisons to store the poor people in. You don't *really* think something like education is a viable way to ease poverty, do you? Crazy libertarian. \n",
      "\n",
      "LIBERTARIAN\n",
      "Your entire history is merely a TDS tantrum. We get it. Orange man is bad. It's boring, available everywhere else, and doesn't promote libertarian discussion. When the discussion is a libertarian topic, you just shit on it. Other than being free to shit on the floor, why be here? \n",
      "\n",
      "\n",
      "TEST_2019_05_5K \n",
      "\n",
      "LIBERTARIAN\n",
      "Everything I have said here is factually true. In a trivial and misleading way. Martin's quote is taken badly out of context. In the interview, he says the extermination wasn't planned and draws a distinction between planned and unplanned exterminations. He didn't become a holocaust denier until 1979, three years after the interview and as his associations with mainstream libertarian organizations began to fade (I can find no source of him being at the Center for Libertarian studies). Prior to this a highly regarded scholar and was praised by New Left historian William Appleman Williams for challenging wartime nationalist historical narratives. >Which was then followed by *four* contemporary examples. What four examples are those? Best I can tell you list the daily caller as an example of racism. \n",
      "\n",
      "LIBERTARIAN\n",
      "Yes there is, owning capital means you don’t have to reproduce your means of subsistence. \n",
      "\n",
      "LIBERTARIAN\n",
      "So you would tacitly support abortion up until birth then? Basically yes, though I am uncomfortable with it. > There is precisely no difference between a newborn baby and a baby 5 minutes before it is born. That is true. Luckily, birth is a convenient \"line in the sand\" > Why trying to control my property brah? I'm not trying to control your property \n",
      "\n",
      "LIBERTARIAN\n",
      "And removing regulations to create a fantasy like \"free market\" will empower Corporations on another level It won't help corporations. It will foster competition and those corporations will have more competitors, ultimately benefiting the consumer. The least competitive industries are ALWAYS the most regulated. Why do you think that is? \n",
      "\n",
      "LIBERTARIAN\n",
      "Big state capitalism/imperialism != libertarian success story \n",
      "\n",
      "\n",
      "TEST_2019_06_5K \n",
      "\n",
      "LIBERTARIAN\n",
      "Eh, allowing you to do something is still more libertarian than allowing the government to decide your choices for you. \n",
      "\n",
      "THE_DONALD\n",
      "#Proofread Your Vandalism! \n",
      "\n",
      "THE_DONALD\n",
      "##I love baby dinosaur �� \n",
      "\n",
      "CHAPOTRAPHOUSE\n",
      "yeah man maybe are you really being ableist about fucking rn \n",
      "\n",
      "THE_DONALD\n",
      "#\"TRUMP WANTS TO BE PRESIDENT FOREVER, HE'S A DICTATOR REEEEEEEEEEEEEEEEEEEEEEEEEEEEEEEEEE\" \n",
      "\n",
      "\n",
      "TEST_2019_07_5K \n",
      "\n",
      "LIBERTARIAN\n",
      "citizens removing them by ~~any~~ peaceful means is the definition of liberty FTFY \n",
      "\n",
      "LIBERTARIAN\n",
      "(although they infringe on a fraction of your rights day by day) So you think it's justified if I were to steal a fraction of your money, day by day, because I provide the \"competition\" for someone to not steal your money? Hmmm, interesting philosophy. \n",
      "\n",
      "LIBERTARIAN\n",
      "I don’t give a shit if it was Obama, Trump, or any other bozo president. These things happen and there are many libertarians who are ok with it cuz “MuH BoRdErs” \n",
      "\n",
      "LIBERTARIAN\n",
      "Rand Paul voted for a tax cut for the wealthy that has increased the deficit. Libertarians support tax cuts. You say \"tax cuts for the wealthy\" like that would be a bad thing to libertarians. Especially considering that when Rand Paul voted for the tax bill, *it had spending cuts to pay for it.* It was the Democrats and Rebublicans who later teamed up and voted to remove that provision, but Rand Paul voted to keep it. >If you think Rand is fiscally conservative you dont know Rand. Libertarians aren't fiscally conservative, we're fiscally libertarian. We believe in cutting taxes and spending as much as possible. No one in the Senate has voted to cut spending more than Rand Paul, no Koch propaganda can change that. \n",
      "\n",
      "LIBERTARIAN\n",
      "No government vs. strictly limited government is a clear line separating anarchism from libertarianism. \n",
      "\n",
      "\n",
      "TEST_2019_08_5K \n",
      "\n",
      "THE_DONALD\n",
      "Yep, I read that...they have to disarm us first... \n",
      "\n",
      "LIBERTARIAN\n",
      "You employer typically goes through lots of companies to get a good deal A good deal for the employer in no way automatically means that it is a good deal for the employee though. \n",
      "\n",
      "POLITICS\n",
      "Gaffe? Like when he forgot Obama's name? The dude can't open his mouth without putting his foot in it. This is not the first time he's started a presidential race with a lot of momentum. Like the other times he'll sabotage himself. \n",
      "\n",
      "LIBERTARIAN\n",
      "People have a right to their property. People don't have a right to someone else's labor. refusing to work for someone is not in any way comparable to stealing. \n",
      "\n",
      "CHAPOTRAPHOUSE\n",
      "Okay: I think feminism is bad and ruining society and men would be happier if the patriarchy was brought back men are worse off under feminsim and have diminished sexual power i think I think monogamy and early marriages are overall the best for society, The white race has robbed and plundered the other ones, but it has also done the most good for socity too, in terms of advancements in the arts and in technology. There is no jewish plot to erase the white race, but I think cultural beauty of wester culture is being chipped away at by neoliberalism and everything is cheap and tacky and bullshit instead of beautiful \n",
      "\n",
      "\n",
      "TEST_2019_09_5K \n",
      "\n",
      "LIBERTARIAN\n",
      "Most libertarians came from the right and they still have the same boogieman. Far-left, Far-right, both autocratic and the opposit from libertarianism. \n",
      "\n",
      "POLITICS\n",
      "Hmmm. Trying to remember which leadership GOP congressfolks are compromised and if McCarthy is the least tainted. Need a list of every member and their possible conflicts. Who went to Russia to kiss Putin's no-show ass on the 4th of July last year, who has contacts and received money from Russian oligarchs (ala Moscow Mitch), who does Russia have compromat on, who was Ryan et al referring to for the \"we are all family\" convo. Need a cheat sheet for these fuckers. \n",
      "\n",
      "CHAPOTRAPHOUSE\n",
      "20 years and a pretty drastic reduction in your electric bill, to the point where it doesn't really matter if you leave them on all the time. Crazy how spiteful reactionaries are because of some weird, communist straw-man they've built in their heads, trying to take away their precious halogen bulbs \n",
      "\n",
      "LIBERTARIAN\n",
      "Exchange of goods or services \n",
      "\n",
      "THE_DONALD\n",
      "TURBAN MAN! [[URL] \n",
      "\n",
      "\n",
      "TEST_2019_10_5K \n",
      "\n",
      "THE_DONALD\n",
      "Im a Bruins fan, but l love this lsles huge flag pic. It is so representative of the patriotism hockey players have. Most of these boys that you seen the pic aren't even American, but you see them all standing at attention either looking at the flag or with their heads down in respect. Just beautiful. \n",
      "\n",
      "LIBERTARIAN\n",
      "I was permabanned and muted for this post: > >[[URL] First of all, banned from what sub, obviously not r/libertarian since you're here talking about. Secondly, what makes you think that comment has anything to do with you being banned. Who told you that was the comment that got you banned, sounds like you are just assuming. Why would GnB ban you over a comment on r/libertarian? I see no mod in that comment train saying they had any issue with your comment there. >After the /gnb mods were kicked out, I was unbanned. So you're talking about the February incident. I have no idea why you're asking me about that. Also, only two of those mods were GnB mods, the rest were not. >First we're talking about GnB now you want to bitch about r/libertarian? > >I'm talking about the cu \n",
      "\n",
      "LIBERTARIAN\n",
      "Nope. Thats was your argument. \n",
      "\n",
      "CHAPOTRAPHOUSE\n",
      "Honestly, no disrespect bc I've also played some MMOs, but they always make me feel like a really bad person. Not just because I'm wasting time in comfort, but because games like WoW and Runescape are so *flagrant* about wasting time. Want to smelt an ore? Fuck you, wait 5 seconds. Why? Because you have the time- you know you do, you bourgeois shit. I've probably easily wasted 3 days of my life waiting on those tiny progress bars, but it really does feel good... Like a tiny hit of a drug or something. \n",
      "\n",
      "CHAPOTRAPHOUSE\n",
      "this isn't about hongkong, this is about china kind of genoziding the uigurs \n",
      "\n",
      "\n",
      "TEST_2019_11_5K \n",
      "\n",
      "LIBERTARIAN\n",
      "What!? The guy who wants to tax the shit out of me isn’t a libertarian? Shocking. \n",
      "\n",
      "LIBERTARIAN\n",
      "You'd be hard pressed to find anybody describe socialism as \"the common good\" or some other similar phrase. If you look at actual socialist ideals, like the workers owning the means of production, it was never socialist. Taking property is not socialism either. \n",
      "\n",
      "LIBERTARIAN\n",
      "Nobody created land, so zero people can trade their land to you. Maybe they can't trade their land to YOU but they can to me because I have no such moral prohibition since it's a work of fiction and not based in reality. \n",
      "\n",
      "CHAPOTRAPHOUSE\n",
      "I simultaneously believe Stalin was a bad person while also understanding that he was better than the monsters people worship from the era, eg. Churchill and every US president. God DAMN I wish I could stan Stalin though, that moustache is perfect. \n",
      "\n",
      "LIBERTARIAN\n",
      "On a more serious note. So if your neighbor abandons his house, doesnt mow the lawn, lets his pool stagnate, and doesnt pay property taxes, you're cool with it? Why would I care about any of that? Doesn't mow his lawn? What kind of asshole busybody do you think I am? \n",
      "\n",
      "\n",
      "TEST_2019_12_5K \n",
      "\n",
      "LIBERTARIAN\n",
      "*Beep boop beep boop.* You have now summoned emotionless droid individulistlolbertard to tell you that Left Libertarianism doesn't exist. \n",
      "\n",
      "LIBERTARIAN\n",
      "So basically you're a trespasser every time you leave your house. Better not use the sidewalk or public roads. You are neglecting that the State owns public property, and we are *permitted* to use those in return for our tax contributions. This is also why the state holds the ability to suspend your license to prevent you from using public roads, and the ability to put a monitoring device on you to ensure that you stay inside your own property to prevent you from trespassing on public land while you are being punished for a crime. \n",
      "\n",
      "CHAPOTRAPHOUSE\n",
      "have you seen josh's platform? and even besides that, he's literally a marxist. full-ass annihilate the rich as a class and seize the means of production, all that shit. \n",
      "\n",
      "LIBERTARIAN\n",
      "It is one of the most sacred libertarian rights. [so imaginary then]([URL] >I guess you would be okay with Russian Nukes sitting in Cuba ready to launch. You're the one obsessed with fear. I hear there's a Soviet in your cupboard. Better go check to make sure. \n",
      "\n",
      "CHAPOTRAPHOUSE\n",
      "the labour party can have a little stalinism imo \n",
      "\n",
      "\n",
      "TEST_2020_01_5K \n",
      "\n",
      "LIBERTARIAN\n",
      "Listening to Rush songs in high school is what got me interested in libertarianism. I subsequently tried to get through Atlas Shrugged, but that book was just way too bloated for me. If I were forced to pick a label for my political philosophy, I'd go with libertarian, but I mostly feel apolitical these days. It might take an actual autocrat, rather than the current would-be autocrat, to get my political juices flowing again. John Roberts the other day said he feared Americans were taking democracy for granted and I fear that's true - many including myself go about life as if all of the democratic institutions (free press, independent judiciary, etc) we've enjoyed our whole lives are permanent features of society, but in reality these require maintenance or will decay over time. \n",
      "\n",
      "LIBERTARIAN\n",
      "No you see, that is not real minimal government. I find it hilarious how much people circle jerk about being better that socialists and commies, yet pretty much argue the same way. Libertarians and communists are two sides of the same coin of utopian ideologies. One needs enlightened, rational individualists the other needs enlightened, rational collectivists. \n",
      "\n",
      "CHAPOTRAPHOUSE\n",
      "validating my superior leftism by being a hawkish nerd toward leftists who I don’t agree with \n",
      "\n",
      "POLITICS\n",
      "And the GOP will sit in their mansions and laugh at them. \n",
      "\n",
      "POLITICS\n",
      "Bolton was never a good actor and sold his country out.. He's for sale and a total wildcard as a witness. You've described literally every Republican. \n",
      "\n",
      "\n",
      "TEST_2020_02_5K \n",
      "\n",
      "CHAPOTRAPHOUSE\n",
      "I'm always surprised when I find out podcast hosts aren't cishet. It happens more often lately, so that's cool. \n",
      "\n",
      "THE_DONALD\n",
      "Just got back from this. Didn't get in, but the overflow crowd was 3 blocks in all directions from the Arena. Amazing. \n",
      "\n",
      "THE_DONALD\n",
      "Story time... I have no where else to share this. A \"friend\" of 20 years invited me over because his girlfriend was bringing a friend. I had to cancel, but he called me the next day. One of his friends came over around 2 and asked to crash. His daughter tells him the next morning that the guy came into her bedroom when everyone was asleep, and started massaging her butt, she is 12. Her pos \"father\" whom I had know since I was a teenager, took up for the guy. Told his daughter not to tell anyone, and just asked the dude to leave. He just blew it off, like nothing happened. Feel bad for his daughter. \n",
      "\n",
      "LIBERTARIAN\n",
      "trump does not uphold libertarian values. >I completely agree with you but oops \n",
      "\n",
      "CHAPOTRAPHOUSE\n",
      "[The Conquest Of Bread]([URL] \n",
      "\n",
      "\n"
     ]
    }
   ],
   "source": [
    "TOP_N = 5\n",
    "\n",
    "for test_month in sorted(analysis_dict):\n",
    "    print(test_month.upper(), \"\\n\")\n",
    "    output_df = analysis_dict[test_month].sort_values(\"n_correct\").tail(TOP_N).copy()\n",
    "    for index, row in output_df.iterrows():\n",
    "        print(row.label.upper())\n",
    "        print(row.clean_text, \"\\n\")\n",
    "    print()"
   ]
  },
  {
   "cell_type": "code",
   "execution_count": 123,
   "id": "romance-summary",
   "metadata": {},
   "outputs": [
    {
     "data": {
      "text/plain": [
       "n_correct\n",
       "0      25\n",
       "1      18\n",
       "2      27\n",
       "3      27\n",
       "4      46\n",
       "5      33\n",
       "6      41\n",
       "7      37\n",
       "8      48\n",
       "9      41\n",
       "10     40\n",
       "11     51\n",
       "12     52\n",
       "13     42\n",
       "14     52\n",
       "15     50\n",
       "16     59\n",
       "17     54\n",
       "18     48\n",
       "19     50\n",
       "20     67\n",
       "21     54\n",
       "22     60\n",
       "23     58\n",
       "24     67\n",
       "25     71\n",
       "26     78\n",
       "27     63\n",
       "28     72\n",
       "29     92\n",
       "30     93\n",
       "31    106\n",
       "32     83\n",
       "33    123\n",
       "34    163\n",
       "35    364\n",
       "Name: clean_text, dtype: int64"
      ]
     },
     "execution_count": 123,
     "metadata": {},
     "output_type": "execute_result"
    }
   ],
   "source": [
    "analysis_dict[\"test_2017_03_5k\"].groupby(\"n_correct\").clean_text.count()"
   ]
  },
  {
   "cell_type": "code",
   "execution_count": 121,
   "id": "lyric-generic",
   "metadata": {},
   "outputs": [
    {
     "name": "stdout",
     "output_type": "stream",
     "text": [
      "test_2017_03_5k\n"
     ]
    },
    {
     "data": {
      "image/png": "[encoded data removed]",
      "text/plain": [
       "<Figure size 432x288 with 1 Axes>"
      ]
     },
     "metadata": {
      "needs_background": "light"
     },
     "output_type": "display_data"
    },
    {
     "name": "stdout",
     "output_type": "stream",
     "text": [
      "\n",
      "test_2017_04_5k\n"
     ]
    },
    {
     "data": {
      "image/png": "[encoded data removed]",
      "text/plain": [
       "<Figure size 432x288 with 1 Axes>"
      ]
     },
     "metadata": {
      "needs_background": "light"
     },
     "output_type": "display_data"
    },
    {
     "name": "stdout",
     "output_type": "stream",
     "text": [
      "\n",
      "test_2017_05_5k\n"
     ]
    },
    {
     "data": {
      "image/png": "[encoded data removed]",
      "text/plain": [
       "<Figure size 432x288 with 1 Axes>"
      ]
     },
     "metadata": {
      "needs_background": "light"
     },
     "output_type": "display_data"
    },
    {
     "name": "stdout",
     "output_type": "stream",
     "text": [
      "\n",
      "test_2017_06_5k\n"
     ]
    },
    {
     "data": {
      "image/png": "[encoded data removed]",
      "text/plain": [
       "<Figure size 432x288 with 1 Axes>"
      ]
     },
     "metadata": {
      "needs_background": "light"
     },
     "output_type": "display_data"
    },
    {
     "name": "stdout",
     "output_type": "stream",
     "text": [
      "\n",
      "test_2017_07_5k\n"
     ]
    },
    {
     "data": {
      "image/png": "[encoded data removed]",
      "text/plain": [
       "<Figure size 432x288 with 1 Axes>"
      ]
     },
     "metadata": {
      "needs_background": "light"
     },
     "output_type": "display_data"
    },
    {
     "name": "stdout",
     "output_type": "stream",
     "text": [
      "\n",
      "test_2017_08_5k\n"
     ]
    },
    {
     "data": {
      "image/png": "[encoded data removed]",
      "text/plain": [
       "<Figure size 432x288 with 1 Axes>"
      ]
     },
     "metadata": {
      "needs_background": "light"
     },
     "output_type": "display_data"
    },
    {
     "name": "stdout",
     "output_type": "stream",
     "text": [
      "\n",
      "test_2017_09_5k\n"
     ]
    },
    {
     "data": {
      "image/png": "[encoded data removed]",
      "text/plain": [
       "<Figure size 432x288 with 1 Axes>"
      ]
     },
     "metadata": {
      "needs_background": "light"
     },
     "output_type": "display_data"
    },
    {
     "name": "stdout",
     "output_type": "stream",
     "text": [
      "\n",
      "test_2017_10_5k\n"
     ]
    },
    {
     "data": {
      "image/png": "[encoded data removed]",
      "text/plain": [
       "<Figure size 432x288 with 1 Axes>"
      ]
     },
     "metadata": {
      "needs_background": "light"
     },
     "output_type": "display_data"
    },
    {
     "name": "stdout",
     "output_type": "stream",
     "text": [
      "\n",
      "test_2017_11_5k\n"
     ]
    },
    {
     "data": {
      "image/png": "[encoded data removed]",
      "text/plain": [
       "<Figure size 432x288 with 1 Axes>"
      ]
     },
     "metadata": {
      "needs_background": "light"
     },
     "output_type": "display_data"
    },
    {
     "name": "stdout",
     "output_type": "stream",
     "text": [
      "\n",
      "test_2017_12_5k\n"
     ]
    },
    {
     "data": {
      "image/png": "[encoded data removed]",
      "text/plain": [
       "<Figure size 432x288 with 1 Axes>"
      ]
     },
     "metadata": {
      "needs_background": "light"
     },
     "output_type": "display_data"
    },
    {
     "name": "stdout",
     "output_type": "stream",
     "text": [
      "\n",
      "test_2018_01_5k\n"
     ]
    },
    {
     "data": {
      "image/png": "[encoded data removed]",
      "text/plain": [
       "<Figure size 432x288 with 1 Axes>"
      ]
     },
     "metadata": {
      "needs_background": "light"
     },
     "output_type": "display_data"
    },
    {
     "name": "stdout",
     "output_type": "stream",
     "text": [
      "\n",
      "test_2018_02_5k\n"
     ]
    },
    {
     "data": {
      "image/png": "[encoded data removed]",
      "text/plain": [
       "<Figure size 432x288 with 1 Axes>"
      ]
     },
     "metadata": {
      "needs_background": "light"
     },
     "output_type": "display_data"
    },
    {
     "name": "stdout",
     "output_type": "stream",
     "text": [
      "\n",
      "test_2018_03_5k\n"
     ]
    },
    {
     "data": {
      "image/png": "[encoded data removed]",
      "text/plain": [
       "<Figure size 432x288 with 1 Axes>"
      ]
     },
     "metadata": {
      "needs_background": "light"
     },
     "output_type": "display_data"
    },
    {
     "name": "stdout",
     "output_type": "stream",
     "text": [
      "\n",
      "test_2018_04_5k\n"
     ]
    },
    {
     "data": {
      "image/png": "[encoded data removed]",
      "text/plain": [
       "<Figure size 432x288 with 1 Axes>"
      ]
     },
     "metadata": {
      "needs_background": "light"
     },
     "output_type": "display_data"
    },
    {
     "name": "stdout",
     "output_type": "stream",
     "text": [
      "\n",
      "test_2018_05_5k\n"
     ]
    },
    {
     "data": {
      "image/png": "[encoded data removed]",
      "text/plain": [
       "<Figure size 432x288 with 1 Axes>"
      ]
     },
     "metadata": {
      "needs_background": "light"
     },
     "output_type": "display_data"
    },
    {
     "name": "stdout",
     "output_type": "stream",
     "text": [
      "\n",
      "test_2018_06_5k\n"
     ]
    },
    {
     "data": {
      "image/png": "[encoded data removed]",
      "text/plain": [
       "<Figure size 432x288 with 1 Axes>"
      ]
     },
     "metadata": {
      "needs_background": "light"
     },
     "output_type": "display_data"
    },
    {
     "name": "stdout",
     "output_type": "stream",
     "text": [
      "\n",
      "test_2018_07_5k\n"
     ]
    },
    {
     "data": {
      "image/png": "[encoded data removed]",
      "text/plain": [
       "<Figure size 432x288 with 1 Axes>"
      ]
     },
     "metadata": {
      "needs_background": "light"
     },
     "output_type": "display_data"
    },
    {
     "name": "stdout",
     "output_type": "stream",
     "text": [
      "\n",
      "test_2018_08_5k\n"
     ]
    },
    {
     "data": {
      "image/png": "[encoded data removed]",
      "text/plain": [
       "<Figure size 432x288 with 1 Axes>"
      ]
     },
     "metadata": {
      "needs_background": "light"
     },
     "output_type": "display_data"
    },
    {
     "name": "stdout",
     "output_type": "stream",
     "text": [
      "\n",
      "test_2018_09_5k\n"
     ]
    },
    {
     "data": {
      "image/png": "[encoded data removed]",
      "text/plain": [
       "<Figure size 432x288 with 1 Axes>"
      ]
     },
     "metadata": {
      "needs_background": "light"
     },
     "output_type": "display_data"
    },
    {
     "name": "stdout",
     "output_type": "stream",
     "text": [
      "\n",
      "test_2018_10_5k\n"
     ]
    },
    {
     "data": {
      "image/png": "[encoded data removed]",
      "text/plain": [
       "<Figure size 432x288 with 1 Axes>"
      ]
     },
     "metadata": {
      "needs_background": "light"
     },
     "output_type": "display_data"
    },
    {
     "name": "stdout",
     "output_type": "stream",
     "text": [
      "\n",
      "test_2018_11_5k\n"
     ]
    },
    {
     "data": {
      "image/png": "[encoded data removed]",
      "text/plain": [
       "<Figure size 432x288 with 1 Axes>"
      ]
     },
     "metadata": {
      "needs_background": "light"
     },
     "output_type": "display_data"
    },
    {
     "name": "stdout",
     "output_type": "stream",
     "text": [
      "\n",
      "test_2018_12_5k\n"
     ]
    },
    {
     "data": {
      "image/png": "[encoded data removed]",
      "text/plain": [
       "<Figure size 432x288 with 1 Axes>"
      ]
     },
     "metadata": {
      "needs_background": "light"
     },
     "output_type": "display_data"
    },
    {
     "name": "stdout",
     "output_type": "stream",
     "text": [
      "\n",
      "test_2019_01_5k\n"
     ]
    },
    {
     "data": {
      "image/png": "[encoded data removed]",
      "text/plain": [
       "<Figure size 432x288 with 1 Axes>"
      ]
     },
     "metadata": {
      "needs_background": "light"
     },
     "output_type": "display_data"
    },
    {
     "name": "stdout",
     "output_type": "stream",
     "text": [
      "\n",
      "test_2019_02_5k\n"
     ]
    },
    {
     "data": {
      "image/png": "[encoded data removed]",
      "text/plain": [
       "<Figure size 432x288 with 1 Axes>"
      ]
     },
     "metadata": {
      "needs_background": "light"
     },
     "output_type": "display_data"
    },
    {
     "name": "stdout",
     "output_type": "stream",
     "text": [
      "\n",
      "test_2019_03_5k\n"
     ]
    },
    {
     "data": {
      "image/png": "[encoded data removed]",
      "text/plain": [
       "<Figure size 432x288 with 1 Axes>"
      ]
     },
     "metadata": {
      "needs_background": "light"
     },
     "output_type": "display_data"
    },
    {
     "name": "stdout",
     "output_type": "stream",
     "text": [
      "\n",
      "test_2019_04_5k\n"
     ]
    },
    {
     "data": {
      "image/png": "[encoded data removed]",
      "text/plain": [
       "<Figure size 432x288 with 1 Axes>"
      ]
     },
     "metadata": {
      "needs_background": "light"
     },
     "output_type": "display_data"
    },
    {
     "name": "stdout",
     "output_type": "stream",
     "text": [
      "\n",
      "test_2019_05_5k\n"
     ]
    },
    {
     "data": {
      "image/png": "[encoded data removed]",
      "text/plain": [
       "<Figure size 432x288 with 1 Axes>"
      ]
     },
     "metadata": {
      "needs_background": "light"
     },
     "output_type": "display_data"
    },
    {
     "name": "stdout",
     "output_type": "stream",
     "text": [
      "\n",
      "test_2019_06_5k\n"
     ]
    },
    {
     "data": {
      "image/png": "[encoded data removed]",
      "text/plain": [
       "<Figure size 432x288 with 1 Axes>"
      ]
     },
     "metadata": {
      "needs_background": "light"
     },
     "output_type": "display_data"
    },
    {
     "name": "stdout",
     "output_type": "stream",
     "text": [
      "\n",
      "test_2019_07_5k\n"
     ]
    },
    {
     "data": {
      "image/png": "[encoded data removed]",
      "text/plain": [
       "<Figure size 432x288 with 1 Axes>"
      ]
     },
     "metadata": {
      "needs_background": "light"
     },
     "output_type": "display_data"
    },
    {
     "name": "stdout",
     "output_type": "stream",
     "text": [
      "\n",
      "test_2019_08_5k\n"
     ]
    },
    {
     "data": {
      "image/png": "[encoded data removed]",
      "text/plain": [
       "<Figure size 432x288 with 1 Axes>"
      ]
     },
     "metadata": {
      "needs_background": "light"
     },
     "output_type": "display_data"
    },
    {
     "name": "stdout",
     "output_type": "stream",
     "text": [
      "\n",
      "test_2019_09_5k\n"
     ]
    },
    {
     "data": {
      "image/png": "[encoded data removed]",
      "text/plain": [
       "<Figure size 432x288 with 1 Axes>"
      ]
     },
     "metadata": {
      "needs_background": "light"
     },
     "output_type": "display_data"
    },
    {
     "name": "stdout",
     "output_type": "stream",
     "text": [
      "\n",
      "test_2019_10_5k\n"
     ]
    },
    {
     "data": {
      "image/png": "[encoded data removed]",
      "text/plain": [
       "<Figure size 432x288 with 1 Axes>"
      ]
     },
     "metadata": {
      "needs_background": "light"
     },
     "output_type": "display_data"
    },
    {
     "name": "stdout",
     "output_type": "stream",
     "text": [
      "\n",
      "test_2019_11_5k\n"
     ]
    },
    {
     "data": {
      "image/png": "[encoded data removed]",
      "text/plain": [
       "<Figure size 432x288 with 1 Axes>"
      ]
     },
     "metadata": {
      "needs_background": "light"
     },
     "output_type": "display_data"
    },
    {
     "name": "stdout",
     "output_type": "stream",
     "text": [
      "\n",
      "test_2019_12_5k\n"
     ]
    },
    {
     "data": {
      "image/png": "[encoded data removed]",
      "text/plain": [
       "<Figure size 432x288 with 1 Axes>"
      ]
     },
     "metadata": {
      "needs_background": "light"
     },
     "output_type": "display_data"
    },
    {
     "name": "stdout",
     "output_type": "stream",
     "text": [
      "\n",
      "test_2020_01_5k\n"
     ]
    },
    {
     "data": {
      "image/png": "[encoded data removed]",
      "text/plain": [
       "<Figure size 432x288 with 1 Axes>"
      ]
     },
     "metadata": {
      "needs_background": "light"
     },
     "output_type": "display_data"
    },
    {
     "name": "stdout",
     "output_type": "stream",
     "text": [
      "\n",
      "test_2020_02_5k\n"
     ]
    },
    {
     "data": {
      "image/png": "[encoded data removed]",
      "text/plain": [
       "<Figure size 432x288 with 1 Axes>"
      ]
     },
     "metadata": {
      "needs_background": "light"
     },
     "output_type": "display_data"
    },
    {
     "name": "stdout",
     "output_type": "stream",
     "text": [
      "\n"
     ]
    }
   ],
   "source": [
    "for test_month in sorted(analysis_dict):\n",
    "    print(test_month)\n",
    "    plt.hist(analysis_dict[test_month].n_correct, bins=35)\n",
    "    plt.show()\n",
    "    print()"
   ]
  },
  {
   "cell_type": "code",
   "execution_count": null,
   "id": "ambient-classics",
   "metadata": {},
   "outputs": [],
   "source": []
  }
 ],
 "metadata": {
  "kernelspec": {
   "display_name": "Python 3",
   "language": "python",
   "name": "python3"
  },
  "language_info": {
   "codemirror_mode": {
    "name": "ipython",
    "version": 3
   },
   "file_extension": ".py",
   "mimetype": "text/x-python",
   "name": "python",
   "nbconvert_exporter": "python",
   "pygments_lexer": "ipython3",
   "version": "3.8.8"
  }
 },
 "nbformat": 4,
 "nbformat_minor": 5
}
