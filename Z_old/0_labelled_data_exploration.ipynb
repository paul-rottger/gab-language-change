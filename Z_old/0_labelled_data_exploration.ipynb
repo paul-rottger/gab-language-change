{
 "cells": [
  {
   "cell_type": "markdown",
   "metadata": {},
   "source": [
    "# LABELLED DATA EXPLORATION"
   ]
  },
  {
   "cell_type": "code",
   "execution_count": 1,
   "metadata": {},
   "outputs": [],
   "source": [
    "import pandas as pd\n",
    "import csv"
   ]
  },
  {
   "cell_type": "markdown",
   "metadata": {},
   "source": [
    "# ANNOTATED DATA"
   ]
  },
  {
   "cell_type": "code",
   "execution_count": 2,
   "metadata": {},
   "outputs": [],
   "source": [
    "import_df = pd.read_csv('./Data/GabHateCorpus_annotations.tsv', sep='\\t')"
   ]
  },
  {
   "cell_type": "code",
   "execution_count": 3,
   "metadata": {},
   "outputs": [
    {
     "data": {
      "text/html": [
       "<div>\n",
       "<style scoped>\n",
       "    .dataframe tbody tr th:only-of-type {\n",
       "        vertical-align: middle;\n",
       "    }\n",
       "\n",
       "    .dataframe tbody tr th {\n",
       "        vertical-align: top;\n",
       "    }\n",
       "\n",
       "    .dataframe thead th {\n",
       "        text-align: right;\n",
       "    }\n",
       "</style>\n",
       "<table border=\"1\" class=\"dataframe\">\n",
       "  <thead>\n",
       "    <tr style=\"text-align: right;\">\n",
       "      <th></th>\n",
       "      <th>case_id</th>\n",
       "      <th>ann_id</th>\n",
       "      <th>text</th>\n",
       "      <th>label</th>\n",
       "    </tr>\n",
       "  </thead>\n",
       "  <tbody>\n",
       "    <tr>\n",
       "      <th>0</th>\n",
       "      <td>27044</td>\n",
       "      <td>4</td>\n",
       "      <td>Ah the PSYOPS antifa crew is back. That’s how ...</td>\n",
       "      <td>0</td>\n",
       "    </tr>\n",
       "    <tr>\n",
       "      <th>1</th>\n",
       "      <td>27044</td>\n",
       "      <td>15</td>\n",
       "      <td>Ah the PSYOPS antifa crew is back. That’s how ...</td>\n",
       "      <td>0</td>\n",
       "    </tr>\n",
       "    <tr>\n",
       "      <th>2</th>\n",
       "      <td>27044</td>\n",
       "      <td>10</td>\n",
       "      <td>Ah the PSYOPS antifa crew is back. That’s how ...</td>\n",
       "      <td>0</td>\n",
       "    </tr>\n",
       "    <tr>\n",
       "      <th>3</th>\n",
       "      <td>27044</td>\n",
       "      <td>8</td>\n",
       "      <td>Ah the PSYOPS antifa crew is back. That’s how ...</td>\n",
       "      <td>0</td>\n",
       "    </tr>\n",
       "    <tr>\n",
       "      <th>4</th>\n",
       "      <td>27045</td>\n",
       "      <td>4</td>\n",
       "      <td>Get the new Android app update released today ...</td>\n",
       "      <td>0</td>\n",
       "    </tr>\n",
       "    <tr>\n",
       "      <th>...</th>\n",
       "      <td>...</td>\n",
       "      <td>...</td>\n",
       "      <td>...</td>\n",
       "      <td>...</td>\n",
       "    </tr>\n",
       "    <tr>\n",
       "      <th>86524</th>\n",
       "      <td>9188</td>\n",
       "      <td>6</td>\n",
       "      <td>He thinks only peons own guns, you're supposed...</td>\n",
       "      <td>1</td>\n",
       "    </tr>\n",
       "    <tr>\n",
       "      <th>86525</th>\n",
       "      <td>9188</td>\n",
       "      <td>3</td>\n",
       "      <td>He thinks only peons own guns, you're supposed...</td>\n",
       "      <td>0</td>\n",
       "    </tr>\n",
       "    <tr>\n",
       "      <th>86526</th>\n",
       "      <td>9222</td>\n",
       "      <td>11</td>\n",
       "      <td>America must stop funding the United Nations.</td>\n",
       "      <td>0</td>\n",
       "    </tr>\n",
       "    <tr>\n",
       "      <th>86527</th>\n",
       "      <td>9222</td>\n",
       "      <td>3</td>\n",
       "      <td>America must stop funding the United Nations.</td>\n",
       "      <td>0</td>\n",
       "    </tr>\n",
       "    <tr>\n",
       "      <th>86528</th>\n",
       "      <td>9222</td>\n",
       "      <td>6</td>\n",
       "      <td>America must stop funding the United Nations.</td>\n",
       "      <td>0</td>\n",
       "    </tr>\n",
       "  </tbody>\n",
       "</table>\n",
       "<p>86529 rows × 4 columns</p>\n",
       "</div>"
      ],
      "text/plain": [
       "       case_id  ann_id                                               text  \\\n",
       "0        27044       4  Ah the PSYOPS antifa crew is back. That’s how ...   \n",
       "1        27044      15  Ah the PSYOPS antifa crew is back. That’s how ...   \n",
       "2        27044      10  Ah the PSYOPS antifa crew is back. That’s how ...   \n",
       "3        27044       8  Ah the PSYOPS antifa crew is back. That’s how ...   \n",
       "4        27045       4  Get the new Android app update released today ...   \n",
       "...        ...     ...                                                ...   \n",
       "86524     9188       6  He thinks only peons own guns, you're supposed...   \n",
       "86525     9188       3  He thinks only peons own guns, you're supposed...   \n",
       "86526     9222      11     America must stop funding the United Nations.    \n",
       "86527     9222       3     America must stop funding the United Nations.    \n",
       "86528     9222       6     America must stop funding the United Nations.    \n",
       "\n",
       "       label  \n",
       "0          0  \n",
       "1          0  \n",
       "2          0  \n",
       "3          0  \n",
       "4          0  \n",
       "...      ...  \n",
       "86524      1  \n",
       "86525      0  \n",
       "86526      0  \n",
       "86527      0  \n",
       "86528      0  \n",
       "\n",
       "[86529 rows x 4 columns]"
      ]
     },
     "execution_count": 3,
     "metadata": {},
     "output_type": "execute_result"
    }
   ],
   "source": [
    "# write relevant columns to df and rename\n",
    "kennedy_df = import_df[['ID', 'Annotator', 'Text', 'Hate']].copy()\n",
    "kennedy_df.rename(columns={'ID':'case_id', 'Annotator': 'ann_id', 'Text': 'text', 'Hate': 'label'}, inplace=True)\n",
    "kennedy_df"
   ]
  },
  {
   "cell_type": "code",
   "execution_count": 4,
   "metadata": {},
   "outputs": [
    {
     "data": {
      "text/plain": [
       "27665"
      ]
     },
     "execution_count": 4,
     "metadata": {},
     "output_type": "execute_result"
    }
   ],
   "source": [
    "# number of documents\n",
    "len(pd.unique(kennedy_df.case_id))"
   ]
  },
  {
   "cell_type": "code",
   "execution_count": 5,
   "metadata": {},
   "outputs": [
    {
     "data": {
      "text/plain": [
       "18"
      ]
     },
     "execution_count": 5,
     "metadata": {},
     "output_type": "execute_result"
    }
   ],
   "source": [
    "# number of annotators\n",
    "len(pd.unique(kennedy_df.ann_id))"
   ]
  },
  {
   "cell_type": "code",
   "execution_count": 6,
   "metadata": {},
   "outputs": [
    {
     "data": {
      "text/plain": [
       "text\n",
       "2.0      119\n",
       "3.0    24216\n",
       "4.0     3110\n",
       "5.0      165\n",
       "6.0       19\n",
       "7.0       24\n",
       "8.0       12\n",
       "Name: text, dtype: int64"
      ]
     },
     "execution_count": 6,
     "metadata": {},
     "output_type": "execute_result"
    }
   ],
   "source": [
    "# number of annotators per document\n",
    "kennedy_df.groupby(kennedy_df.groupby('case_id').text.count()).text.count()\n",
    "\n",
    "# issues:\n",
    "# two annotators is very little\n",
    "# even number of annotators leads to ties"
   ]
  },
  {
   "cell_type": "code",
   "execution_count": 7,
   "metadata": {},
   "outputs": [],
   "source": [
    "# calculate and merge proportion of votes for hateful class for each case id\n",
    "agreement = kennedy_df.groupby('case_id').label.mean()\n",
    "agreement.name = 'prop_hateful'\n",
    "kennedy_df = kennedy_df.merge(agreement, on='case_id')"
   ]
  },
  {
   "cell_type": "code",
   "execution_count": 8,
   "metadata": {},
   "outputs": [
    {
     "data": {
      "text/html": [
       "<div>\n",
       "<style scoped>\n",
       "    .dataframe tbody tr th:only-of-type {\n",
       "        vertical-align: middle;\n",
       "    }\n",
       "\n",
       "    .dataframe tbody tr th {\n",
       "        vertical-align: top;\n",
       "    }\n",
       "\n",
       "    .dataframe thead th {\n",
       "        text-align: right;\n",
       "    }\n",
       "</style>\n",
       "<table border=\"1\" class=\"dataframe\">\n",
       "  <thead>\n",
       "    <tr style=\"text-align: right;\">\n",
       "      <th></th>\n",
       "      <th>case_id</th>\n",
       "      <th>text</th>\n",
       "      <th>prop_hateful</th>\n",
       "    </tr>\n",
       "  </thead>\n",
       "  <tbody>\n",
       "    <tr>\n",
       "      <th>0</th>\n",
       "      <td>27044</td>\n",
       "      <td>Ah the PSYOPS antifa crew is back. That’s how ...</td>\n",
       "      <td>0.000000</td>\n",
       "    </tr>\n",
       "    <tr>\n",
       "      <th>1</th>\n",
       "      <td>27045</td>\n",
       "      <td>Get the new Android app update released today ...</td>\n",
       "      <td>0.000000</td>\n",
       "    </tr>\n",
       "    <tr>\n",
       "      <th>2</th>\n",
       "      <td>27046</td>\n",
       "      <td>Study: Google Pushes Liberal News in Top 5 Sea...</td>\n",
       "      <td>0.000000</td>\n",
       "    </tr>\n",
       "    <tr>\n",
       "      <th>3</th>\n",
       "      <td>27048</td>\n",
       "      <td>#Breaking: Claiming bias against conservatives...</td>\n",
       "      <td>0.250000</td>\n",
       "    </tr>\n",
       "    <tr>\n",
       "      <th>4</th>\n",
       "      <td>27049</td>\n",
       "      <td>“These [companies] are run by sociopaths,” he ...</td>\n",
       "      <td>0.250000</td>\n",
       "    </tr>\n",
       "    <tr>\n",
       "      <th>...</th>\n",
       "      <td>...</td>\n",
       "      <td>...</td>\n",
       "      <td>...</td>\n",
       "    </tr>\n",
       "    <tr>\n",
       "      <th>27660</th>\n",
       "      <td>7132</td>\n",
       "      <td>yeah we wont be deleting these accounts so neo...</td>\n",
       "      <td>0.666667</td>\n",
       "    </tr>\n",
       "    <tr>\n",
       "      <th>27661</th>\n",
       "      <td>9078</td>\n",
       "      <td>Wow, watch this yarmie wearing Jew brag about ...</td>\n",
       "      <td>0.333333</td>\n",
       "    </tr>\n",
       "    <tr>\n",
       "      <th>27662</th>\n",
       "      <td>9167</td>\n",
       "      <td>I'm available as a Common Sense Consultant sin...</td>\n",
       "      <td>0.000000</td>\n",
       "    </tr>\n",
       "    <tr>\n",
       "      <th>27663</th>\n",
       "      <td>9188</td>\n",
       "      <td>He thinks only peons own guns, you're supposed...</td>\n",
       "      <td>0.333333</td>\n",
       "    </tr>\n",
       "    <tr>\n",
       "      <th>27664</th>\n",
       "      <td>9222</td>\n",
       "      <td>America must stop funding the United Nations.</td>\n",
       "      <td>0.000000</td>\n",
       "    </tr>\n",
       "  </tbody>\n",
       "</table>\n",
       "<p>27665 rows × 3 columns</p>\n",
       "</div>"
      ],
      "text/plain": [
       "       case_id                                               text  \\\n",
       "0        27044  Ah the PSYOPS antifa crew is back. That’s how ...   \n",
       "1        27045  Get the new Android app update released today ...   \n",
       "2        27046  Study: Google Pushes Liberal News in Top 5 Sea...   \n",
       "3        27048  #Breaking: Claiming bias against conservatives...   \n",
       "4        27049  “These [companies] are run by sociopaths,” he ...   \n",
       "...        ...                                                ...   \n",
       "27660     7132  yeah we wont be deleting these accounts so neo...   \n",
       "27661     9078  Wow, watch this yarmie wearing Jew brag about ...   \n",
       "27662     9167  I'm available as a Common Sense Consultant sin...   \n",
       "27663     9188  He thinks only peons own guns, you're supposed...   \n",
       "27664     9222     America must stop funding the United Nations.    \n",
       "\n",
       "       prop_hateful  \n",
       "0          0.000000  \n",
       "1          0.000000  \n",
       "2          0.000000  \n",
       "3          0.250000  \n",
       "4          0.250000  \n",
       "...             ...  \n",
       "27660      0.666667  \n",
       "27661      0.333333  \n",
       "27662      0.000000  \n",
       "27663      0.333333  \n",
       "27664      0.000000  \n",
       "\n",
       "[27665 rows x 3 columns]"
      ]
     },
     "execution_count": 8,
     "metadata": {},
     "output_type": "execute_result"
    }
   ],
   "source": [
    "# drop redundant label and annotator id columns, then drop duplicates\n",
    "kennedy_df.drop(columns=['ann_id', 'label'], errors = 'ignore', inplace=True)\n",
    "kennedy_df.drop_duplicates(inplace=True)\n",
    "kennedy_df.reset_index(drop=True)"
   ]
  },
  {
   "cell_type": "code",
   "execution_count": 9,
   "metadata": {},
   "outputs": [
    {
     "data": {
      "text/plain": [
       "prop_hateful\n",
       "0.000000    19852\n",
       "0.125000        1\n",
       "0.142857        3\n",
       "0.200000       30\n",
       "0.250000      660\n",
       "0.285714        2\n",
       "0.333333     4517\n",
       "0.400000       35\n",
       "0.428571        2\n",
       "0.500000      226\n",
       "0.571429        1\n",
       "0.600000       25\n",
       "0.625000        2\n",
       "0.666667     1605\n",
       "0.714286        2\n",
       "0.750000      109\n",
       "0.800000        8\n",
       "0.833333        1\n",
       "1.000000      584\n",
       "Name: text, dtype: int64"
      ]
     },
     "execution_count": 9,
     "metadata": {},
     "output_type": "execute_result"
    }
   ],
   "source": [
    "# number of cases by proportion of agreement\n",
    "kennedy_df.groupby('prop_hateful').text.count()\n",
    "\n",
    "# note the 226 ties!"
   ]
  },
  {
   "cell_type": "code",
   "execution_count": 10,
   "metadata": {},
   "outputs": [],
   "source": [
    "# create label column from prop_hateful by majority vote\n",
    "def return_label(prop):\n",
    "    if prop > 0.5:\n",
    "        return 1\n",
    "    else:\n",
    "        return 0\n",
    "\n",
    "kennedy_df['label']=kennedy_df.prop_hateful.apply(lambda x: return_label(x))"
   ]
  },
  {
   "cell_type": "code",
   "execution_count": 11,
   "metadata": {},
   "outputs": [
    {
     "name": "stdout",
     "output_type": "stream",
     "text": [
      "proportion of hateful cases: 8.4%\n"
     ]
    }
   ],
   "source": [
    "# proportion of hateful cases\n",
    "print('proportion of hateful cases: {:.1%}'.format(kennedy_df[kennedy_df.label==1].text.count()/kennedy_df.shape[0]))"
   ]
  },
  {
   "cell_type": "code",
   "execution_count": 12,
   "metadata": {},
   "outputs": [
    {
     "data": {
      "text/plain": [
       "27664"
      ]
     },
     "execution_count": 12,
     "metadata": {},
     "output_type": "execute_result"
    }
   ],
   "source": [
    "kennedy_df.case_id.max()"
   ]
  },
  {
   "cell_type": "code",
   "execution_count": 13,
   "metadata": {},
   "outputs": [],
   "source": [
    "# export to csv\n",
    "kennedy_df.to_csv('./Data/kennedy_clean.csv', index=False)"
   ]
  },
  {
   "cell_type": "code",
   "execution_count": null,
   "metadata": {},
   "outputs": [],
   "source": [
    "# TO DO: duplicate text handling\n",
    "kennedy_df[kennedy_df.duplicated(subset='text', keep=False)].sort_values('text')"
   ]
  }
 ],
 "metadata": {
  "kernelspec": {
   "display_name": "Python 3",
   "language": "python",
   "name": "python3"
  },
  "language_info": {
   "codemirror_mode": {
    "name": "ipython",
    "version": 3
   },
   "file_extension": ".py",
   "mimetype": "text/x-python",
   "name": "python",
   "nbconvert_exporter": "python",
   "pygments_lexer": "ipython3",
   "version": "3.8.5"
  }
 },
 "nbformat": 4,
 "nbformat_minor": 4
}
