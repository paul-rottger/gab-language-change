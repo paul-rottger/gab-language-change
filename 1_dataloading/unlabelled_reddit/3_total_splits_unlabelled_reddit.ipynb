{
 "cells": [
  {
   "cell_type": "markdown",
   "id": "twenty-rabbit",
   "metadata": {},
   "source": [
    "# Clean and Split Monthly Unlabelled Reddit (News) Corpora"
   ]
  },
  {
   "cell_type": "code",
   "execution_count": 1,
   "id": "linear-merchandise",
   "metadata": {},
   "outputs": [],
   "source": [
    "import csv\n",
    "import random\n",
    "import os"
   ]
  },
  {
   "cell_type": "markdown",
   "id": "christian-briefing",
   "metadata": {},
   "source": [
    "# Helper functions"
   ]
  },
  {
   "cell_type": "code",
   "execution_count": 2,
   "id": "interstate-costume",
   "metadata": {},
   "outputs": [],
   "source": [
    "def load_from_txt(filepath, month_sample_size):\n",
    "    with open(filepath,'r', newline='') as f:\n",
    "            lines = f.read().rstrip('\\r\\n').splitlines()\n",
    "            lines = [x for x in lines if x.strip()]\n",
    "            random.seed(123)\n",
    "            sample = random.sample(lines, month_sample_size) # set month_sample_size to save RAM since we are only sampling a fraction of each month anyway\n",
    "    return sample"
   ]
  },
  {
   "cell_type": "code",
   "execution_count": 3,
   "id": "british-windsor",
   "metadata": {},
   "outputs": [],
   "source": [
    "def create_sample(source_dir, mode, size, label):\n",
    "    \n",
    "    comment_list = []\n",
    "    \n",
    "    for filename in sorted(os.listdir(source_dir)):\n",
    "        if mode in filename and filename.endswith(\".txt\"):\n",
    "            print(f\"  loading subsample from {filename}\")\n",
    "            comment_list += load_from_txt(os.path.join(source_dir, filename), month_sample_size = int(round(size/36, 0)+1)) # divide by 36 to stratify across months\n",
    "            \n",
    "    with open(f'../../0_data/clean/unlabelled_reddit/total/{mode}_rand_{label}.txt', 'w') as write_obj:\n",
    "        random.seed(123)\n",
    "        print(\"  writing to text file\")\n",
    "        for text in random.sample(comment_list, size):\n",
    "            write_obj.write(text + \"\\n \\n\")"
   ]
  },
  {
   "cell_type": "markdown",
   "id": "academic-foundation",
   "metadata": {},
   "source": [
    "# Creating random training and test sets"
   ]
  },
  {
   "cell_type": "code",
   "execution_count": 4,
   "id": "institutional-broadcasting",
   "metadata": {},
   "outputs": [
    {
     "name": "stdout",
     "output_type": "stream",
     "text": [
      "creating random train set, size 10m\n",
      "  loading subsample from train_2017_03_1m.txt\n",
      "  loading subsample from train_2017_04_1m.txt\n",
      "  loading subsample from train_2017_05_1m.txt\n",
      "  loading subsample from train_2017_06_1m.txt\n",
      "  loading subsample from train_2017_07_1m.txt\n",
      "  loading subsample from train_2017_08_1m.txt\n",
      "  loading subsample from train_2017_09_1m.txt\n",
      "  loading subsample from train_2017_10_1m.txt\n",
      "  loading subsample from train_2017_11_1m.txt\n",
      "  loading subsample from train_2017_12_1m.txt\n",
      "  loading subsample from train_2018_01_1m.txt\n",
      "  loading subsample from train_2018_02_1m.txt\n",
      "  loading subsample from train_2018_03_1m.txt\n",
      "  loading subsample from train_2018_04_1m.txt\n",
      "  loading subsample from train_2018_05_1m.txt\n",
      "  loading subsample from train_2018_06_1m.txt\n",
      "  loading subsample from train_2018_07_1m.txt\n",
      "  loading subsample from train_2018_08_1m.txt\n",
      "  loading subsample from train_2018_09_1m.txt\n",
      "  loading subsample from train_2018_10_1m.txt\n",
      "  loading subsample from train_2018_11_1m.txt\n",
      "  loading subsample from train_2018_12_1m.txt\n",
      "  loading subsample from train_2019_01_1m.txt\n",
      "  loading subsample from train_2019_02_1m.txt\n",
      "  loading subsample from train_2019_03_1m.txt\n",
      "  loading subsample from train_2019_04_1m.txt\n",
      "  loading subsample from train_2019_05_1m.txt\n",
      "  loading subsample from train_2019_06_1m.txt\n",
      "  loading subsample from train_2019_07_1m.txt\n",
      "  loading subsample from train_2019_08_1m.txt\n",
      "  loading subsample from train_2019_09_1m.txt\n",
      "  loading subsample from train_2019_10_1m.txt\n",
      "  loading subsample from train_2019_11_1m.txt\n",
      "  loading subsample from train_2019_12_1m.txt\n",
      "  loading subsample from train_2020_01_1m.txt\n",
      "  loading subsample from train_2020_02_1m.txt\n",
      "  writing to text file\n",
      "CPU times: user 1min 50s, sys: 2min 33s, total: 4min 23s\n",
      "Wall time: 5min 22s\n"
     ]
    }
   ],
   "source": [
    "%%time\n",
    "\n",
    "# create training sets\n",
    "mode = 'train'\n",
    "\n",
    "for size, label in [(10000000, '10m')]: #(1000000, '1m'), (2000000, '2m'), (5000000, '5m'), \n",
    "    print(f\"creating random {mode} set, size {label}\")\n",
    "    create_sample(source_dir = '../../0_data/clean/unlabelled_reddit/month_splits', mode = mode, size = size, label = label)"
   ]
  },
  {
   "cell_type": "code",
   "execution_count": 4,
   "id": "junior-swedish",
   "metadata": {},
   "outputs": [
    {
     "name": "stdout",
     "output_type": "stream",
     "text": [
      "random test set, size 10k\n",
      "random test set, size 20k\n",
      "random test set, size 50k\n"
     ]
    }
   ],
   "source": [
    "%%time\n",
    "\n",
    "# create test sets\n",
    "mode = 'test'\n",
    "\n",
    "for size, label in [(10000, '10k'), (20000, '20k'), (50000, '50k')]:\n",
    "    print(f\"creating random {mode} set, size {label}\")\n",
    "    create_sample(source_dir = '../../0_data/clean/unlabelled_reddit/month_splits', mode = mode, size = size, label = label)"
   ]
  }
 ],
 "metadata": {
  "kernelspec": {
   "display_name": "Python 3",
   "language": "python",
   "name": "python3"
  },
  "language_info": {
   "codemirror_mode": {
    "name": "ipython",
    "version": 3
   },
   "file_extension": ".py",
   "mimetype": "text/x-python",
   "name": "python",
   "nbconvert_exporter": "python",
   "pygments_lexer": "ipython3",
   "version": "3.8.8"
  }
 },
 "nbformat": 4,
 "nbformat_minor": 5
}
