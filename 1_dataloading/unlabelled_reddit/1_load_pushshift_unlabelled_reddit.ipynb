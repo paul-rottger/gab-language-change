{
 "cells": [
  {
   "cell_type": "code",
   "execution_count": 21,
   "id": "accessible-suffering",
   "metadata": {},
   "outputs": [],
   "source": [
    "import datetime as dt\n",
    "import csv\n",
    "import pandas as pd\n",
    "\n",
    "from psaw import PushshiftAPI"
   ]
  },
  {
   "cell_type": "code",
   "execution_count": 22,
   "id": "automatic-visibility",
   "metadata": {},
   "outputs": [],
   "source": [
    "# initialise API\n",
    "api = PushshiftAPI()"
   ]
  },
  {
   "cell_type": "markdown",
   "id": "laden-fashion",
   "metadata": {},
   "source": [
    "## Load Comments via Pushshift API\n",
    "Pushshift BigQuery does not provide data for after December 2019, so we query comments for Jan and Feb 2020 via the regular API"
   ]
  },
  {
   "cell_type": "code",
   "execution_count": null,
   "id": "broadband-milan",
   "metadata": {},
   "outputs": [
    {
     "name": "stdout",
     "output_type": "stream",
     "text": [
      "2020 1\n",
      " queried results\n"
     ]
    }
   ],
   "source": [
    "%%time\n",
    "\n",
    "# initialise empty df for writing into\n",
    "sample_df = pd.DataFrame(columns = ['created_utc', 'body', 'subreddit'])\n",
    "\n",
    "\n",
    "for year, month in [(2020, 1), (2020, 2)]:\n",
    "    print(year, month)\n",
    "\n",
    "    start_time_epoch = int(dt.datetime(year = year, month = month, day = 1, hour = 0, minute = 0 ).timestamp())\n",
    "    end_time_epoch = int(dt.datetime(year = year, month = month+1, day = 1, hour = 0, minute = 0 ).timestamp())\n",
    "\n",
    "    gen = api.search_comments(before = end_time_epoch, after = start_time_epoch, subreddit = ['news', 'worldnews'], filter = ['body', 'subreddit'])\n",
    "    print(' queried results')\n",
    "    \n",
    "    # write result to df\n",
    "    results_df = pd.DataFrame({'created_utc': row.created_utc, 'body': row.body, 'subreddit': row.subreddit} for row in gen)\n",
    "    print(' wrote to df')\n",
    "\n",
    "    # export df to csv\n",
    "    results_df.to_csv(f'../../0_data/raw/unlabelled_reddit/news_{year}_0{month}.csv', index=False)\n",
    "    print(' exported to csv')\n",
    "    print()                              "
   ]
  },
  {
   "cell_type": "markdown",
   "id": "narrow-growing",
   "metadata": {},
   "source": [
    "## Number of Posts per Month by Subreddit"
   ]
  },
  {
   "cell_type": "code",
   "execution_count": 3,
   "id": "talented-apple",
   "metadata": {},
   "outputs": [
    {
     "name": "stdout",
     "output_type": "stream",
     "text": [
      "NEWS\n",
      "2017-1\t 945979\n",
      "2017-2\t 796637\n",
      "2017-3\t 658227\n",
      "2017-4\t 723085\n",
      "2017-5\t 738083\n",
      "2017-6\t 754922\n",
      "2017-7\t 647046\n",
      "2017-8\t 860177\n",
      "2017-9\t 760055\n",
      "2017-10\t 915381\n",
      "2017-11\t 817122\n",
      "2017-12\t 775292\n",
      "2018-1\t 786127\n",
      "2018-2\t 883865\n",
      "2018-3\t 870529\n",
      "2018-4\t 755070\n",
      "2018-5\t 794167\n",
      "2018-6\t 811301\n",
      "2018-7\t 802475\n",
      "2018-8\t 810093\n",
      "2018-9\t 618974\n",
      "2018-10\t 759539\n",
      "2018-11\t 730160\n",
      "2018-12\t 646816\n",
      "2019-1\t 745473\n",
      "2019-2\t 620229\n",
      "2019-3\t 772925\n",
      "2019-4\t 600211\n",
      "2019-5\t 606135\n",
      "2019-6\t 627461\n",
      "2019-7\t 687474\n",
      "2019-8\t 915870\n",
      "2019-9\t 690937\n",
      "2019-10\t 717822\n",
      "2019-11\t 588362\n",
      "2019-12\t 624543\n",
      "2020-1\t 730637\n",
      "2020-2\t 637406\n",
      "2020-3\t 743858\n",
      "2020-4\t 721977\n",
      "2020-5\t 1019562\n",
      "2020-6\t 1518271\n",
      "2020-7\t 1076804\n",
      "2020-8\t 1124469\n",
      "2020-9\t 895991\n",
      "2020-10\t 940018\n",
      "2020-11\t 760590\n",
      "2020-12\t 718765\n",
      "\n",
      "WORLDNEWS\n",
      "2017-1\t 1018827\n",
      "2017-2\t 836394\n",
      "2017-3\t 818657\n",
      "2017-4\t 868556\n",
      "2017-5\t 988239\n",
      "2017-6\t 910001\n",
      "2017-7\t 742829\n",
      "2017-8\t 741297\n",
      "2017-9\t 742880\n",
      "2017-10\t 762009\n",
      "2017-11\t 790119\n",
      "2017-12\t 750653\n",
      "2018-1\t 817626\n",
      "2018-2\t 632033\n",
      "2018-3\t 857636\n",
      "2018-4\t 860770\n",
      "2018-5\t 901493\n",
      "2018-6\t 1062601\n",
      "2018-7\t 1080095\n",
      "2018-8\t 895024\n",
      "2018-9\t 807229\n",
      "2018-10\t 834714\n",
      "2018-11\t 850422\n",
      "2018-12\t 856291\n",
      "2019-1\t 911183\n",
      "2019-2\t 726793\n",
      "2019-3\t 1112568\n",
      "2019-4\t 884336\n",
      "2019-5\t 774218\n",
      "2019-6\t 841505\n",
      "2019-7\t 831154\n",
      "2019-8\t 912097\n",
      "2019-9\t 864380\n",
      "2019-10\t 1002732\n",
      "2019-11\t 857518\n",
      "2019-12\t 987390\n",
      "2020-1\t 1381170\n",
      "2020-2\t 1034055\n",
      "2020-3\t 1509127\n",
      "2020-4\t 1342345\n",
      "2020-5\t 1033144\n",
      "2020-6\t 1000692\n",
      "2020-7\t 984505\n",
      "2020-8\t 844547\n",
      "2020-9\t 704242\n",
      "2020-10\t 878712\n",
      "2020-11\t 706826\n",
      "2020-12\t 680738\n",
      "\n",
      "CPU times: user 2.13 s, sys: 230 ms, total: 2.36 s\n",
      "Wall time: 2min 11s\n"
     ]
    }
   ],
   "source": [
    "%%time\n",
    "\n",
    "# number of posts per month by subreddit\n",
    "\n",
    "for subreddit in ['news', 'worldnews']:\n",
    "    \n",
    "    print(subreddit.upper())\n",
    "    \n",
    "    for year in [2017, 2018, 2019, 2020]:\n",
    "        \n",
    "        for month in range(1,13):\n",
    "            \n",
    "            start_time_epoch = int(dt.datetime(year = year, month = month, day = 1).timestamp())\n",
    "            if month < 12:\n",
    "                end_time_epoch = int(dt.datetime(year = year, month = month + 1, day = 1).timestamp())\n",
    "            else:\n",
    "                end_time_epoch = int(dt.datetime(year = year, month = month, day = 31, hour=23, minute=59).timestamp())\n",
    "\n",
    "            gen = api.search_comments(before = end_time_epoch, after = start_time_epoch, subreddit = subreddit)\n",
    "            thing = next(gen)\n",
    "            print(f'{year}-{month}\\t', api.metadata_['total_results'])\n",
    "                                         \n",
    "    print()"
   ]
  }
 ],
 "metadata": {
  "kernelspec": {
   "display_name": "Python 3",
   "language": "python",
   "name": "python3"
  },
  "language_info": {
   "codemirror_mode": {
    "name": "ipython",
    "version": 3
   },
   "file_extension": ".py",
   "mimetype": "text/x-python",
   "name": "python",
   "nbconvert_exporter": "python",
   "pygments_lexer": "ipython3",
   "version": "3.8.8"
  }
 },
 "nbformat": 4,
 "nbformat_minor": 5
}
