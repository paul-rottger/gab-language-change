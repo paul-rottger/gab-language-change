{
 "cells": [
  {
   "cell_type": "markdown",
   "id": "animal-likelihood",
   "metadata": {},
   "source": [
    "# Load, clean and split labelled GHC data (Kennedy et al. 2020)"
   ]
  },
  {
   "cell_type": "code",
   "execution_count": 124,
   "id": "furnished-effect",
   "metadata": {},
   "outputs": [],
   "source": [
    "import pandas as pd\n",
    "import csv\n",
    "import datetime\n",
    "import emoji\n",
    "import re\n",
    "import unicodedata\n",
    "\n",
    "from html import unescape\n",
    "from sklearn.model_selection import train_test_split"
   ]
  },
  {
   "cell_type": "markdown",
   "id": "developing-installation",
   "metadata": {},
   "source": [
    "## Load data"
   ]
  },
  {
   "cell_type": "code",
   "execution_count": 125,
   "id": "traditional-delta",
   "metadata": {},
   "outputs": [],
   "source": [
    "import_df = pd.read_csv('../../0_data/raw/ghc_with_pushshift_meta_25850.tsv', sep='\\t')"
   ]
  },
  {
   "cell_type": "code",
   "execution_count": 126,
   "id": "vulnerable-wednesday",
   "metadata": {},
   "outputs": [],
   "source": [
    "# select relevant columns and write to copy\n",
    "ghc_df = import_df[['created_at', 'body', 'Text', 'Hate']].copy()\n",
    "\n",
    "# fix datetime format\n",
    "ghc_df['created_at'] = ghc_df.created_at.apply(lambda x: datetime.datetime.strptime(x.split('+')[0], '%Y-%m-%d %H:%M:%S'))"
   ]
  },
  {
   "cell_type": "code",
   "execution_count": 127,
   "id": "european-lewis",
   "metadata": {},
   "outputs": [],
   "source": [
    "# create column with text that was actually annotated (\"Text\" in 2016-09, \"body\" afterwards)\n",
    "text = ghc_df[ghc_df.created_at<'2016-10'].Text.append(ghc_df[ghc_df.created_at>'2016-10'].body)\n",
    "text.name = 'text'\n",
    "ghc_df = pd.concat([ghc_df, text], axis=1)\n",
    "\n",
    "# remove now-redundant other text columns\n",
    "ghc_df = ghc_df[['created_at','text','Hate']]\n",
    "\n",
    "# rename 'Hate' to 'label'\n",
    "ghc_df.rename(columns={'Hate':'label'}, inplace=True)"
   ]
  },
  {
   "cell_type": "code",
   "execution_count": 128,
   "id": "international-overview",
   "metadata": {},
   "outputs": [
    {
     "name": "stdout",
     "output_type": "stream",
     "text": [
      "total number of posts: 25850 \n",
      "\n"
     ]
    },
    {
     "data": {
      "text/html": [
       "<div>\n",
       "<style scoped>\n",
       "    .dataframe tbody tr th:only-of-type {\n",
       "        vertical-align: middle;\n",
       "    }\n",
       "\n",
       "    .dataframe tbody tr th {\n",
       "        vertical-align: top;\n",
       "    }\n",
       "\n",
       "    .dataframe thead th {\n",
       "        text-align: right;\n",
       "    }\n",
       "</style>\n",
       "<table border=\"1\" class=\"dataframe\">\n",
       "  <thead>\n",
       "    <tr style=\"text-align: right;\">\n",
       "      <th></th>\n",
       "      <th>created_at</th>\n",
       "      <th>number_posts</th>\n",
       "    </tr>\n",
       "  </thead>\n",
       "  <tbody>\n",
       "    <tr>\n",
       "      <th>0</th>\n",
       "      <td>2016-09</td>\n",
       "      <td>5176</td>\n",
       "    </tr>\n",
       "    <tr>\n",
       "      <th>1</th>\n",
       "      <td>2018-01</td>\n",
       "      <td>2108</td>\n",
       "    </tr>\n",
       "    <tr>\n",
       "      <th>2</th>\n",
       "      <td>2018-02</td>\n",
       "      <td>2126</td>\n",
       "    </tr>\n",
       "    <tr>\n",
       "      <th>3</th>\n",
       "      <td>2018-03</td>\n",
       "      <td>2069</td>\n",
       "    </tr>\n",
       "    <tr>\n",
       "      <th>4</th>\n",
       "      <td>2018-04</td>\n",
       "      <td>2060</td>\n",
       "    </tr>\n",
       "    <tr>\n",
       "      <th>5</th>\n",
       "      <td>2018-05</td>\n",
       "      <td>2086</td>\n",
       "    </tr>\n",
       "    <tr>\n",
       "      <th>6</th>\n",
       "      <td>2018-06</td>\n",
       "      <td>2111</td>\n",
       "    </tr>\n",
       "    <tr>\n",
       "      <th>7</th>\n",
       "      <td>2018-07</td>\n",
       "      <td>2062</td>\n",
       "    </tr>\n",
       "    <tr>\n",
       "      <th>8</th>\n",
       "      <td>2018-08</td>\n",
       "      <td>1941</td>\n",
       "    </tr>\n",
       "    <tr>\n",
       "      <th>9</th>\n",
       "      <td>2018-09</td>\n",
       "      <td>2036</td>\n",
       "    </tr>\n",
       "    <tr>\n",
       "      <th>10</th>\n",
       "      <td>2018-10</td>\n",
       "      <td>2075</td>\n",
       "    </tr>\n",
       "  </tbody>\n",
       "</table>\n",
       "</div>"
      ],
      "text/plain": [
       "   created_at  number_posts\n",
       "0     2016-09          5176\n",
       "1     2018-01          2108\n",
       "2     2018-02          2126\n",
       "3     2018-03          2069\n",
       "4     2018-04          2060\n",
       "5     2018-05          2086\n",
       "6     2018-06          2111\n",
       "7     2018-07          2062\n",
       "8     2018-08          1941\n",
       "9     2018-09          2036\n",
       "10    2018-10          2075"
      ]
     },
     "execution_count": 128,
     "metadata": {},
     "output_type": "execute_result"
    }
   ],
   "source": [
    "# total number of posts\n",
    "print(f'total number of posts: {ghc_df.shape[0]} \\n')\n",
    "\n",
    "# number of posts by month\n",
    "ghc_df.groupby(ghc_df.created_at.apply(lambda x: x.to_period('M'))).text.count().reset_index().rename(columns = {'text': 'number_posts'})"
   ]
  },
  {
   "cell_type": "code",
   "execution_count": 129,
   "id": "primary-camera",
   "metadata": {},
   "outputs": [
    {
     "name": "stdout",
     "output_type": "stream",
     "text": [
      "overall proportion of hateful posts: 9.0% \n",
      "\n"
     ]
    },
    {
     "data": {
      "text/html": [
       "<div>\n",
       "<style scoped>\n",
       "    .dataframe tbody tr th:only-of-type {\n",
       "        vertical-align: middle;\n",
       "    }\n",
       "\n",
       "    .dataframe tbody tr th {\n",
       "        vertical-align: top;\n",
       "    }\n",
       "\n",
       "    .dataframe thead th {\n",
       "        text-align: right;\n",
       "    }\n",
       "</style>\n",
       "<table border=\"1\" class=\"dataframe\">\n",
       "  <thead>\n",
       "    <tr style=\"text-align: right;\">\n",
       "      <th></th>\n",
       "      <th>created_at</th>\n",
       "      <th>n_hateful</th>\n",
       "      <th>prop_hateful</th>\n",
       "    </tr>\n",
       "  </thead>\n",
       "  <tbody>\n",
       "    <tr>\n",
       "      <th>0</th>\n",
       "      <td>2016-09</td>\n",
       "      <td>376</td>\n",
       "      <td>0.072643</td>\n",
       "    </tr>\n",
       "    <tr>\n",
       "      <th>1</th>\n",
       "      <td>2018-01</td>\n",
       "      <td>190</td>\n",
       "      <td>0.090133</td>\n",
       "    </tr>\n",
       "    <tr>\n",
       "      <th>2</th>\n",
       "      <td>2018-02</td>\n",
       "      <td>181</td>\n",
       "      <td>0.085136</td>\n",
       "    </tr>\n",
       "    <tr>\n",
       "      <th>3</th>\n",
       "      <td>2018-03</td>\n",
       "      <td>190</td>\n",
       "      <td>0.091832</td>\n",
       "    </tr>\n",
       "    <tr>\n",
       "      <th>4</th>\n",
       "      <td>2018-04</td>\n",
       "      <td>186</td>\n",
       "      <td>0.090291</td>\n",
       "    </tr>\n",
       "    <tr>\n",
       "      <th>5</th>\n",
       "      <td>2018-05</td>\n",
       "      <td>232</td>\n",
       "      <td>0.111218</td>\n",
       "    </tr>\n",
       "    <tr>\n",
       "      <th>6</th>\n",
       "      <td>2018-06</td>\n",
       "      <td>224</td>\n",
       "      <td>0.106111</td>\n",
       "    </tr>\n",
       "    <tr>\n",
       "      <th>7</th>\n",
       "      <td>2018-07</td>\n",
       "      <td>214</td>\n",
       "      <td>0.103783</td>\n",
       "    </tr>\n",
       "    <tr>\n",
       "      <th>8</th>\n",
       "      <td>2018-08</td>\n",
       "      <td>167</td>\n",
       "      <td>0.086038</td>\n",
       "    </tr>\n",
       "    <tr>\n",
       "      <th>9</th>\n",
       "      <td>2018-09</td>\n",
       "      <td>179</td>\n",
       "      <td>0.087917</td>\n",
       "    </tr>\n",
       "    <tr>\n",
       "      <th>10</th>\n",
       "      <td>2018-10</td>\n",
       "      <td>189</td>\n",
       "      <td>0.091084</td>\n",
       "    </tr>\n",
       "  </tbody>\n",
       "</table>\n",
       "</div>"
      ],
      "text/plain": [
       "   created_at  n_hateful  prop_hateful\n",
       "0     2016-09        376      0.072643\n",
       "1     2018-01        190      0.090133\n",
       "2     2018-02        181      0.085136\n",
       "3     2018-03        190      0.091832\n",
       "4     2018-04        186      0.090291\n",
       "5     2018-05        232      0.111218\n",
       "6     2018-06        224      0.106111\n",
       "7     2018-07        214      0.103783\n",
       "8     2018-08        167      0.086038\n",
       "9     2018-09        179      0.087917\n",
       "10    2018-10        189      0.091084"
      ]
     },
     "execution_count": 129,
     "metadata": {},
     "output_type": "execute_result"
    }
   ],
   "source": [
    "# overall proportion of hateful posts\n",
    "print('overall proportion of hateful posts: {:.1%} \\n'.format(ghc_df[ghc_df.label==1].label.count()/ghc_df.shape[0]))\n",
    "\n",
    "# proportion of hateful posts by month\n",
    "\n",
    "gb = ghc_df.groupby([ghc_df.created_at.apply(lambda x: x.to_period('M')), 'label']).size()\n",
    "prop_hateful_df = gb.to_frame('n_hateful')\n",
    "prop_hateful_df['prop_hateful'] = gb/gb.groupby(level=0).sum()\n",
    "prop_hateful_df.drop(0, level=1, inplace=True)\n",
    "prop_hateful_df.reset_index(inplace=True)\n",
    "prop_hateful_df.drop(columns=['label'])"
   ]
  },
  {
   "cell_type": "markdown",
   "id": "embedded-depression",
   "metadata": {},
   "source": [
    "## Clean text"
   ]
  },
  {
   "cell_type": "code",
   "execution_count": 130,
   "id": "skilled-climate",
   "metadata": {},
   "outputs": [
    {
     "name": "stdout",
     "output_type": "stream",
     "text": [
      "25850 posts, of which 0 were dropped for empty string content\n",
      "25850 posts remain. \n",
      "\n",
      "CPU times: user 688 ms, sys: 9.87 ms, total: 698 ms\n",
      "Wall time: 708 ms\n"
     ]
    }
   ],
   "source": [
    "%%time\n",
    "\n",
    "# Define function to clean text\n",
    "def clean(text):\n",
    "\n",
    "    # convert html\n",
    "    text = unescape(text)\n",
    "    \n",
    "    # replace mentions, URLs and emojis with special token\n",
    "    text = re.sub(r\"@[A-Za-z0-9_-]+\",'[USER]',text)\n",
    "    text = re.sub(r\"http\\S+\",'[URL]',text)\n",
    "    text = ''.join('[EMOJI]' if (char in emoji.UNICODE_EMOJI['en']) else char for char in text).strip()\n",
    "    \n",
    "    # clean\n",
    "    text = unicodedata.normalize(\"NFKD\", text)\n",
    "    \n",
    "    return text\n",
    "\n",
    "# create clean_text column\n",
    "ghc_df['clean_text'] = ghc_df.text.apply(clean)\n",
    "\n",
    "\n",
    "# save number of documents before dropping empty posts\n",
    "n_docs = ghc_df.shape[0]\n",
    "\n",
    "# drop rows with empty text\n",
    "ghc_df = ghc_df[ghc_df.clean_text!=\"\"]\n",
    "\n",
    "print(f'{n_docs} posts, of which {n_docs - ghc_df.shape[0]} were dropped for empty string content')\n",
    "print(f'{ghc_df.shape[0]} posts remain. \\n')\n",
    "\n",
    "\n",
    "# save number of documents before dropping posts that are just [URL], [EMOJI] or [USER]\n",
    "n_docs = ghc_df.shape[0]"
   ]
  },
  {
   "cell_type": "code",
   "execution_count": 131,
   "id": "arabic-liechtenstein",
   "metadata": {},
   "outputs": [
    {
     "name": "stdout",
     "output_type": "stream",
     "text": [
      "[USER] contained in 16539 documents\n",
      "[URL] contained in 13959 documents\n",
      "[EMOJI] contained in 18143 documents\n"
     ]
    }
   ],
   "source": [
    "# get overview of frequency of special tokens\n",
    "for special_token in ['[USER]', '[URL]', '[EMOJI]']:\n",
    "    print(f'{special_token} contained in {ghc_df[ghc_df.clean_text.str.contains(special_token)].shape[0]} documents')"
   ]
  },
  {
   "cell_type": "markdown",
   "id": "generous-reality",
   "metadata": {},
   "source": [
    "## Split and save sets"
   ]
  },
  {
   "cell_type": "code",
   "execution_count": 133,
   "id": "medieval-springer",
   "metadata": {},
   "outputs": [],
   "source": [
    "# split up df into train and eval with specified proportions, stratified by label\n",
    "TRAIN_PROP = 0.8\n",
    "export_train, export_eval = train_test_split(ghc_df[['clean_text', 'label']], train_size = TRAIN_PROP, stratify = ghc_df.label, random_state = 123)\n",
    "\n",
    "# export as separate csvs\n",
    "export_train.to_csv('../../0_data/clean/labelled_ghc/train_random.csv', index=False)\n",
    "export_eval.to_csv('../../0_data/clean/labelled_ghc/eval_random.csv', index=False)"
   ]
  },
  {
   "cell_type": "code",
   "execution_count": 135,
   "id": "young-hello",
   "metadata": {},
   "outputs": [],
   "source": [
    "# split up df into train and eval with specified proportions, stratified by label\n",
    "TRAIN_SIZE = 80\n",
    "TEST_SIZE = 16\n",
    "export_train, export_eval = train_test_split(ghc_df[['clean_text', 'label']], train_size = TRAIN_SIZE, test_size = TEST_SIZE, stratify = ghc_df.label, random_state = 123)\n",
    "\n",
    "# export as separate csvs\n",
    "export_train.to_csv('../../0_data/clean/labelled_ghc/train_random_small.csv', index=False)\n",
    "export_eval.to_csv('../../0_data/clean/labelled_ghc/eval_random_small.csv', index=False)"
   ]
  },
  {
   "cell_type": "code",
   "execution_count": null,
   "id": "fourth-control",
   "metadata": {},
   "outputs": [],
   "source": []
  }
 ],
 "metadata": {
  "kernelspec": {
   "display_name": "Python 3",
   "language": "python",
   "name": "python3"
  },
  "language_info": {
   "codemirror_mode": {
    "name": "ipython",
    "version": 3
   },
   "file_extension": ".py",
   "mimetype": "text/x-python",
   "name": "python",
   "nbconvert_exporter": "python",
   "pygments_lexer": "ipython3",
   "version": "3.8.5"
  }
 },
 "nbformat": 4,
 "nbformat_minor": 5
}
