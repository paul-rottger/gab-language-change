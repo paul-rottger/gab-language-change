{
 "cells": [
  {
   "cell_type": "markdown",
   "id": "recognized-employee",
   "metadata": {},
   "source": [
    "# Clean and Split Monthly Unlabelled Reddit (News) Corpora"
   ]
  },
  {
   "cell_type": "code",
   "execution_count": 2,
   "id": "temporal-witch",
   "metadata": {},
   "outputs": [],
   "source": [
    "import datetime as dt\n",
    "import csv\n",
    "import re\n",
    "import fasttext\n",
    "import emoji\n",
    "import pandas as pd\n",
    "import unicodedata\n",
    "import os\n",
    "\n",
    "from html import unescape\n",
    "from sklearn.model_selection import train_test_split"
   ]
  },
  {
   "cell_type": "markdown",
   "id": "flexible-lying",
   "metadata": {},
   "source": [
    "# Helper functions"
   ]
  },
  {
   "cell_type": "code",
   "execution_count": 3,
   "id": "thrown-petersburg",
   "metadata": {},
   "outputs": [],
   "source": [
    "def load_csv_to_df(filepath):\n",
    "\n",
    "    with open(os.path.join(directory, filename),'r', newline='') as f:\n",
    "        reader = csv.reader(f)\n",
    "        cols = [next(reader)]\n",
    "        df = pd.DataFrame(line for line in reader)\n",
    "        df.columns = cols\n",
    "        df.columns = df.columns.get_level_values(0)\n",
    "        \n",
    "    # small number of csv formatting errors --> delete\n",
    "\n",
    "    # save number of documents\n",
    "    n_docs = df.shape[0]\n",
    "\n",
    "    # drop posts with formatting errors\n",
    "    df.dropna(inplace=True)\n",
    "\n",
    "    print(f'{n_docs} posts, of which {n_docs - df.shape[0]} were dropped for csv formatting errors.')\n",
    "    print(f'{df.shape[0]} posts remain. \\n')\n",
    "    \n",
    "    # convert epoch to readable datetime\n",
    "    df.created_utc = df.created_utc.apply(lambda x: dt.datetime.fromtimestamp(int(x)))\n",
    "    \n",
    "    return df"
   ]
  },
  {
   "cell_type": "code",
   "execution_count": 4,
   "id": "comic-bullet",
   "metadata": {},
   "outputs": [],
   "source": [
    "def clean_text(text, max_length = 1024):\n",
    "\n",
    "    # convert html\n",
    "    text = unescape(text)\n",
    "    \n",
    "    # clean unicode formatting errors\n",
    "    text = unicodedata.normalize(\"NFKD\", text)\n",
    "    text = text.replace('\\u200d', '')\n",
    "    \n",
    "    # truncate text to max_length\n",
    "    text = text[:max_length]\n",
    "    \n",
    "    # remove newline and tab characters\n",
    "    text = text.replace('\\n',' ')\n",
    "    text = text.replace('\\t',' ')\n",
    "    \n",
    "    # replace URLs and emojis with special tokens\n",
    "    text = re.sub(r\"http\\S+\",'[URL]',text)\n",
    "    text = ''.join('[EMOJI]' if (char in emoji.UNICODE_EMOJI['en']) else char for char in text).strip()\n",
    "    \n",
    "    # remove deleted posts\n",
    "    text = text.replace('[deleted]','')\n",
    "    text = text.replace('[removed]','')\n",
    "    \n",
    "    # remove leading \">\" (reddit artifact)\n",
    "    text = text.lstrip('>')\n",
    "    \n",
    "    # remove The_Donald bots\n",
    "    if \"the Andromeda Galaxy\" in text or \"This bot was created\" in text:\n",
    "        text = \"\"\n",
    "        \n",
    "    # remove politics bots\n",
    "    if \"I'm a bot\" in text:\n",
    "        text = \"\"\n",
    "        \n",
    "    # remove chapo / libertarian bots\n",
    "    if \"^bot\" in text or \"transcribing bot\" in text or \"isbot \" in text:\n",
    "        text = \"\"\n",
    "        \n",
    "    # remove libertarian bots\n",
    "    if \"This bot wants to\" in text:\n",
    "        text = \"\"\n",
    "    \n",
    "    # collapse whitespace into single whitespace\n",
    "    text = re.sub(r'\\s+', ' ', text)\n",
    "    \n",
    "    # truncate text to max_length again\n",
    "    text = text[:max_length]\n",
    "    \n",
    "    # remove leading and trailing whitespaces\n",
    "    text = text.strip()\n",
    "\n",
    "    return text"
   ]
  },
  {
   "cell_type": "code",
   "execution_count": 5,
   "id": "printable-spelling",
   "metadata": {},
   "outputs": [],
   "source": [
    "def drop_empty(df):\n",
    "    \n",
    "    # save number of documents before dropping empty posts\n",
    "    n_docs = df.shape[0]\n",
    "\n",
    "    # drop rows with empty text\n",
    "    df = df[df.clean_text.values!=\"\"]\n",
    "\n",
    "    print(f'{n_docs} posts, of which {n_docs - df.shape[0]} were dropped for empty string content')\n",
    "    print(f'{df.shape[0]} posts remain. \\n')\n",
    "    \n",
    "    return df"
   ]
  },
  {
   "cell_type": "code",
   "execution_count": 6,
   "id": "prostate-filename",
   "metadata": {},
   "outputs": [],
   "source": [
    "def drop_url_emoji(df):\n",
    "\n",
    "    # save number of documents before dropping posts that are just [URL] or [EMOJI]\n",
    "    n_docs = df.shape[0]\n",
    "\n",
    "    # drop rows with text that is just [URL] or [EMOJI]\n",
    "    df = df[(df.clean_text!=\"[URL]\") & (df.clean_text!=\"[EMOJI]\")]\n",
    "\n",
    "    print(f'{n_docs} posts, of which {n_docs - df.shape[0]} were dropped for being just [URL] or [EMOJI]')\n",
    "    print(f'{df.shape[0]} posts remain. \\n')\n",
    "    \n",
    "    return df"
   ]
  },
  {
   "cell_type": "code",
   "execution_count": 7,
   "id": "individual-olive",
   "metadata": {},
   "outputs": [],
   "source": [
    "def drop_non_english(df):\n",
    "    \n",
    "    # load language classifier\n",
    "    fmodel = fasttext.load_model('../../0_models/lang_detect/lid.176.bin')\n",
    "\n",
    "    def check_language(text):\n",
    "        predictions = fmodel.predict(text, k=3)\n",
    "\n",
    "        # if top prediction is certain and not English, return non-English\n",
    "        if (predictions[0][0]!='__label__en') and (predictions[1][0]>0.50):\n",
    "            return 'non-English'\n",
    "\n",
    "        # else if English is one of top 3 predictions, return English\n",
    "        elif '__label__en' in predictions[0]:\n",
    "            return 'English'\n",
    "\n",
    "        # else return non-English\n",
    "        else:\n",
    "            return 'non-English'\n",
    "\n",
    "    # save number of documents before dropping non-English posts\n",
    "    n_docs = df.shape[0]\n",
    "\n",
    "    # drop non-English posts\n",
    "    df = df[df.clean_text.apply(lambda x: check_language(x) == 'English')]\n",
    "\n",
    "    print(f'{n_docs} posts, of which {n_docs - df.shape[0]} were dropped for (most likely) not being in English.')\n",
    "    print(f'{df.shape[0]} posts remain. \\n')\n",
    "    \n",
    "    return df"
   ]
  },
  {
   "cell_type": "code",
   "execution_count": 8,
   "id": "facial-liechtenstein",
   "metadata": {},
   "outputs": [],
   "source": [
    "def drop_dupl(df):\n",
    "\n",
    "    # save number of documents before dropping duplicates\n",
    "    n_docs = df.shape[0]\n",
    "\n",
    "    # drop duplicates\n",
    "    df.drop_duplicates(subset = ['clean_text'], inplace=True)\n",
    "\n",
    "    print(f'{n_docs} posts, of which {n_docs - df.shape[0]} were dropped for being duplicates.')\n",
    "    print(f'{df.shape[0]} posts remain. \\n')\n",
    "    \n",
    "    return df"
   ]
  },
  {
   "cell_type": "code",
   "execution_count": 9,
   "id": "surrounded-upper",
   "metadata": {},
   "outputs": [],
   "source": [
    "# create train and test splits for each month-year\n",
    "    \n",
    "def split_export(df, filename):\n",
    "    \n",
    "    export_train = pd.DataFrame(columns=['clean_text', 'subreddit'])\n",
    "    export_test = export_train.copy()\n",
    "    \n",
    "    for subreddit in pd.unique(df.subreddit):\n",
    "        \n",
    "        add_train, add_test = train_test_split(df[df.subreddit==subreddit][['clean_text', 'subreddit']],\n",
    "                                                     train_size = 8000, test_size = 2000,\n",
    "                                                     random_state = 123)\n",
    "        \n",
    "        export_train = export_train.append(add_train)\n",
    "        export_test = export_test.append(add_test)\n",
    "    \n",
    "    # rename subreddit column\n",
    "    export_train.rename(columns={'subreddit': 'label'}, inplace=True)\n",
    "    export_test.rename(columns={'subreddit': 'label'}, inplace=True)\n",
    "    \n",
    "    # export train sets of different sizes\n",
    "    export_train.sample(frac=1, random_state=123).to_csv(f'../../0_data/clean/labelled_reddit/month_splits/train_{filename[9:-4]}_40k.csv', index=False)\n",
    "    \n",
    "    df = export_train.groupby('label').apply(lambda x: x.sample(frac=0.5, random_state=123))\n",
    "    df.index = df.index.droplevel(0)\n",
    "    df.sample(frac=1, random_state=123).to_csv(f'../../0_data/clean/labelled_reddit/month_splits/train_{filename[9:-4]}_20k.csv', index=False)\n",
    "    \n",
    "    df = export_train.groupby('label').apply(lambda x: x.sample(frac=0.1, random_state=123))\n",
    "    df.index = df.index.droplevel(0)\n",
    "    df.sample(frac=1, random_state=123).to_csv(f'../../0_data/clean/labelled_reddit/month_splits/train_{filename[9:-4]}_4k.csv', index=False)\n",
    "    \n",
    "    df = export_train.groupby('label').apply(lambda x: x.sample(frac=0.025, random_state=123))\n",
    "    df.index = df.index.droplevel(0)\n",
    "    df.sample(frac=1, random_state=123).to_csv(f'../../0_data/clean/labelled_reddit/month_splits/train_{filename[9:-4]}_1k.csv', index=False)\n",
    "    \n",
    "    # export test sets of different sizes\n",
    "    export_test.sample(frac=1, random_state=123).to_csv(f'../../0_data/clean/labelled_reddit/month_splits/test_{filename[9:-4]}_10k.csv', index=False)\n",
    "\n",
    "    df = export_test.groupby('label').apply(lambda x: x.sample(frac=0.5, random_state=123))\n",
    "    df.index = df.index.droplevel(0)\n",
    "    df.sample(frac=1, random_state=123).to_csv(f'../../0_data/clean/labelled_reddit/month_splits/test_{filename[9:-4]}_5k.csv', index=False)"
   ]
  },
  {
   "cell_type": "markdown",
   "id": "featured-tennessee",
   "metadata": {},
   "source": [
    "# Main function"
   ]
  },
  {
   "cell_type": "code",
   "execution_count": 10,
   "id": "general-stand",
   "metadata": {},
   "outputs": [],
   "source": [
    "def clean_split(directory, filename):\n",
    "    \n",
    "    filepath = os.path.join(directory, filename)\n",
    "    \n",
    "    # load df from csv\n",
    "    df = load_csv_to_df(filepath)\n",
    "    \n",
    "    # clean text (\"body\") and write to column\n",
    "    df['clean_text'] = df.body.apply(clean_text)\n",
    "    \n",
    "    # drop posts with empty string \n",
    "    df = drop_empty(df)\n",
    "    \n",
    "    # drop posts that are just [URL] or [EMOJI]\n",
    "    df = drop_url_emoji(df)\n",
    "    \n",
    "    # drop posts that are likely not English\n",
    "    df = drop_non_english(df)\n",
    "    \n",
    "    # drop duplicates\n",
    "    df = drop_dupl(df)\n",
    "    \n",
    "    # export to train and test file\n",
    "    split_export(df, filename)\n",
    "    \n",
    "    return f'wrote cleaned train and test file from {filename}'"
   ]
  },
  {
   "cell_type": "code",
   "execution_count": 11,
   "id": "leading-conservative",
   "metadata": {},
   "outputs": [
    {
     "name": "stdout",
     "output_type": "stream",
     "text": [
      "POLITICS_2019_01.CSV \n",
      "\n",
      "4206486 posts, of which 126 were dropped for csv formatting errors.\n",
      "4206360 posts remain. \n",
      "\n",
      "4206360 posts, of which 466636 were dropped for empty string content\n",
      "3739724 posts remain. \n",
      "\n",
      "3739724 posts, of which 12357 were dropped for being just [URL] or [EMOJI]\n",
      "3727367 posts remain. \n",
      "\n"
     ]
    },
    {
     "name": "stderr",
     "output_type": "stream",
     "text": [
      "Warning : `load_model` does not return WordVectorModel or SupervisedModel any more, but a `FastText` object which is very similar.\n"
     ]
    },
    {
     "name": "stdout",
     "output_type": "stream",
     "text": [
      "3727367 posts, of which 42634 were dropped for (most likely) not being in English.\n",
      "3684733 posts remain. \n",
      "\n",
      "3684733 posts, of which 157638 were dropped for being duplicates.\n",
      "3527095 posts remain. \n",
      "\n",
      "POLITICS_2019_02.CSV \n",
      "\n",
      "3711809 posts, of which 26 were dropped for csv formatting errors.\n",
      "3711783 posts remain. \n",
      "\n",
      "3711783 posts, of which 403423 were dropped for empty string content\n",
      "3308360 posts remain. \n",
      "\n",
      "3308360 posts, of which 10313 were dropped for being just [URL] or [EMOJI]\n",
      "3298047 posts remain. \n",
      "\n"
     ]
    },
    {
     "name": "stderr",
     "output_type": "stream",
     "text": [
      "Warning : `load_model` does not return WordVectorModel or SupervisedModel any more, but a `FastText` object which is very similar.\n"
     ]
    },
    {
     "name": "stdout",
     "output_type": "stream",
     "text": [
      "3298047 posts, of which 40023 were dropped for (most likely) not being in English.\n",
      "3258024 posts remain. \n",
      "\n",
      "3258024 posts, of which 135432 were dropped for being duplicates.\n",
      "3122592 posts remain. \n",
      "\n",
      "POLITICS_2019_03.CSV \n",
      "\n",
      "3612178 posts, of which 42 were dropped for csv formatting errors.\n",
      "3612136 posts remain. \n",
      "\n",
      "3612136 posts, of which 399530 were dropped for empty string content\n",
      "3212606 posts remain. \n",
      "\n",
      "3212606 posts, of which 9901 were dropped for being just [URL] or [EMOJI]\n",
      "3202705 posts remain. \n",
      "\n"
     ]
    },
    {
     "name": "stderr",
     "output_type": "stream",
     "text": [
      "Warning : `load_model` does not return WordVectorModel or SupervisedModel any more, but a `FastText` object which is very similar.\n"
     ]
    },
    {
     "name": "stdout",
     "output_type": "stream",
     "text": [
      "3202705 posts, of which 38331 were dropped for (most likely) not being in English.\n",
      "3164374 posts remain. \n",
      "\n",
      "3164374 posts, of which 133500 were dropped for being duplicates.\n",
      "3030874 posts remain. \n",
      "\n",
      "POLITICS_2019_04.CSV \n",
      "\n",
      "3148260 posts, of which 23 were dropped for csv formatting errors.\n",
      "3148237 posts remain. \n",
      "\n",
      "3148237 posts, of which 334577 were dropped for empty string content\n",
      "2813660 posts remain. \n",
      "\n",
      "2813660 posts, of which 8444 were dropped for being just [URL] or [EMOJI]\n",
      "2805216 posts remain. \n",
      "\n"
     ]
    },
    {
     "name": "stderr",
     "output_type": "stream",
     "text": [
      "Warning : `load_model` does not return WordVectorModel or SupervisedModel any more, but a `FastText` object which is very similar.\n"
     ]
    },
    {
     "name": "stdout",
     "output_type": "stream",
     "text": [
      "2805216 posts, of which 33763 were dropped for (most likely) not being in English.\n",
      "2771453 posts remain. \n",
      "\n",
      "2771453 posts, of which 115569 were dropped for being duplicates.\n",
      "2655884 posts remain. \n",
      "\n",
      "POLITICS_2019_05.CSV \n",
      "\n",
      "3143960 posts, of which 11 were dropped for csv formatting errors.\n",
      "3143949 posts remain. \n",
      "\n",
      "3143949 posts, of which 330687 were dropped for empty string content\n",
      "2813262 posts remain. \n",
      "\n",
      "2813262 posts, of which 7823 were dropped for being just [URL] or [EMOJI]\n",
      "2805439 posts remain. \n",
      "\n"
     ]
    },
    {
     "name": "stderr",
     "output_type": "stream",
     "text": [
      "Warning : `load_model` does not return WordVectorModel or SupervisedModel any more, but a `FastText` object which is very similar.\n"
     ]
    },
    {
     "name": "stdout",
     "output_type": "stream",
     "text": [
      "2805439 posts, of which 37134 were dropped for (most likely) not being in English.\n",
      "2768305 posts remain. \n",
      "\n",
      "2768305 posts, of which 126452 were dropped for being duplicates.\n",
      "2641853 posts remain. \n",
      "\n",
      "POLITICS_2019_06.CSV \n",
      "\n",
      "3230702 posts, of which 15 were dropped for csv formatting errors.\n",
      "3230687 posts remain. \n",
      "\n",
      "3230687 posts, of which 401270 were dropped for empty string content\n",
      "2829417 posts remain. \n",
      "\n",
      "2829417 posts, of which 8138 were dropped for being just [URL] or [EMOJI]\n",
      "2821279 posts remain. \n",
      "\n"
     ]
    },
    {
     "name": "stderr",
     "output_type": "stream",
     "text": [
      "Warning : `load_model` does not return WordVectorModel or SupervisedModel any more, but a `FastText` object which is very similar.\n"
     ]
    },
    {
     "name": "stdout",
     "output_type": "stream",
     "text": [
      "2821279 posts, of which 36408 were dropped for (most likely) not being in English.\n",
      "2784871 posts remain. \n",
      "\n",
      "2784871 posts, of which 121287 were dropped for being duplicates.\n",
      "2663584 posts remain. \n",
      "\n",
      "POLITICS_2019_07.CSV \n",
      "\n",
      "3626326 posts, of which 11 were dropped for csv formatting errors.\n",
      "3626315 posts remain. \n",
      "\n",
      "3626315 posts, of which 466657 were dropped for empty string content\n",
      "3159658 posts remain. \n",
      "\n",
      "3159658 posts, of which 9909 were dropped for being just [URL] or [EMOJI]\n",
      "3149749 posts remain. \n",
      "\n"
     ]
    },
    {
     "name": "stderr",
     "output_type": "stream",
     "text": [
      "Warning : `load_model` does not return WordVectorModel or SupervisedModel any more, but a `FastText` object which is very similar.\n"
     ]
    },
    {
     "name": "stdout",
     "output_type": "stream",
     "text": [
      "3149749 posts, of which 37183 were dropped for (most likely) not being in English.\n",
      "3112566 posts remain. \n",
      "\n",
      "3112566 posts, of which 133840 were dropped for being duplicates.\n",
      "2978726 posts remain. \n",
      "\n",
      "POLITICS_2019_08.CSV \n",
      "\n",
      "3444676 posts, of which 0 were dropped for csv formatting errors.\n",
      "3444676 posts remain. \n",
      "\n",
      "3444676 posts, of which 419196 were dropped for empty string content\n",
      "3025480 posts remain. \n",
      "\n",
      "3025480 posts, of which 8994 were dropped for being just [URL] or [EMOJI]\n",
      "3016486 posts remain. \n",
      "\n"
     ]
    },
    {
     "name": "stderr",
     "output_type": "stream",
     "text": [
      "Warning : `load_model` does not return WordVectorModel or SupervisedModel any more, but a `FastText` object which is very similar.\n"
     ]
    },
    {
     "name": "stdout",
     "output_type": "stream",
     "text": [
      "3016486 posts, of which 33286 were dropped for (most likely) not being in English.\n",
      "2983200 posts remain. \n",
      "\n",
      "2983200 posts, of which 191225 were dropped for being duplicates.\n",
      "2791975 posts remain. \n",
      "\n",
      "POLITICS_2019_09.CSV \n",
      "\n",
      "3120800 posts, of which 0 were dropped for csv formatting errors.\n",
      "3120800 posts remain. \n",
      "\n",
      "3120800 posts, of which 373181 were dropped for empty string content\n",
      "2747619 posts remain. \n",
      "\n",
      "2747619 posts, of which 7708 were dropped for being just [URL] or [EMOJI]\n",
      "2739911 posts remain. \n",
      "\n"
     ]
    },
    {
     "name": "stderr",
     "output_type": "stream",
     "text": [
      "Warning : `load_model` does not return WordVectorModel or SupervisedModel any more, but a `FastText` object which is very similar.\n"
     ]
    },
    {
     "name": "stdout",
     "output_type": "stream",
     "text": [
      "2739911 posts, of which 30268 were dropped for (most likely) not being in English.\n",
      "2709643 posts remain. \n",
      "\n",
      "2709643 posts, of which 178921 were dropped for being duplicates.\n",
      "2530722 posts remain. \n",
      "\n",
      "POLITICS_2019_10.CSV \n",
      "\n",
      "3699779 posts, of which 0 were dropped for csv formatting errors.\n",
      "3699779 posts remain. \n",
      "\n",
      "3699779 posts, of which 436860 were dropped for empty string content\n",
      "3262919 posts remain. \n",
      "\n",
      "3262919 posts, of which 9231 were dropped for being just [URL] or [EMOJI]\n",
      "3253688 posts remain. \n",
      "\n"
     ]
    },
    {
     "name": "stderr",
     "output_type": "stream",
     "text": [
      "Warning : `load_model` does not return WordVectorModel or SupervisedModel any more, but a `FastText` object which is very similar.\n"
     ]
    },
    {
     "name": "stdout",
     "output_type": "stream",
     "text": [
      "3253688 posts, of which 37992 were dropped for (most likely) not being in English.\n",
      "3215696 posts remain. \n",
      "\n",
      "3215696 posts, of which 203320 were dropped for being duplicates.\n",
      "3012376 posts remain. \n",
      "\n",
      "POLITICS_2019_11.CSV \n",
      "\n",
      "3396327 posts, of which 3 were dropped for csv formatting errors.\n",
      "3396324 posts remain. \n",
      "\n",
      "3396324 posts, of which 399089 were dropped for empty string content\n",
      "2997235 posts remain. \n",
      "\n",
      "2997235 posts, of which 8737 were dropped for being just [URL] or [EMOJI]\n",
      "2988498 posts remain. \n",
      "\n"
     ]
    },
    {
     "name": "stderr",
     "output_type": "stream",
     "text": [
      "Warning : `load_model` does not return WordVectorModel or SupervisedModel any more, but a `FastText` object which is very similar.\n"
     ]
    },
    {
     "name": "stdout",
     "output_type": "stream",
     "text": [
      "2988498 posts, of which 35722 were dropped for (most likely) not being in English.\n",
      "2952776 posts remain. \n",
      "\n",
      "2952776 posts, of which 184195 were dropped for being duplicates.\n",
      "2768581 posts remain. \n",
      "\n",
      "POLITICS_2019_12.CSV \n",
      "\n",
      "3379381 posts, of which 0 were dropped for csv formatting errors.\n",
      "3379381 posts remain. \n",
      "\n",
      "3379381 posts, of which 406572 were dropped for empty string content\n",
      "2972809 posts remain. \n",
      "\n",
      "2972809 posts, of which 7891 were dropped for being just [URL] or [EMOJI]\n",
      "2964918 posts remain. \n",
      "\n"
     ]
    },
    {
     "name": "stderr",
     "output_type": "stream",
     "text": [
      "Warning : `load_model` does not return WordVectorModel or SupervisedModel any more, but a `FastText` object which is very similar.\n"
     ]
    },
    {
     "name": "stdout",
     "output_type": "stream",
     "text": [
      "2964918 posts, of which 33710 were dropped for (most likely) not being in English.\n",
      "2931208 posts remain. \n",
      "\n",
      "2931208 posts, of which 165088 were dropped for being duplicates.\n",
      "2766120 posts remain. \n",
      "\n",
      "CPU times: user 1h 1min 58s, sys: 2min 43s, total: 1h 4min 41s\n",
      "Wall time: 1h 5min 55s\n"
     ]
    }
   ],
   "source": [
    "%%time\n",
    "\n",
    "# load raw data from csvs, clean it and split it into train and test sets\n",
    "\n",
    "directory = '../../0_data/raw/labelled_reddit'\n",
    "\n",
    "\n",
    "for year in [\"2019\"]:\n",
    "    for filename in sorted(os.listdir(directory)):\n",
    "        if year in filename: #.endswith(\"50_13.csv\"):\n",
    "            print(filename.upper(), '\\n')\n",
    "            clean_split(directory, filename)\n",
    "            continue\n",
    "        else:\n",
    "            continue"
   ]
  },
  {
   "cell_type": "code",
   "execution_count": 12,
   "id": "alive-steps",
   "metadata": {},
   "outputs": [
    {
     "name": "stdout",
     "output_type": "stream",
     "text": [
      "POLITICS_2017_03.CSV \n",
      "\n",
      "3303014 posts, of which 122 were dropped for csv formatting errors.\n",
      "3302892 posts remain. \n",
      "\n",
      "3302892 posts, of which 292672 were dropped for empty string content\n",
      "3010220 posts remain. \n",
      "\n",
      "3010220 posts, of which 15282 were dropped for being just [URL] or [EMOJI]\n",
      "2994938 posts remain. \n",
      "\n"
     ]
    },
    {
     "name": "stderr",
     "output_type": "stream",
     "text": [
      "Warning : `load_model` does not return WordVectorModel or SupervisedModel any more, but a `FastText` object which is very similar.\n"
     ]
    },
    {
     "name": "stdout",
     "output_type": "stream",
     "text": [
      "2994938 posts, of which 42898 were dropped for (most likely) not being in English.\n",
      "2952040 posts remain. \n",
      "\n",
      "2952040 posts, of which 150620 were dropped for being duplicates.\n",
      "2801420 posts remain. \n",
      "\n",
      "POLITICS_2017_04.CSV \n",
      "\n",
      "2731936 posts, of which 132 were dropped for csv formatting errors.\n",
      "2731804 posts remain. \n",
      "\n",
      "2731804 posts, of which 242901 were dropped for empty string content\n",
      "2488903 posts remain. \n",
      "\n",
      "2488903 posts, of which 11307 were dropped for being just [URL] or [EMOJI]\n",
      "2477596 posts remain. \n",
      "\n"
     ]
    },
    {
     "name": "stderr",
     "output_type": "stream",
     "text": [
      "Warning : `load_model` does not return WordVectorModel or SupervisedModel any more, but a `FastText` object which is very similar.\n"
     ]
    },
    {
     "name": "stdout",
     "output_type": "stream",
     "text": [
      "2477596 posts, of which 34900 were dropped for (most likely) not being in English.\n",
      "2442696 posts remain. \n",
      "\n",
      "2442696 posts, of which 117405 were dropped for being duplicates.\n",
      "2325291 posts remain. \n",
      "\n",
      "POLITICS_2017_05.CSV \n",
      "\n",
      "3437578 posts, of which 711 were dropped for csv formatting errors.\n",
      "3436867 posts remain. \n",
      "\n",
      "3436867 posts, of which 310634 were dropped for empty string content\n",
      "3126233 posts remain. \n",
      "\n",
      "3126233 posts, of which 15932 were dropped for being just [URL] or [EMOJI]\n",
      "3110301 posts remain. \n",
      "\n"
     ]
    },
    {
     "name": "stderr",
     "output_type": "stream",
     "text": [
      "Warning : `load_model` does not return WordVectorModel or SupervisedModel any more, but a `FastText` object which is very similar.\n"
     ]
    },
    {
     "name": "stdout",
     "output_type": "stream",
     "text": [
      "3110301 posts, of which 41344 were dropped for (most likely) not being in English.\n",
      "3068957 posts remain. \n",
      "\n",
      "3068957 posts, of which 159868 were dropped for being duplicates.\n",
      "2909089 posts remain. \n",
      "\n",
      "POLITICS_2017_06.CSV \n",
      "\n",
      "3165048 posts, of which 771 were dropped for csv formatting errors.\n",
      "3164277 posts remain. \n",
      "\n",
      "3164277 posts, of which 278264 were dropped for empty string content\n",
      "2886013 posts remain. \n",
      "\n",
      "2886013 posts, of which 13024 were dropped for being just [URL] or [EMOJI]\n",
      "2872989 posts remain. \n",
      "\n"
     ]
    },
    {
     "name": "stderr",
     "output_type": "stream",
     "text": [
      "Warning : `load_model` does not return WordVectorModel or SupervisedModel any more, but a `FastText` object which is very similar.\n"
     ]
    },
    {
     "name": "stdout",
     "output_type": "stream",
     "text": [
      "2872989 posts, of which 37151 were dropped for (most likely) not being in English.\n",
      "2835838 posts remain. \n",
      "\n",
      "2835838 posts, of which 137284 were dropped for being duplicates.\n",
      "2698554 posts remain. \n",
      "\n",
      "POLITICS_2017_07.CSV \n",
      "\n",
      "2987901 posts, of which 2037 were dropped for csv formatting errors.\n",
      "2985864 posts remain. \n",
      "\n",
      "2985864 posts, of which 256067 were dropped for empty string content\n",
      "2729797 posts remain. \n",
      "\n",
      "2729797 posts, of which 12225 were dropped for being just [URL] or [EMOJI]\n",
      "2717572 posts remain. \n",
      "\n"
     ]
    },
    {
     "name": "stderr",
     "output_type": "stream",
     "text": [
      "Warning : `load_model` does not return WordVectorModel or SupervisedModel any more, but a `FastText` object which is very similar.\n"
     ]
    },
    {
     "name": "stdout",
     "output_type": "stream",
     "text": [
      "2717572 posts, of which 33097 were dropped for (most likely) not being in English.\n",
      "2684475 posts remain. \n",
      "\n",
      "2684475 posts, of which 128233 were dropped for being duplicates.\n",
      "2556242 posts remain. \n",
      "\n",
      "POLITICS_2017_08.CSV \n",
      "\n",
      "3154713 posts, of which 395 were dropped for csv formatting errors.\n",
      "3154318 posts remain. \n",
      "\n",
      "3154318 posts, of which 287889 were dropped for empty string content\n",
      "2866429 posts remain. \n",
      "\n",
      "2866429 posts, of which 12488 were dropped for being just [URL] or [EMOJI]\n",
      "2853941 posts remain. \n",
      "\n"
     ]
    },
    {
     "name": "stderr",
     "output_type": "stream",
     "text": [
      "Warning : `load_model` does not return WordVectorModel or SupervisedModel any more, but a `FastText` object which is very similar.\n"
     ]
    },
    {
     "name": "stdout",
     "output_type": "stream",
     "text": [
      "2853941 posts, of which 32396 were dropped for (most likely) not being in English.\n",
      "2821545 posts remain. \n",
      "\n",
      "2821545 posts, of which 129894 were dropped for being duplicates.\n",
      "2691651 posts remain. \n",
      "\n",
      "POLITICS_2017_09.CSV \n",
      "\n",
      "2572942 posts, of which 554 were dropped for csv formatting errors.\n",
      "2572388 posts remain. \n",
      "\n",
      "2572388 posts, of which 217458 were dropped for empty string content\n",
      "2354930 posts remain. \n",
      "\n",
      "2354930 posts, of which 9210 were dropped for being just [URL] or [EMOJI]\n",
      "2345720 posts remain. \n",
      "\n"
     ]
    },
    {
     "name": "stderr",
     "output_type": "stream",
     "text": [
      "Warning : `load_model` does not return WordVectorModel or SupervisedModel any more, but a `FastText` object which is very similar.\n"
     ]
    },
    {
     "name": "stdout",
     "output_type": "stream",
     "text": [
      "2345720 posts, of which 27318 were dropped for (most likely) not being in English.\n",
      "2318402 posts remain. \n",
      "\n",
      "2318402 posts, of which 183248 were dropped for being duplicates.\n",
      "2135154 posts remain. \n",
      "\n",
      "POLITICS_2017_10.CSV \n",
      "\n",
      "2943544 posts, of which 104 were dropped for csv formatting errors.\n",
      "2943440 posts remain. \n",
      "\n",
      "2943440 posts, of which 256781 were dropped for empty string content\n",
      "2686659 posts remain. \n",
      "\n",
      "2686659 posts, of which 11715 were dropped for being just [URL] or [EMOJI]\n",
      "2674944 posts remain. \n",
      "\n"
     ]
    },
    {
     "name": "stderr",
     "output_type": "stream",
     "text": [
      "Warning : `load_model` does not return WordVectorModel or SupervisedModel any more, but a `FastText` object which is very similar.\n"
     ]
    },
    {
     "name": "stdout",
     "output_type": "stream",
     "text": [
      "2674944 posts, of which 31713 were dropped for (most likely) not being in English.\n",
      "2643231 posts remain. \n",
      "\n",
      "2643231 posts, of which 122072 were dropped for being duplicates.\n",
      "2521159 posts remain. \n",
      "\n",
      "POLITICS_2017_11.CSV \n",
      "\n",
      "2897622 posts, of which 83 were dropped for csv formatting errors.\n",
      "2897539 posts remain. \n",
      "\n",
      "2897539 posts, of which 250902 were dropped for empty string content\n",
      "2646637 posts remain. \n",
      "\n",
      "2646637 posts, of which 11121 were dropped for being just [URL] or [EMOJI]\n",
      "2635516 posts remain. \n",
      "\n"
     ]
    },
    {
     "name": "stderr",
     "output_type": "stream",
     "text": [
      "Warning : `load_model` does not return WordVectorModel or SupervisedModel any more, but a `FastText` object which is very similar.\n"
     ]
    },
    {
     "name": "stdout",
     "output_type": "stream",
     "text": [
      "2635516 posts, of which 30881 were dropped for (most likely) not being in English.\n",
      "2604635 posts remain. \n",
      "\n",
      "2604635 posts, of which 116869 were dropped for being duplicates.\n",
      "2487766 posts remain. \n",
      "\n",
      "POLITICS_2017_12.CSV \n",
      "\n",
      "2960119 posts, of which 12 were dropped for csv formatting errors.\n",
      "2960107 posts remain. \n",
      "\n",
      "2960107 posts, of which 248187 were dropped for empty string content\n",
      "2711920 posts remain. \n",
      "\n",
      "2711920 posts, of which 11636 were dropped for being just [URL] or [EMOJI]\n",
      "2700284 posts remain. \n",
      "\n"
     ]
    },
    {
     "name": "stderr",
     "output_type": "stream",
     "text": [
      "Warning : `load_model` does not return WordVectorModel or SupervisedModel any more, but a `FastText` object which is very similar.\n"
     ]
    },
    {
     "name": "stdout",
     "output_type": "stream",
     "text": [
      "2700284 posts, of which 30933 were dropped for (most likely) not being in English.\n",
      "2669351 posts remain. \n",
      "\n",
      "2669351 posts, of which 115320 were dropped for being duplicates.\n",
      "2554031 posts remain. \n",
      "\n",
      "CPU times: user 43min 24s, sys: 34 s, total: 43min 58s\n",
      "Wall time: 44min 8s\n"
     ]
    }
   ],
   "source": [
    "%%time\n",
    "\n",
    "# load raw data from csvs, clean it and split it into train and test sets\n",
    "\n",
    "directory = '../../0_data/raw/labelled_reddit'\n",
    "\n",
    "\n",
    "for year in [\"2017\"]:\n",
    "    for filename in sorted(os.listdir(directory)):\n",
    "        if year in filename and \"_01\" not in filename and \"_02\" not in filename: #.endswith(\"50_13.csv\"):\n",
    "            print(filename.upper(), '\\n')\n",
    "            clean_split(directory, filename)\n",
    "            continue\n",
    "        else:\n",
    "            continue"
   ]
  },
  {
   "cell_type": "code",
   "execution_count": 13,
   "id": "fifth-locator",
   "metadata": {},
   "outputs": [
    {
     "name": "stdout",
     "output_type": "stream",
     "text": [
      "POLITICS_2018_06.CSV \n",
      "\n",
      "3323822 posts, of which 18 were dropped for csv formatting errors.\n",
      "3323804 posts remain. \n",
      "\n",
      "3323804 posts, of which 323325 were dropped for empty string content\n",
      "3000479 posts remain. \n",
      "\n",
      "3000479 posts, of which 10891 were dropped for being just [URL] or [EMOJI]\n",
      "2989588 posts remain. \n",
      "\n"
     ]
    },
    {
     "name": "stderr",
     "output_type": "stream",
     "text": [
      "Warning : `load_model` does not return WordVectorModel or SupervisedModel any more, but a `FastText` object which is very similar.\n"
     ]
    },
    {
     "name": "stdout",
     "output_type": "stream",
     "text": [
      "2989588 posts, of which 34594 were dropped for (most likely) not being in English.\n",
      "2954994 posts remain. \n",
      "\n",
      "2954994 posts, of which 124582 were dropped for being duplicates.\n",
      "2830412 posts remain. \n",
      "\n",
      "POLITICS_2018_07.CSV \n",
      "\n",
      "3401185 posts, of which 15 were dropped for csv formatting errors.\n",
      "3401170 posts remain. \n",
      "\n",
      "3401170 posts, of which 343222 were dropped for empty string content\n",
      "3057948 posts remain. \n",
      "\n",
      "3057948 posts, of which 10793 were dropped for being just [URL] or [EMOJI]\n",
      "3047155 posts remain. \n",
      "\n"
     ]
    },
    {
     "name": "stderr",
     "output_type": "stream",
     "text": [
      "Warning : `load_model` does not return WordVectorModel or SupervisedModel any more, but a `FastText` object which is very similar.\n"
     ]
    },
    {
     "name": "stdout",
     "output_type": "stream",
     "text": [
      "3047155 posts, of which 36792 were dropped for (most likely) not being in English.\n",
      "3010363 posts remain. \n",
      "\n",
      "3010363 posts, of which 130880 were dropped for being duplicates.\n",
      "2879483 posts remain. \n",
      "\n",
      "POLITICS_2018_08.CSV \n",
      "\n",
      "3246577 posts, of which 11 were dropped for csv formatting errors.\n",
      "3246566 posts remain. \n",
      "\n",
      "3246566 posts, of which 326059 were dropped for empty string content\n",
      "2920507 posts remain. \n",
      "\n",
      "2920507 posts, of which 10173 were dropped for being just [URL] or [EMOJI]\n",
      "2910334 posts remain. \n",
      "\n"
     ]
    },
    {
     "name": "stderr",
     "output_type": "stream",
     "text": [
      "Warning : `load_model` does not return WordVectorModel or SupervisedModel any more, but a `FastText` object which is very similar.\n"
     ]
    },
    {
     "name": "stdout",
     "output_type": "stream",
     "text": [
      "2910334 posts, of which 33441 were dropped for (most likely) not being in English.\n",
      "2876893 posts remain. \n",
      "\n",
      "2876893 posts, of which 124509 were dropped for being duplicates.\n",
      "2752384 posts remain. \n",
      "\n",
      "POLITICS_2018_09.CSV \n",
      "\n",
      "3675475 posts, of which 18 were dropped for csv formatting errors.\n",
      "3675457 posts remain. \n",
      "\n",
      "3675457 posts, of which 360601 were dropped for empty string content\n",
      "3314856 posts remain. \n",
      "\n",
      "3314856 posts, of which 10788 were dropped for being just [URL] or [EMOJI]\n",
      "3304068 posts remain. \n",
      "\n"
     ]
    },
    {
     "name": "stderr",
     "output_type": "stream",
     "text": [
      "Warning : `load_model` does not return WordVectorModel or SupervisedModel any more, but a `FastText` object which is very similar.\n"
     ]
    },
    {
     "name": "stdout",
     "output_type": "stream",
     "text": [
      "3304068 posts, of which 39317 were dropped for (most likely) not being in English.\n",
      "3264751 posts remain. \n",
      "\n",
      "3264751 posts, of which 143181 were dropped for being duplicates.\n",
      "3121570 posts remain. \n",
      "\n",
      "POLITICS_2018_10.CSV \n",
      "\n",
      "3960055 posts, of which 27 were dropped for csv formatting errors.\n",
      "3960028 posts remain. \n",
      "\n",
      "3960028 posts, of which 424540 were dropped for empty string content\n",
      "3535488 posts remain. \n",
      "\n",
      "3535488 posts, of which 11844 were dropped for being just [URL] or [EMOJI]\n",
      "3523644 posts remain. \n",
      "\n"
     ]
    },
    {
     "name": "stderr",
     "output_type": "stream",
     "text": [
      "Warning : `load_model` does not return WordVectorModel or SupervisedModel any more, but a `FastText` object which is very similar.\n"
     ]
    },
    {
     "name": "stdout",
     "output_type": "stream",
     "text": [
      "3523644 posts, of which 45740 were dropped for (most likely) not being in English.\n",
      "3477904 posts remain. \n",
      "\n",
      "3477904 posts, of which 165659 were dropped for being duplicates.\n",
      "3312245 posts remain. \n",
      "\n",
      "POLITICS_2018_11.CSV \n",
      "\n",
      "3779792 posts, of which 150 were dropped for csv formatting errors.\n",
      "3779642 posts remain. \n",
      "\n",
      "3779642 posts, of which 394409 were dropped for empty string content\n",
      "3385233 posts remain. \n",
      "\n",
      "3385233 posts, of which 10719 were dropped for being just [URL] or [EMOJI]\n",
      "3374514 posts remain. \n",
      "\n"
     ]
    },
    {
     "name": "stderr",
     "output_type": "stream",
     "text": [
      "Warning : `load_model` does not return WordVectorModel or SupervisedModel any more, but a `FastText` object which is very similar.\n"
     ]
    },
    {
     "name": "stdout",
     "output_type": "stream",
     "text": [
      "3374514 posts, of which 42068 were dropped for (most likely) not being in English.\n",
      "3332446 posts remain. \n",
      "\n",
      "3332446 posts, of which 148790 were dropped for being duplicates.\n",
      "3183656 posts remain. \n",
      "\n",
      "POLITICS_2018_12.CSV \n",
      "\n",
      "3200995 posts, of which 69 were dropped for csv formatting errors.\n",
      "3200926 posts remain. \n",
      "\n",
      "3200926 posts, of which 334161 were dropped for empty string content\n",
      "2866765 posts remain. \n",
      "\n",
      "2866765 posts, of which 9166 were dropped for being just [URL] or [EMOJI]\n",
      "2857599 posts remain. \n",
      "\n"
     ]
    },
    {
     "name": "stderr",
     "output_type": "stream",
     "text": [
      "Warning : `load_model` does not return WordVectorModel or SupervisedModel any more, but a `FastText` object which is very similar.\n"
     ]
    },
    {
     "name": "stdout",
     "output_type": "stream",
     "text": [
      "2857599 posts, of which 34363 were dropped for (most likely) not being in English.\n",
      "2823236 posts remain. \n",
      "\n",
      "2823236 posts, of which 117015 were dropped for being duplicates.\n",
      "2706221 posts remain. \n",
      "\n",
      "CPU times: user 35min 11s, sys: 41.4 s, total: 35min 52s\n",
      "Wall time: 36min\n"
     ]
    }
   ],
   "source": [
    "%%time\n",
    "\n",
    "# load raw data from csvs, clean it and split it into train and test sets\n",
    "\n",
    "directory = '../../0_data/raw/labelled_reddit'\n",
    "\n",
    "\n",
    "for year in [\"2018\"]:\n",
    "    for filename in sorted(os.listdir(directory)):\n",
    "        if year in filename and \"_01\" not in filename and \"_02\" not in filename and \"_03\" not in filename and \"_04\" not in filename and \"_05\" not in filename: #.endswith(\"50_13.csv\"):\n",
    "            print(filename.upper(), '\\n')\n",
    "            clean_split(directory, filename)\n",
    "            continue\n",
    "        else:\n",
    "            continue"
   ]
  },
  {
   "cell_type": "code",
   "execution_count": null,
   "id": "narrative-wrapping",
   "metadata": {},
   "outputs": [],
   "source": []
  }
 ],
 "metadata": {
  "kernelspec": {
   "display_name": "Python 3",
   "language": "python",
   "name": "python3"
  },
  "language_info": {
   "codemirror_mode": {
    "name": "ipython",
    "version": 3
   },
   "file_extension": ".py",
   "mimetype": "text/x-python",
   "name": "python",
   "nbconvert_exporter": "python",
   "pygments_lexer": "ipython3",
   "version": "3.8.8"
  }
 },
 "nbformat": 4,
 "nbformat_minor": 5
}
