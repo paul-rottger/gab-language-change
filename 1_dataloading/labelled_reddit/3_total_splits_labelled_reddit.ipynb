{
 "cells": [
  {
   "cell_type": "markdown",
   "id": "proud-empty",
   "metadata": {},
   "source": [
    "# Clean and Split Monthly Unlabelled Reddit (News) Corpora"
   ]
  },
  {
   "cell_type": "code",
   "execution_count": 5,
   "id": "expensive-columbus",
   "metadata": {},
   "outputs": [],
   "source": [
    "import csv\n",
    "import random\n",
    "import os\n",
    "import pandas as pd\n",
    "from sklearn.model_selection import train_test_split"
   ]
  },
  {
   "cell_type": "markdown",
   "id": "efficient-receipt",
   "metadata": {},
   "source": [
    "# Helper functions"
   ]
  },
  {
   "cell_type": "code",
   "execution_count": 6,
   "id": "statistical-transport",
   "metadata": {},
   "outputs": [],
   "source": [
    "def load_from_csv(filepath, month_sample_size):\n",
    "    import_df = pd.read_csv(filepath)\n",
    "    sample_df, _ = train_test_split(import_df, train_size = month_sample_size, stratify=import_df.label, random_state=123)\n",
    "    return sample_df"
   ]
  },
  {
   "cell_type": "code",
   "execution_count": 33,
   "id": "loose-least",
   "metadata": {},
   "outputs": [],
   "source": [
    "def create_sample(source_dir, mode, size, label):\n",
    "    \n",
    "    comment_df = pd.DataFrame(columns = ['clean_text', 'label'])\n",
    "    \n",
    "    for filename in sorted(os.listdir(source_dir)):\n",
    "        if mode in filename and filename.endswith(\"40k.csv\" if mode=='train' else \"10k.csv\"):\n",
    "            print(f\"  loading subsample from {filename}\")\n",
    "            comment_df = comment_df.append(load_from_csv(os.path.join(source_dir, filename), month_sample_size = int(round(size/36, 0)+1))) # divide by 36 to stratify across months\n",
    "    \n",
    "    export_df, _ = train_test_split(comment_df, train_size = size, stratify = comment_df.label, random_state = 123)\n",
    "    \n",
    "    export_df.to_csv(f'../../0_data/clean/labelled_reddit/total/{mode}_rand_{label}.csv')"
   ]
  },
  {
   "cell_type": "markdown",
   "id": "blind-dealer",
   "metadata": {},
   "source": [
    "# Creating random training and test sets"
   ]
  },
  {
   "cell_type": "code",
   "execution_count": 32,
   "id": "convenient-shade",
   "metadata": {},
   "outputs": [
    {
     "name": "stdout",
     "output_type": "stream",
     "text": [
      "creating random test set, size 1k\n",
      "  loading subsample from test_2017_03_10k.csv\n",
      "  loading subsample from test_2017_04_10k.csv\n",
      "  loading subsample from test_2017_05_10k.csv\n",
      "  loading subsample from test_2017_06_10k.csv\n",
      "  loading subsample from test_2017_07_10k.csv\n",
      "  loading subsample from test_2017_08_10k.csv\n",
      "  loading subsample from test_2017_09_10k.csv\n",
      "  loading subsample from test_2017_10_10k.csv\n",
      "  loading subsample from test_2017_11_10k.csv\n",
      "  loading subsample from test_2017_12_10k.csv\n",
      "  loading subsample from test_2018_01_10k.csv\n",
      "  loading subsample from test_2018_02_10k.csv\n",
      "  loading subsample from test_2018_03_10k.csv\n",
      "  loading subsample from test_2018_04_10k.csv\n",
      "  loading subsample from test_2018_05_10k.csv\n",
      "  loading subsample from test_2018_06_10k.csv\n",
      "  loading subsample from test_2018_07_10k.csv\n",
      "  loading subsample from test_2018_08_10k.csv\n",
      "  loading subsample from test_2018_09_10k.csv\n",
      "  loading subsample from test_2018_10_10k.csv\n",
      "  loading subsample from test_2018_11_10k.csv\n",
      "  loading subsample from test_2018_12_10k.csv\n",
      "  loading subsample from test_2019_01_10k.csv\n",
      "  loading subsample from test_2019_02_10k.csv\n",
      "  loading subsample from test_2019_03_10k.csv\n",
      "  loading subsample from test_2019_04_10k.csv\n",
      "  loading subsample from test_2019_05_10k.csv\n",
      "  loading subsample from test_2019_06_10k.csv\n",
      "  loading subsample from test_2019_07_10k.csv\n",
      "  loading subsample from test_2019_08_10k.csv\n",
      "  loading subsample from test_2019_09_10k.csv\n",
      "  loading subsample from test_2019_10_10k.csv\n",
      "  loading subsample from test_2019_11_10k.csv\n",
      "  loading subsample from test_2019_12_10k.csv\n",
      "CPU times: user 1.26 s, sys: 224 ms, total: 1.48 s\n",
      "Wall time: 1.57 s\n"
     ]
    }
   ],
   "source": [
    "%%time\n",
    "\n",
    "# create training sets\n",
    "mode = 'train'\n",
    "\n",
    "for size, label in [(1000, '1k'), (4000, '4k'), (20000, '20k'), (40000, '40k'), (80000, '80k'), (160000, '160k'), (320000, '320k'), (640000, '640k')]:\n",
    "    print(f\"creating random {mode} set, size {label}\")\n",
    "    create_sample(source_dir = '../../0_data/clean/labelled_reddit/month_splits', mode = mode, size = size, label = label)"
   ]
  },
  {
   "cell_type": "code",
   "execution_count": 32,
   "id": "uniform-consideration",
   "metadata": {},
   "outputs": [
    {
     "name": "stdout",
     "output_type": "stream",
     "text": [
      "creating random test set, size 1k\n",
      "  loading subsample from test_2017_03_10k.csv\n",
      "  loading subsample from test_2017_04_10k.csv\n",
      "  loading subsample from test_2017_05_10k.csv\n",
      "  loading subsample from test_2017_06_10k.csv\n",
      "  loading subsample from test_2017_07_10k.csv\n",
      "  loading subsample from test_2017_08_10k.csv\n",
      "  loading subsample from test_2017_09_10k.csv\n",
      "  loading subsample from test_2017_10_10k.csv\n",
      "  loading subsample from test_2017_11_10k.csv\n",
      "  loading subsample from test_2017_12_10k.csv\n",
      "  loading subsample from test_2018_01_10k.csv\n",
      "  loading subsample from test_2018_02_10k.csv\n",
      "  loading subsample from test_2018_03_10k.csv\n",
      "  loading subsample from test_2018_04_10k.csv\n",
      "  loading subsample from test_2018_05_10k.csv\n",
      "  loading subsample from test_2018_06_10k.csv\n",
      "  loading subsample from test_2018_07_10k.csv\n",
      "  loading subsample from test_2018_08_10k.csv\n",
      "  loading subsample from test_2018_09_10k.csv\n",
      "  loading subsample from test_2018_10_10k.csv\n",
      "  loading subsample from test_2018_11_10k.csv\n",
      "  loading subsample from test_2018_12_10k.csv\n",
      "  loading subsample from test_2019_01_10k.csv\n",
      "  loading subsample from test_2019_02_10k.csv\n",
      "  loading subsample from test_2019_03_10k.csv\n",
      "  loading subsample from test_2019_04_10k.csv\n",
      "  loading subsample from test_2019_05_10k.csv\n",
      "  loading subsample from test_2019_06_10k.csv\n",
      "  loading subsample from test_2019_07_10k.csv\n",
      "  loading subsample from test_2019_08_10k.csv\n",
      "  loading subsample from test_2019_09_10k.csv\n",
      "  loading subsample from test_2019_10_10k.csv\n",
      "  loading subsample from test_2019_11_10k.csv\n",
      "  loading subsample from test_2019_12_10k.csv\n",
      "CPU times: user 1.26 s, sys: 224 ms, total: 1.48 s\n",
      "Wall time: 1.57 s\n"
     ]
    }
   ],
   "source": [
    "%%time\n",
    "\n",
    "# create test sets\n",
    "mode = 'test'\n",
    "\n",
    "for size, label in [(10000, '1k'), (20000, '20k'), (40000, '40k')]:\n",
    "    print(f\"creating random {mode} set, size {label}\")\n",
    "    create_sample(source_dir = '../../0_data/clean/labelled_reddit/month_splits', mode = mode, size = size, label = label)"
   ]
  }
 ],
 "metadata": {
  "kernelspec": {
   "display_name": "Python 3",
   "language": "python",
   "name": "python3"
  },
  "language_info": {
   "codemirror_mode": {
    "name": "ipython",
    "version": 3
   },
   "file_extension": ".py",
   "mimetype": "text/x-python",
   "name": "python",
   "nbconvert_exporter": "python",
   "pygments_lexer": "ipython3",
   "version": "3.8.8"
  }
 },
 "nbformat": 4,
 "nbformat_minor": 5
}
