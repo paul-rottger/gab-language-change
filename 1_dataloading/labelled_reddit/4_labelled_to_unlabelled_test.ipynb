{
 "cells": [
  {
   "cell_type": "code",
   "execution_count": 1,
   "id": "bearing-vertical",
   "metadata": {},
   "outputs": [],
   "source": [
    "import csv\n",
    "import os\n",
    "import pandas as pd"
   ]
  },
  {
   "cell_type": "code",
   "execution_count": 16,
   "id": "medical-lending",
   "metadata": {},
   "outputs": [
    {
     "name": "stdout",
     "output_type": "stream",
     "text": [
      "test_2017_03_5k.csv\n",
      "test_2017_04_5k.csv\n",
      "test_2017_05_5k.csv\n",
      "test_2017_06_5k.csv\n",
      "test_2017_07_5k.csv\n",
      "test_2017_08_5k.csv\n",
      "test_2017_09_5k.csv\n",
      "test_2017_10_5k.csv\n",
      "test_2017_11_5k.csv\n",
      "test_2017_12_5k.csv\n",
      "test_2018_01_5k.csv\n",
      "test_2018_02_5k.csv\n",
      "test_2018_03_5k.csv\n",
      "test_2018_04_5k.csv\n",
      "test_2018_05_5k.csv\n",
      "test_2018_06_5k.csv\n",
      "test_2018_07_5k.csv\n",
      "test_2018_08_5k.csv\n",
      "test_2018_09_5k.csv\n",
      "test_2018_10_5k.csv\n",
      "test_2018_11_5k.csv\n",
      "test_2018_12_5k.csv\n",
      "test_2019_01_5k.csv\n",
      "test_2019_02_5k.csv\n",
      "test_2019_03_5k.csv\n",
      "test_2019_04_5k.csv\n",
      "test_2019_05_5k.csv\n",
      "test_2019_06_5k.csv\n",
      "test_2019_07_5k.csv\n",
      "test_2019_08_5k.csv\n",
      "test_2019_09_5k.csv\n",
      "test_2019_10_5k.csv\n",
      "test_2019_11_5k.csv\n",
      "test_2019_12_5k.csv\n",
      "test_2020_01_5k.csv\n",
      "test_2020_02_5k.csv\n"
     ]
    }
   ],
   "source": [
    "source_dir = \"../../0_data/clean/labelled_reddit/month_splits\"\n",
    "\n",
    "\n",
    "for filename in sorted(os.listdir(source_dir)):\n",
    "        if filename.startswith(\"test_\") and filename.endswith(\"_5k.csv\"):\n",
    "            print(filename)\n",
    "            import_df = pd.read_csv(os.path.join(source_dir,filename))\n",
    "            \n",
    "            with open(f'../../0_data/clean/unlabelled_reddit/politics_test/{filename.strip(\".csv\")}.txt', 'w') as write_obj:\n",
    "                for text in import_df.clean_text.sample(frac=1, random_state=123):\n",
    "                    write_obj.write(text + \"\\n \\n\")\n"
   ]
  },
  {
   "cell_type": "code",
   "execution_count": 14,
   "id": "polished-february",
   "metadata": {},
   "outputs": [
    {
     "data": {
      "text/plain": [
       "2648                         You lucky bastard. Godspeed.\n",
       "2456                    Jesus I forgot about that debacle\n",
       "4557                       Do not downvote this copypasta\n",
       "4884    As a FYI just because I think someone is ugly ...\n",
       "92      Do it, the fate of the world literally depends...\n",
       "                              ...                        \n",
       "1593    I've seen Christianity there before, but theol...\n",
       "4060    Don't even try to understand. These are the sa...\n",
       "1346                   That was Trump's DOJ, not the dems\n",
       "3454    Exactly, because the last few cycles of arbitr...\n",
       "3582    The silly thing about it, is the precedence Sc...\n",
       "Name: clean_text, Length: 5000, dtype: object"
      ]
     },
     "execution_count": 14,
     "metadata": {},
     "output_type": "execute_result"
    }
   ],
   "source": []
  },
  {
   "cell_type": "code",
   "execution_count": null,
   "id": "upset-lyric",
   "metadata": {},
   "outputs": [],
   "source": []
  }
 ],
 "metadata": {
  "kernelspec": {
   "display_name": "Python 3",
   "language": "python",
   "name": "python3"
  },
  "language_info": {
   "codemirror_mode": {
    "name": "ipython",
    "version": 3
   },
   "file_extension": ".py",
   "mimetype": "text/x-python",
   "name": "python",
   "nbconvert_exporter": "python",
   "pygments_lexer": "ipython3",
   "version": "3.8.8"
  }
 },
 "nbformat": 4,
 "nbformat_minor": 5
}
