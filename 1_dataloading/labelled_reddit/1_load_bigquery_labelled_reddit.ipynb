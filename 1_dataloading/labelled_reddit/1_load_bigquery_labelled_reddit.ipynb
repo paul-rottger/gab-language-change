{
 "cells": [
  {
   "cell_type": "code",
   "execution_count": 1,
   "id": "killing-mileage",
   "metadata": {},
   "outputs": [],
   "source": [
    "import csv\n",
    "import pandas as pd\n",
    "\n",
    "from google.cloud import bigquery\n",
    "\n",
    "# set GCP credentials\n",
    "import os\n",
    "os.environ[\"GOOGLE_APPLICATION_CREDENTIALS\"] = \"/Users/Paul/Downloads/gcp-key.json\"\n",
    "client = bigquery.Client()"
   ]
  },
  {
   "cell_type": "markdown",
   "id": "under-festival",
   "metadata": {},
   "source": [
    "## Download Pushshift data via BigQuery"
   ]
  },
  {
   "cell_type": "code",
   "execution_count": null,
   "id": "stuck-gazette",
   "metadata": {},
   "outputs": [
    {
     "name": "stdout",
     "output_type": "stream",
     "text": [
      "2019_01\n",
      "\t queried results\n",
      "\t wrote to df\n",
      "\t exported to csv\n",
      "\n",
      "2019_02\n",
      "\t queried results\n",
      "\t wrote to df\n",
      "\t exported to csv\n",
      "\n",
      "2019_03\n",
      "\t queried results\n"
     ]
    }
   ],
   "source": [
    "%%time \n",
    "\n",
    "for year in [2019]: #[2017, 2018, 2019]:\n",
    "    for month in ['01', '02', '03', '04', '05', '06', '07', '08', '09', '10', '11', '12']:\n",
    "\n",
    "        print(f\"{year}_{month}\")\n",
    "\n",
    "        query_job = client.query(\n",
    "            f\"\"\"\n",
    "            SELECT created_utc, body, subreddit\n",
    "            FROM `fh-bigquery.reddit_comments.{year}_{month}`\n",
    "            WHERE subreddit = 'chapotraphouse' OR subreddit = 'conservative' OR subreddit = 'libertarian' OR subreddit = 'the_donald' OR subreddit = 'politics'\n",
    "            \"\"\"\n",
    "        )\n",
    "\n",
    "        results = query_job.result()  # Waits for job to complete.\n",
    "        print('\\t queried results')\n",
    "\n",
    "        # write result to df\n",
    "        results_df = pd.DataFrame({'created_utc': row.created_utc, 'body': row.body[:1024], 'subreddit': row.subreddit} for row in results)\n",
    "        print('\\t wrote to df')\n",
    "\n",
    "        # export df to csv\n",
    "        results_df.to_csv(f'../../0_data/raw/labelled_reddit/politics_{year}_{month}.csv', index=False)\n",
    "        print('\\t exported to csv')\n",
    "        print()"
   ]
  },
  {
   "cell_type": "code",
   "execution_count": null,
   "id": "demonstrated-young",
   "metadata": {},
   "outputs": [],
   "source": []
  }
 ],
 "metadata": {
  "kernelspec": {
   "display_name": "Python 3",
   "language": "python",
   "name": "python3"
  },
  "language_info": {
   "codemirror_mode": {
    "name": "ipython",
    "version": 3
   },
   "file_extension": ".py",
   "mimetype": "text/x-python",
   "name": "python",
   "nbconvert_exporter": "python",
   "pygments_lexer": "ipython3",
   "version": "3.8.8"
  }
 },
 "nbformat": 4,
 "nbformat_minor": 5
}
