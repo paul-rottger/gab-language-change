{
 "cells": [
  {
   "cell_type": "code",
   "execution_count": 1,
   "metadata": {},
   "outputs": [],
   "source": [
    "# load relevant packages\n",
    "import pandas as pd\n",
    "import csv\n",
    "from sys import getsizeof"
   ]
  },
  {
   "cell_type": "markdown",
   "metadata": {},
   "source": [
    "## Load Labelled Corpus"
   ]
  },
  {
   "cell_type": "code",
   "execution_count": 4,
   "metadata": {},
   "outputs": [
    {
     "output_type": "execute_result",
     "data": {
      "text/plain": [
       "       case_id                                               text  \\\n",
       "0        27044  Ah the PSYOPS antifa crew is back. That’s how ...   \n",
       "1        27045  Get the new Android app update released today ...   \n",
       "2        27046  Study: Google Pushes Liberal News in Top 5 Sea...   \n",
       "3        27048  #Breaking: Claiming bias against conservatives...   \n",
       "4        27049  “These [companies] are run by sociopaths,” he ...   \n",
       "...        ...                                                ...   \n",
       "27660     7132  yeah we wont be deleting these accounts so neo...   \n",
       "27661     9078  Wow, watch this yarmie wearing Jew brag about ...   \n",
       "27662     9167  I'm available as a Common Sense Consultant sin...   \n",
       "27663     9188  He thinks only peons own guns, you're supposed...   \n",
       "27664     9222     America must stop funding the United Nations.    \n",
       "\n",
       "       prop_hateful  label  \n",
       "0          0.000000      0  \n",
       "1          0.000000      0  \n",
       "2          0.000000      0  \n",
       "3          0.250000      0  \n",
       "4          0.250000      0  \n",
       "...             ...    ...  \n",
       "27660      0.666667      1  \n",
       "27661      0.333333      0  \n",
       "27662      0.000000      0  \n",
       "27663      0.333333      0  \n",
       "27664      0.000000      0  \n",
       "\n",
       "[27665 rows x 4 columns]"
      ],
      "text/html": "<div>\n<style scoped>\n    .dataframe tbody tr th:only-of-type {\n        vertical-align: middle;\n    }\n\n    .dataframe tbody tr th {\n        vertical-align: top;\n    }\n\n    .dataframe thead th {\n        text-align: right;\n    }\n</style>\n<table border=\"1\" class=\"dataframe\">\n  <thead>\n    <tr style=\"text-align: right;\">\n      <th></th>\n      <th>case_id</th>\n      <th>text</th>\n      <th>prop_hateful</th>\n      <th>label</th>\n    </tr>\n  </thead>\n  <tbody>\n    <tr>\n      <th>0</th>\n      <td>27044</td>\n      <td>Ah the PSYOPS antifa crew is back. That’s how ...</td>\n      <td>0.000000</td>\n      <td>0</td>\n    </tr>\n    <tr>\n      <th>1</th>\n      <td>27045</td>\n      <td>Get the new Android app update released today ...</td>\n      <td>0.000000</td>\n      <td>0</td>\n    </tr>\n    <tr>\n      <th>2</th>\n      <td>27046</td>\n      <td>Study: Google Pushes Liberal News in Top 5 Sea...</td>\n      <td>0.000000</td>\n      <td>0</td>\n    </tr>\n    <tr>\n      <th>3</th>\n      <td>27048</td>\n      <td>#Breaking: Claiming bias against conservatives...</td>\n      <td>0.250000</td>\n      <td>0</td>\n    </tr>\n    <tr>\n      <th>4</th>\n      <td>27049</td>\n      <td>“These [companies] are run by sociopaths,” he ...</td>\n      <td>0.250000</td>\n      <td>0</td>\n    </tr>\n    <tr>\n      <th>...</th>\n      <td>...</td>\n      <td>...</td>\n      <td>...</td>\n      <td>...</td>\n    </tr>\n    <tr>\n      <th>27660</th>\n      <td>7132</td>\n      <td>yeah we wont be deleting these accounts so neo...</td>\n      <td>0.666667</td>\n      <td>1</td>\n    </tr>\n    <tr>\n      <th>27661</th>\n      <td>9078</td>\n      <td>Wow, watch this yarmie wearing Jew brag about ...</td>\n      <td>0.333333</td>\n      <td>0</td>\n    </tr>\n    <tr>\n      <th>27662</th>\n      <td>9167</td>\n      <td>I'm available as a Common Sense Consultant sin...</td>\n      <td>0.000000</td>\n      <td>0</td>\n    </tr>\n    <tr>\n      <th>27663</th>\n      <td>9188</td>\n      <td>He thinks only peons own guns, you're supposed...</td>\n      <td>0.333333</td>\n      <td>0</td>\n    </tr>\n    <tr>\n      <th>27664</th>\n      <td>9222</td>\n      <td>America must stop funding the United Nations.</td>\n      <td>0.000000</td>\n      <td>0</td>\n    </tr>\n  </tbody>\n</table>\n<p>27665 rows × 4 columns</p>\n</div>"
     },
     "metadata": {},
     "execution_count": 4
    }
   ],
   "source": [
    "kennedy_df = pd.read_csv('./0_data/raw/kennedy_clean.csv', )\n",
    "kennedy_df"
   ]
  },
  {
   "cell_type": "code",
   "execution_count": 42,
   "metadata": {},
   "outputs": [
    {
     "name": "stdout",
     "output_type": "stream",
     "text": [
      "13307    Wow!  That will make me think twice about leav...\n",
      "Name: text, dtype: object\n",
      "['Wow!\\xa0 That will make me think twice about leaving electronics plugged in. ']\n"
     ]
    }
   ],
   "source": [
    "search_phrase = 'electronics plugged'\n",
    "\n",
    "print(kennedy_df[kennedy_df.text.str.contains(search_phrase)].text)\n",
    "print(kennedy_df[kennedy_df.text.str.contains(search_phrase)].text.values)"
   ]
  },
  {
   "cell_type": "code",
   "execution_count": 9,
   "metadata": {},
   "outputs": [
    {
     "data": {
      "text/plain": [
       "27553"
      ]
     },
     "execution_count": 9,
     "metadata": {},
     "output_type": "execute_result"
    }
   ],
   "source": [
    "kennedy_texts = set()\n",
    "\n",
    "for index, row in kennedy_df.iterrows():\n",
    "    #print(row.text)\n",
    "    kennedy_texts.add(row.text)#.replace('\\xa0', ' '))\n",
    "    \n",
    "len(kennedy_texts)"
   ]
  },
  {
   "cell_type": "code",
   "execution_count": 39,
   "metadata": {},
   "outputs": [],
   "source": [
    "search_phrase = 'that will make me think twice about leaving'\n",
    "\n",
    "for elem in kennedy_texts:\n",
    "    if search_phrase in elem.encode('ascii', 'ignore').decode('utf-8'):\n",
    "        print(elem.encode('ascii', 'ignore').decode('utf-8'))"
   ]
  },
  {
   "cell_type": "markdown",
   "metadata": {},
   "source": [
    "## Search Unlabelled Corpus"
   ]
  },
  {
   "cell_type": "code",
   "execution_count": 12,
   "metadata": {},
   "outputs": [
    {
     "name": "stdout",
     "output_type": "stream",
     "text": [
      "1000000 cases searched, 0 results so far\n",
      "2000000 cases searched, 0 results so far\n",
      "3000000 cases searched, 0 results so far\n",
      "4000000 cases searched, 0 results so far\n",
      "5000000 cases searched, 0 results so far\n",
      "6000000 cases searched, 0 results so far\n",
      "7000000 cases searched, 0 results so far\n",
      "8000000 cases searched, 0 results so far\n",
      "9000000 cases searched, 0 results so far\n",
      "10000000 cases searched, 0 results so far\n",
      "11000000 cases searched, 0 results so far\n",
      "12000000 cases searched, 0 results so far\n",
      "13000000 cases searched, 0 results so far\n",
      "14000000 cases searched, 0 results so far\n",
      "15000000 cases searched, 0 results so far\n",
      "16000000 cases searched, 0 results so far\n",
      "17000000 cases searched, 0 results so far\n",
      "18000000 cases searched, 0 results so far\n",
      "19000000 cases searched, 0 results so far\n",
      "20000000 cases searched, 0 results so far\n",
      "21000000 cases searched, 0 results so far\n",
      "22000000 cases searched, 0 results so far\n",
      "23000000 cases searched, 0 results so far\n",
      "24000000 cases searched, 0 results so far\n",
      "25000000 cases searched, 0 results so far\n",
      "26000000 cases searched, 0 results so far\n",
      "27000000 cases searched, 0 results so far\n",
      "28000000 cases searched, 0 results so far\n",
      "29000000 cases searched, 0 results so far\n",
      "30000000 cases searched, 0 results so far\n",
      "31000000 cases searched, 0 results so far\n",
      "32000000 cases searched, 0 results so far\n",
      "{'id': '38071532', 'text': 'Wow! That’s nice. Pretty doll.', 'created_at': '2018-10-10 02:57:59'}\n",
      "CPU times: user 2min 54s, sys: 5 s, total: 2min 59s\n",
      "Wall time: 3min 1s\n"
     ]
    },
    {
     "data": {
      "text/plain": [
       "0"
      ]
     },
     "execution_count": 12,
     "metadata": {},
     "output_type": "execute_result"
    }
   ],
   "source": [
    "%%time\n",
    "\n",
    "# search texts from unlabelled corpus and load into results set\n",
    "\n",
    "search_id = '38071532'\n",
    "\n",
    "results = set()\n",
    "counter = 0\n",
    "counter_max = 100000000000\n",
    "counter_print = 1000000\n",
    "\n",
    "# iterate over each line until counter_max\n",
    "with open('./0_data/raw/gabposts_clean_170221.csv', 'r') as read_obj:\n",
    "    csv_dict_reader = csv.DictReader(x.replace('\\0', '') for x in read_obj)\n",
    "    for row in csv_dict_reader:\n",
    "        if row['id']==search_id:\n",
    "            print(row)\n",
    "            break\n",
    "        counter+=1\n",
    "        if counter % counter_print==0:\n",
    "            print('{} cases searched, {} results so far'.format(counter,len(results)))\n",
    "        if counter > counter_max:\n",
    "            break\n",
    "\n",
    "len(results)"
   ]
  },
  {
   "cell_type": "code",
   "execution_count": 5,
   "metadata": {},
   "outputs": [
    {
     "name": "stdout",
     "output_type": "stream",
     "text": [
      "18000000 cases searched, 0 results so far\n",
      "19000000 cases searched, 0 results so far\n",
      "20000000 cases searched, 0 results so far\n",
      "21000000 cases searched, 0 results so far\n",
      "22000000 cases searched, 0 results so far\n",
      "23000000 cases searched, 0 results so far\n",
      "24000000 cases searched, 0 results so far\n",
      "25000000 cases searched, 0 results so far\n",
      "26000000 cases searched, 0 results so far\n",
      "27000000 cases searched, 0 results so far\n",
      "28000000 cases searched, 0 results so far\n",
      "29000000 cases searched, 0 results so far\n",
      "30000000 cases searched, 0 results so far\n",
      "31000000 cases searched, 0 results so far\n",
      "32000000 cases searched, 0 results so far\n",
      "33000000 cases searched, 0 results so far\n",
      "34000000 cases searched, 0 results so far\n",
      "CPU times: user 3min 13s, sys: 5.29 s, total: 3min 18s\n",
      "Wall time: 3min 20s\n"
     ]
    },
    {
     "data": {
      "text/plain": [
       "0"
      ]
     },
     "execution_count": 5,
     "metadata": {},
     "output_type": "execute_result"
    }
   ],
   "source": [
    "%%time\n",
    "\n",
    "# search texts from unlabelled corpus and load into results set\n",
    "\n",
    "search_phrase = 'making amazing finger food'\n",
    "\n",
    "results = set()\n",
    "counter = 0\n",
    "counter_max = 10000000000\n",
    "counter_print = 1000000\n",
    "\n",
    "# iterate over each line until counter_max\n",
    "with open('./0_data/raw/gabposts_clean_170221.csv', 'r') as read_obj:\n",
    "    csv_dict_reader = csv.DictReader(x.replace('\\0', '') for x in read_obj)\n",
    "    for row in csv_dict_reader:\n",
    "        if search_phrase in row['text'].lower():\n",
    "            results.add(row['text'])\n",
    "            print(row)\n",
    "        counter+=1\n",
    "        if counter % counter_print==0:\n",
    "            print('{} cases searched, {} results so far'.format(counter,len(results)))\n",
    "        if counter > counter_max:\n",
    "            break\n",
    "\n",
    "len(results)"
   ]
  },
  {
   "cell_type": "code",
   "execution_count": 49,
   "metadata": {},
   "outputs": [
    {
     "data": {
      "text/plain": [
       "set()"
      ]
     },
     "execution_count": 49,
     "metadata": {},
     "output_type": "execute_result"
    }
   ],
   "source": [
    "results"
   ]
  },
  {
   "cell_type": "markdown",
   "metadata": {},
   "source": [
    "## Load Unlabelled Corpus"
   ]
  },
  {
   "cell_type": "code",
   "execution_count": 12,
   "metadata": {},
   "outputs": [
    {
     "name": "stdout",
     "output_type": "stream",
     "text": [
      "1000000 cases\n",
      " file size: 32MB \n",
      "\n",
      "CPU times: user 5.73 s, sys: 244 ms, total: 5.97 s\n",
      "Wall time: 5.99 s\n"
     ]
    }
   ],
   "source": [
    "%%time\n",
    "\n",
    "# load texts from unlabelled corpus into set\n",
    "\n",
    "gab_texts = set()\n",
    "counter = 0\n",
    "counter_max = 1000000\n",
    "counter_print = 1000000\n",
    "\n",
    "# iterate over each line until counter_max\n",
    "with open('./Data/gabposts_clean.csv', 'r') as read_obj:\n",
    "    csv_dict_reader = csv.DictReader(x.replace('\\0', '') for x in read_obj)\n",
    "    for row in csv_dict_reader:\n",
    "        gab_texts.add(row['text'])\n",
    "        counter+=1\n",
    "        if counter % counter_print==0:\n",
    "            print('{} cases\\n file size: {:.0f}MB \\n'.format(counter, getsizeof(gab_texts)*(2**-20)))\n",
    "        if counter > counter_max:\n",
    "            break"
   ]
  },
  {
   "cell_type": "code",
   "execution_count": 6,
   "metadata": {},
   "outputs": [
    {
     "name": "stdout",
     "output_type": "stream",
     "text": [
      "Labelled:\t 27551\n",
      "Unlabelled:\t 20301884\n",
      "Matched:\t 7489\n"
     ]
    }
   ],
   "source": [
    "print(f'Labelled:\\t {len(kennedy_texts)}')\n",
    "print(f'Unlabelled:\\t {len(gab_texts)}')\n",
    "print(f'Matched:\\t {len(gab_texts.intersection(kennedy_texts))}')"
   ]
  },
  {
   "cell_type": "code",
   "execution_count": null,
   "metadata": {},
   "outputs": [],
   "source": [
    "search_phrase = ''\n",
    "\n",
    "for elem in gab_texts:\n",
    "    if search_phrase in elem:\n",
    "        print(elem)"
   ]
  },
  {
   "cell_type": "code",
   "execution_count": 8,
   "metadata": {},
   "outputs": [
    {
     "data": {
      "text/plain": [
       "True"
      ]
     },
     "execution_count": 8,
     "metadata": {},
     "output_type": "execute_result"
    }
   ],
   "source": [
    "\"FBI\" in \"Former James Comey assistant Josh Campbell's goodbye flyer at the FBI. \""
   ]
  },
  {
   "cell_type": "code",
   "execution_count": null,
   "metadata": {},
   "outputs": [],
   "source": [
    "kennedy_texts.difference(gab_texts)"
   ]
  }
 ],
 "metadata": {
  "kernelspec": {
   "display_name": "Python 3",
   "language": "python",
   "name": "python3"
  },
  "language_info": {
   "codemirror_mode": {
    "name": "ipython",
    "version": 3
   },
   "file_extension": ".py",
   "mimetype": "text/x-python",
   "name": "python",
   "nbconvert_exporter": "python",
   "pygments_lexer": "ipython3",
   "version": "3.8.5-final"
  }
 },
 "nbformat": 4,
 "nbformat_minor": 4
}